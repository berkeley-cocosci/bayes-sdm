{
 "metadata": {
  "name": "sdm-scrap"
 },
 "nbformat": 3,
 "nbformat_minor": 0,
 "worksheets": [
  {
   "cells": [
    {
     "cell_type": "code",
     "collapsed": false,
     "input": [
      "import numpy as np\n",
      "import matplotlib.pyplot as plt\n",
      "import sdm as sdm\n",
      "from util import corrupt, plot_io"
     ],
     "language": "python",
     "outputs": [],
     "prompt_number": 1
    },
    {
     "cell_type": "code",
     "collapsed": false,
     "input": [
      "data = np.load('patterns.npz')\n",
      "X = data['X']\n",
      "hi = data['hi']\n",
      "face = data['face']\n",
      "num1 = data['num1']\n",
      "num2 = data['num2']\n",
      "num3 = data['num3']\n",
      "num4 = data['num4']\n",
      "data.close()\n",
      "inputs = np.hstack([face, X, hi, num1, num2, num3, num4])\n"
     ],
     "language": "python",
     "outputs": [],
     "prompt_number": 3
    },
    {
     "cell_type": "code",
     "collapsed": false,
     "input": [
      "reload(sdm)\n",
      "mem = sdm.SDM(100, 10000, 40)\n",
      "print \"Addresses in hamming radius:\", mem._select(inputs).sum(axis=0)\n",
      "addresses = inputs.copy()\n",
      "mem.writeM(addresses, inputs)"
     ],
     "language": "python",
     "outputs": [
      {
       "output_type": "stream",
       "stream": "stdout",
       "text": [
        "Addresses in hamming radius: "
       ]
      },
      {
       "output_type": "stream",
       "stream": "stdout",
       "text": [
        "[281 318 277 284 268 293 302]\n"
       ]
      }
     ],
     "prompt_number": 4
    },
    {
     "cell_type": "code",
     "collapsed": false,
     "input": [
      "for i in xrange(7):\n",
      "    a = corrupt(addresses[:, i], 10)\n",
      "    d = mem.read(a).reshape((10, 10), order='F')\n",
      "    plt.figure(i)\n",
      "    plot_io(a.reshape((10, 10), order='F'), d)\n"
     ],
     "language": "python",
     "outputs": [
      {
       "output_type": "display_data",
       "png": "[encoded data removed]"
      },
      {
       "output_type": "display_data",
       "png": "[encoded data removed]"
      },
      {
       "output_type": "display_data",
       "png": "[encoded data removed]"
      },
      {
       "output_type": "display_data",
       "png": "[encoded data removed]"
      },
      {
       "output_type": "display_data",
       "png": "[encoded data removed]"
      },
      {
       "output_type": "display_data",
       "png": "[encoded data removed]"
      },
      {
       "output_type": "display_data",
       "png": "[encoded data removed]"
      }
     ],
     "prompt_number": 5
    },
    {
     "cell_type": "code",
     "collapsed": false,
     "input": [
      "c = 5 # amount of bits to corrupt\n",
      "n = 15 # number of exemplars\n",
      "\n",
      "exemplars = np.empty((100, n), dtype='i4')\n",
      "plt.figure(1)\n",
      "plt.clf()\n",
      "for i in xrange(n):\n",
      "    e = corrupt(face, c)\n",
      "    exemplars[:, i] = e[:, 0]\n",
      "    plt.subplot(3, 5, i+1)\n",
      "    plt.imshow(e.reshape((10, 10), order='F'), cmap='gray', interpolation='nearest')\n",
      "    plt.xticks([], [])\n",
      "    plt.yticks([], [])\n",
      "\n",
      "    "
     ],
     "language": "python",
     "outputs": [
      {
       "output_type": "display_data",
       "png": "[encoded data removed]"
      }
     ],
     "prompt_number": 10
    },
    {
     "cell_type": "code",
     "collapsed": false,
     "input": [
      "reload(sdm)\n",
      "mem = sdm.SDM(100, 10000, 40)\n",
      "addresses = exemplars.copy()\n",
      "mem.writeM(addresses, exemplars)\n",
      "\n",
      "ex = corrupt(face, c)\n",
      "for i in xrange(1):\n",
      "    proto = mem.readM(ex)\n",
      "    plt.figure()\n",
      "    plot_io(ex.reshape((10, 10), order='F'), proto.reshape((10, 10), order='F'))\n",
      "    ex = proto.copy()\n"
     ],
     "language": "python",
     "outputs": [
      {
       "output_type": "display_data",
       "png": "[encoded data removed]"
      }
     ],
     "prompt_number": 15
    }
   ]
  }
 ]
}