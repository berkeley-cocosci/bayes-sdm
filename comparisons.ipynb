{
 "metadata": {
  "name": "comparisons"
 },
 "nbformat": 3,
 "nbformat_minor": 0,
 "worksheets": [
  {
   "cells": [
    {
     "cell_type": "heading",
     "level": 1,
     "source": [
      "SDM/Hopfield Comparison Code"
     ]
    },
    {
     "cell_type": "code",
     "collapsed": false,
     "input": [
      "\"\"\"SDM/Hopfield Comparison\n",
      "\n",
      "This code compares SDM networks and Hopfield networks on various\n",
      "properties, including appropriate parameter values, storage capacity,\n",
      "\"prototype\" retrieval, and sequence retrieval.\n",
      "\n",
      "Authors: \n",
      "  Jessica Hamrick (jhamrick@berkeley.edu)\n",
      "  Josh Abbott (joshua.abbott@berkeley.edu)\n",
      "\n",
      "\"\"\"\n"
     ],
     "language": "python",
     "outputs": [
      {
       "output_type": "pyout",
       "prompt_number": 1,
       "text": [
        "'SDM/Hopfield Comparison\\n\\nThis code compares SDM networks and Hopfield networks on various\\nproperties, including appropriate parameter values, storage capacity,\\n\"prototype\" retrieval, and sequence retrieval.\\n\\nAuthors: \\n  Jessica Hamrick (jhamrick@berkeley.edu)\\n  Josh Abbott (joshua.abbott@berkeley.edu)\\n\\n'"
       ]
      }
     ],
     "prompt_number": 1
    },
    {
     "cell_type": "code",
     "collapsed": false,
     "input": [
      "import numpy as np\n",
      "import matplotlib.pyplot as plt\n",
      "import scipy.stats\n",
      "import sdm as sdm\n",
      "import hopfield as hop\n",
      "import util as util\n",
      "import metrics as metrics\n"
     ],
     "language": "python",
     "outputs": [],
     "prompt_number": 2
    },
    {
     "cell_type": "heading",
     "level": 1,
     "source": [
      "Parameters"
     ]
    },
    {
     "cell_type": "code",
     "collapsed": false,
     "input": [
      "# SDM Parameters\n",
      "# --------------\n",
      "#   n : length of inputs\n",
      "#   m : number of addresses\n",
      "#   D : hamming radius\n",
      "\n",
      "\n",
      "# Hopfield Parameters\n",
      "# -------------------\n",
      "#   n : length of inputs\n"
     ],
     "language": "python",
     "outputs": [],
     "prompt_number": 3
    },
    {
     "cell_type": "code",
     "collapsed": false,
     "input": [
      "# length of inputs\n",
      "n = 16**2\n",
      "\n",
      "# hamming distance encompasses 2.5% of addresses\n",
      "D = float((n / 2.) - (np.sqrt(n*(0.5**2)) * 1.96))\n",
      "#M = np.arange(200, 1+2000, 200)\n",
      "M = np.array([400, 800, 1600, 3200, 6400, 12800])\n",
      "\n",
      "# error thresholds\n",
      "thresh = 0.005\n",
      "# noise\n",
      "noise = np.array([0.0, 0.01, 0.02, 0.04, 0.08, 0.16])\n",
      "# number of simulations to run\n",
      "iters = 20\n",
      "\n",
      "k0 = 10\n",
      "\n",
      "colors = ['#FF0000', # red \n",
      "\t  '#FF9933', # orange\n",
      "\t  '#FFFF00', # yellow\n",
      "\t  '#00FF00', # green\n",
      "\t  '#00FFFF', # cyan\n",
      "\t  '#0000FF', # blue\n",
      "\t  '#660099', # violet\n",
      "\t  # '#FF00FF', # magenta\n",
      "\t  '#FF0099', # pink\n",
      "\t  ]\n",
      "\n",
      "verbose = True\n"
     ],
     "language": "python",
     "outputs": [],
     "prompt_number": 44
    },
    {
     "cell_type": "heading",
     "level": 1,
     "source": [
      "Uncorrupted Storage Capacity"
     ]
    },
    {
     "cell_type": "code",
     "collapsed": false,
     "input": [
      "# How many random, uncorrelated inputs can the SDM store?\n",
      "sdm_capacity = []\n",
      "for midx, m in enumerate(M):\n",
      "    print \"SDM (M=%d)\" % m\n",
      "    data = metrics.test_capacity(\n",
      "\t(int(n), int(m), float(D)), \n",
      "\tk0=k0, iters=int(iters), \n",
      "\tthresh=thresh, verbose=verbose)\n",
      "    sdm_capacity.append(data)\n"
     ],
     "language": "python",
     "outputs": [
      {
       "output_type": "stream",
       "stream": "stdout",
       "text": [
        "SDM (M=400)\n",
        "10:  0.000 +/- 0.000\n",
        "20:  0.000 +/- 0.000\n",
        "30:  0.002 +/- 0.000\n",
        "40:  0.005 +/- 0.001"
       ]
      },
      {
       "output_type": "stream",
       "stream": "stdout",
       "text": [
        "\n",
        "50:  0.008 +/- 0.000"
       ]
      },
      {
       "output_type": "stream",
       "stream": "stdout",
       "text": [
        "\n",
        "SDM (M=800)\n",
        "10:  0.000 +/- 0.000\n",
        "20:  0.000 +/- 0.000\n",
        "30:  0.000 +/- 0.000\n",
        "40:  0.000 +/- 0.000\n",
        "50:  0.001 +/- 0.000"
       ]
      },
      {
       "output_type": "stream",
       "stream": "stdout",
       "text": [
        "\n",
        "60:  0.002 +/- 0.000\n",
        "70:  0.003 +/- 0.000\n",
        "80:  0.006 +/- 0.000\n",
        "SDM (M=1600)\n",
        "10:  0.000 +/- 0.000\n",
        "20:  0.000 +/- 0.000\n",
        "30:  0.000 +/- 0.000"
       ]
      },
      {
       "output_type": "stream",
       "stream": "stdout",
       "text": [
        "\n",
        "40:  0.000 +/- 0.000\n",
        "50:  0.000 +/- 0.000\n",
        "60:  0.000 +/- 0.000\n",
        "70:  0.000 +/- 0.000\n",
        "80:  0.001 +/- 0.000\n",
        "90:  0.002 +/- 0.000"
       ]
      },
      {
       "output_type": "stream",
       "stream": "stdout",
       "text": [
        "\n",
        "100:  0.003 +/- 0.000\n",
        "110:  0.004 +/- 0.000\n",
        "120:  0.005 +/- 0.000\n",
        "130:  0.006 +/- 0.000"
       ]
      },
      {
       "output_type": "stream",
       "stream": "stdout",
       "text": [
        "\n",
        "SDM (M=3200)\n",
        "10:  0.000 +/- 0.000"
       ]
      },
      {
       "output_type": "stream",
       "stream": "stdout",
       "text": [
        "\n",
        "20:  0.000 +/- 0.000"
       ]
      },
      {
       "output_type": "stream",
       "stream": "stdout",
       "text": [
        "\n",
        "30:  0.000 +/- 0.000"
       ]
      },
      {
       "output_type": "stream",
       "stream": "stdout",
       "text": [
        "\n",
        "40:  0.000 +/- 0.000"
       ]
      },
      {
       "output_type": "stream",
       "stream": "stdout",
       "text": [
        "\n",
        "50:  0.000 +/- 0.000"
       ]
      },
      {
       "output_type": "stream",
       "stream": "stdout",
       "text": [
        "\n",
        "60:  0.000 +/- 0.000"
       ]
      },
      {
       "output_type": "stream",
       "stream": "stdout",
       "text": [
        "\n",
        "70:  0.000 +/- 0.000"
       ]
      },
      {
       "output_type": "stream",
       "stream": "stdout",
       "text": [
        "\n",
        "80:  0.000 +/- 0.000"
       ]
      },
      {
       "output_type": "stream",
       "stream": "stdout",
       "text": [
        "\n",
        "90:  0.000 +/- 0.000"
       ]
      }
     ],
     "prompt_number": "*"
    },
    {
     "cell_type": "code",
     "collapsed": false,
     "input": [
      "# How many random, uncorrelated inputs can the Hopfield net store?\n",
      "print \"Hopfield\"\n",
      "hop_capacity = metrics.test_capacity(\n",
      "    int(n), k0=k0, iters=int(iters), \n",
      "    thresh=thresh, verbose=verbose)\n"
     ],
     "language": "python",
     "outputs": [
      {
       "output_type": "stream",
       "stream": "stdout",
       "text": [
        "Hopfield\n",
        " 5:  0.000 +/- 0.000"
       ]
      },
      {
       "output_type": "stream",
       "stream": "stdout",
       "text": [
        "\n",
        "10:  0.000 +/- 0.000"
       ]
      },
      {
       "output_type": "stream",
       "stream": "stdout",
       "text": [
        "\n",
        "15:  0.000 +/- 0.000"
       ]
      },
      {
       "output_type": "stream",
       "stream": "stdout",
       "text": [
        "\n",
        "20:  0.000 +/- 0.000"
       ]
      },
      {
       "output_type": "stream",
       "stream": "stdout",
       "text": [
        "\n",
        "25:  0.000 +/- 0.000"
       ]
      },
      {
       "output_type": "stream",
       "stream": "stdout",
       "text": [
        "\n",
        "30:  0.000 +/- 0.000"
       ]
      },
      {
       "output_type": "stream",
       "stream": "stdout",
       "text": [
        "\n",
        "35:  0.001 +/- 0.000"
       ]
      },
      {
       "output_type": "stream",
       "stream": "stdout",
       "text": [
        "\n",
        "40:  0.001 +/- 0.000"
       ]
      },
      {
       "output_type": "stream",
       "stream": "stdout",
       "text": [
        "\n",
        "45:  0.002 +/- 0.000"
       ]
      },
      {
       "output_type": "stream",
       "stream": "stdout",
       "text": [
        "\n",
        "50:  0.003 +/- 0.000"
       ]
      },
      {
       "output_type": "stream",
       "stream": "stdout",
       "text": [
        "\n",
        "55:  0.004 +/- 0.000"
       ]
      },
      {
       "output_type": "stream",
       "stream": "stdout",
       "text": [
        "\n",
        "60:  0.005 +/- 0.000"
       ]
      },
      {
       "output_type": "stream",
       "stream": "stdout",
       "text": [
        "\n",
        "65:  0.006 +/- 0.000"
       ]
      },
      {
       "output_type": "stream",
       "stream": "stdout",
       "text": [
        "\n"
       ]
      }
     ],
     "prompt_number": 25
    },
    {
     "cell_type": "code",
     "collapsed": false,
     "input": [
      "# plot corruption as a function of items stored\n",
      "util.set_fig_properties()\n",
      "fig = plt.gcf()\n",
      "fig.set_figwidth(8)\n",
      "fig.set_figheight(6)\n",
      "alpha = 0.3\n",
      "\n",
      "data = hop_capacity\n",
      "loerr = data[:,0]-data[:,1]\n",
      "hierr = data[:,0]+data[:,1]\n",
      "x = k0*np.arange(1, data.shape[0]+1)\n",
      "plt.fill_between(x, loerr, hierr, color=colors[0], alpha=alpha)\n",
      "plt.plot(x, data[:,0], label='Hopfield', color=colors[0])\n",
      "\n",
      "for i in xrange(M.size):\n",
      "    data = sdm_capacity[i]\n",
      "    loerr = data[:,0]-data[:,1]\n",
      "    hierr = data[:,0]+data[:,1]\n",
      "    x = k0*np.arange(1, data.shape[0]+1)\n",
      "    plt.fill_between(x, loerr, hierr, color=colors[i+1], alpha=alpha)\n",
      "    plt.plot(x, data[:,0], label='M=%d' % M[i], color=colors[i+1])\n",
      "\n",
      "plt.ylim(0, thresh)\n",
      "plt.xlabel(\"Number of stored items\")\n",
      "plt.ylabel(\"Mean fraction of corrupted bits\")\n",
      "plt.title(\"SDM and Hopfield Capacities for Ideal Inputs (N=%d)\" % n)\n",
      "plt.legend(loc=0)\n"
     ],
     "language": "python",
     "outputs": [
      {
       "output_type": "pyout",
       "prompt_number": 26,
       "text": [
        "<matplotlib.legend.Legend at 0x1080a5710>"
       ]
      },
      {
       "output_type": "display_data",
       "png": "[encoded data removed]"
      }
     ],
     "prompt_number": 26
    },
    {
     "cell_type": "heading",
     "level": 1,
     "source": [
      "Noise Tolerance"
     ]
    },
    {
     "cell_type": "code",
     "collapsed": false,
     "input": [
      "# How many random, uncorrelated inputs can the SDM store and be able\n",
      "# to retrieve even with corruption?\n",
      "m = 12800\n",
      "sdm_tolerance = []\n",
      "hop_tolerance = []\n",
      "for nidx, err in enumerate(noise):\n",
      "    print \"SDM (M=%d) w/ %f%% corruption\" % (m, err*100)\n",
      "    sdm_tolerance.append(metrics.test_noise_tolerance(\n",
      "\t(int(n), int(m), float(D)), \n",
      "\tk0=k0, noise=float(err),\n",
      "\titers=int(iters), thresh=thresh, verbose=verbose))\n",
      "    print \"Hopfield w/ %f%% corruption\" % (err*100)\n",
      "    hop_tolerance.append(metrics.test_noise_tolerance(\n",
      "\tint(n), k0=k0, noise=float(err),\n",
      "\titers=int(iters), thresh=thresh, verbose=verbose))\n"
     ],
     "language": "python",
     "outputs": [
      {
       "output_type": "stream",
       "stream": "stdout",
       "text": [
        "SDM (M=1600) w/ 0.000000% corruption\n",
        " 5:  0.000 +/- 0.000\n",
        "10:  0.000 +/- 0.000"
       ]
      },
      {
       "output_type": "stream",
       "stream": "stdout",
       "text": [
        "\n",
        "15:  0.000 +/- 0.000\n",
        "20:  0.000 +/- 0.000\n",
        "25:  0.000 +/- 0.000"
       ]
      },
      {
       "output_type": "stream",
       "stream": "stdout",
       "text": [
        "\n",
        "30:  0.000 +/- 0.000\n",
        "35:  0.000 +/- 0.000\n",
        "40:  0.000 +/- 0.000\n",
        "45:  0.000 +/- 0.000"
       ]
      },
      {
       "output_type": "stream",
       "stream": "stdout",
       "text": [
        "\n",
        "50:  0.000 +/- 0.000\n",
        "55:  0.000 +/- 0.000\n",
        "60:  0.000 +/- 0.000"
       ]
      },
      {
       "output_type": "stream",
       "stream": "stdout",
       "text": [
        "\n",
        "65:  0.000 +/- 0.000\n",
        "70:  0.000 +/- 0.000\n",
        "75:  0.001 +/- 0.000"
       ]
      },
      {
       "output_type": "stream",
       "stream": "stdout",
       "text": [
        "\n",
        "80:  0.001 +/- 0.000\n",
        "85:  0.001 +/- 0.000\n",
        "90:  0.002 +/- 0.000"
       ]
      },
      {
       "output_type": "stream",
       "stream": "stdout",
       "text": [
        "\n",
        "95:  0.002 +/- 0.000\n",
        "100:  0.003 +/- 0.000\n",
        "105:  0.003 +/- 0.000"
       ]
      },
      {
       "output_type": "stream",
       "stream": "stdout",
       "text": [
        "\n",
        "110:  0.004 +/- 0.000\n",
        "115:  0.004 +/- 0.000\n",
        "120:  0.005 +/- 0.000\n",
        "125:  0.005 +/- 0.000"
       ]
      },
      {
       "output_type": "stream",
       "stream": "stdout",
       "text": [
        "\n",
        "Hopfield w/ 0.000000% corruption\n",
        " 5:  0.000 +/- 0.000\n",
        "10:  0.000 +/- 0.000\n",
        "15:  0.000 +/- 0.000"
       ]
      },
      {
       "output_type": "stream",
       "stream": "stdout",
       "text": [
        "\n",
        "20:  0.000 +/- 0.000\n",
        "25:  0.000 +/- 0.000\n",
        "30:  0.000 +/- 0.000\n",
        "35:  0.001 +/- 0.000"
       ]
      },
      {
       "output_type": "stream",
       "stream": "stdout",
       "text": [
        "\n",
        "40:  0.001 +/- 0.000\n",
        "45:  0.002 +/- 0.000\n",
        "50:  0.003 +/- 0.000\n",
        "55:  0.004 +/- 0.000"
       ]
      },
      {
       "output_type": "stream",
       "stream": "stdout",
       "text": [
        "\n",
        "60:  0.005 +/- 0.000\n",
        "65:  0.006 +/- 0.000\n",
        "SDM (M=1600) w/ 1.000000% corruption\n",
        " 5:  0.000 +/- 0.000"
       ]
      },
      {
       "output_type": "stream",
       "stream": "stdout",
       "text": [
        "\n",
        "10:  0.000 +/- 0.000"
       ]
      },
      {
       "output_type": "stream",
       "stream": "stdout",
       "text": [
        "\n",
        "15:  0.000 +/- 0.000"
       ]
      },
      {
       "output_type": "stream",
       "stream": "stdout",
       "text": [
        "\n",
        "20:  0.000 +/- 0.000"
       ]
      },
      {
       "output_type": "stream",
       "stream": "stdout",
       "text": [
        "\n",
        "25:  0.000 +/- 0.000"
       ]
      },
      {
       "output_type": "stream",
       "stream": "stdout",
       "text": [
        "\n",
        "30:  0.000 +/- 0.000"
       ]
      },
      {
       "output_type": "stream",
       "stream": "stdout",
       "text": [
        "\n",
        "35:  0.000 +/- 0.000"
       ]
      },
      {
       "output_type": "stream",
       "stream": "stdout",
       "text": [
        "\n",
        "40:  0.000 +/- 0.000"
       ]
      },
      {
       "output_type": "stream",
       "stream": "stdout",
       "text": [
        "\n",
        "45:  0.000 +/- 0.000"
       ]
      },
      {
       "output_type": "stream",
       "stream": "stdout",
       "text": [
        "\n",
        "50:  0.001 +/- 0.000"
       ]
      },
      {
       "output_type": "stream",
       "stream": "stdout",
       "text": [
        "\n",
        "55:  0.001 +/- 0.000"
       ]
      },
      {
       "output_type": "stream",
       "stream": "stdout",
       "text": [
        "\n",
        "60:  0.001 +/- 0.000"
       ]
      },
      {
       "output_type": "stream",
       "stream": "stdout",
       "text": [
        "\n",
        "65:  0.002 +/- 0.000"
       ]
      },
      {
       "output_type": "stream",
       "stream": "stdout",
       "text": [
        "\n",
        "70:  0.002 +/- 0.000"
       ]
      },
      {
       "output_type": "stream",
       "stream": "stdout",
       "text": [
        "\n",
        "75:  0.003 +/- 0.000"
       ]
      },
      {
       "output_type": "stream",
       "stream": "stdout",
       "text": [
        "\n",
        "80:  0.004 +/- 0.000"
       ]
      },
      {
       "output_type": "stream",
       "stream": "stdout",
       "text": [
        "\n",
        "85:  0.005 +/- 0.000"
       ]
      },
      {
       "output_type": "stream",
       "stream": "stdout",
       "text": [
        "\n",
        "90:  0.006 +/- 0.000"
       ]
      },
      {
       "output_type": "stream",
       "stream": "stdout",
       "text": [
        "\n",
        "Hopfield w/ 1.000000% corruption\n",
        " 5:  0.000 +/- 0.000"
       ]
      },
      {
       "output_type": "stream",
       "stream": "stdout",
       "text": [
        "\n",
        "10:  0.000 +/- 0.000"
       ]
      },
      {
       "output_type": "stream",
       "stream": "stdout",
       "text": [
        "\n",
        "15:  0.000 +/- 0.000"
       ]
      },
      {
       "output_type": "stream",
       "stream": "stdout",
       "text": [
        "\n",
        "20:  0.000 +/- 0.000"
       ]
      },
      {
       "output_type": "stream",
       "stream": "stdout",
       "text": [
        "\n",
        "25:  0.000 +/- 0.000"
       ]
      },
      {
       "output_type": "stream",
       "stream": "stdout",
       "text": [
        "\n",
        "30:  0.001 +/- 0.000"
       ]
      },
      {
       "output_type": "stream",
       "stream": "stdout",
       "text": [
        "\n",
        "35:  0.001 +/- 0.000"
       ]
      },
      {
       "output_type": "stream",
       "stream": "stdout",
       "text": [
        "\n",
        "40:  0.002 +/- 0.000"
       ]
      },
      {
       "output_type": "stream",
       "stream": "stdout",
       "text": [
        "\n",
        "45:  0.003 +/- 0.000"
       ]
      },
      {
       "output_type": "stream",
       "stream": "stdout",
       "text": [
        "\n",
        "50:  0.004 +/- 0.000"
       ]
      },
      {
       "output_type": "stream",
       "stream": "stdout",
       "text": [
        "\n",
        "55:  0.005 +/- 0.000"
       ]
      },
      {
       "output_type": "stream",
       "stream": "stdout",
       "text": [
        "\n",
        "60:  0.006 +/- 0.000"
       ]
      },
      {
       "output_type": "stream",
       "stream": "stdout",
       "text": [
        "\n",
        "SDM (M=1600) w/ 2.000000% corruption\n",
        " 5:  0.000 +/- 0.000"
       ]
      },
      {
       "output_type": "stream",
       "stream": "stdout",
       "text": [
        "\n",
        "10:  0.000 +/- 0.000"
       ]
      },
      {
       "output_type": "stream",
       "stream": "stdout",
       "text": [
        "\n",
        "15:  0.000 +/- 0.000"
       ]
      },
      {
       "output_type": "stream",
       "stream": "stdout",
       "text": [
        "\n",
        "20:  0.000 +/- 0.000"
       ]
      },
      {
       "output_type": "stream",
       "stream": "stdout",
       "text": [
        "\n",
        "25:  0.000 +/- 0.000"
       ]
      },
      {
       "output_type": "stream",
       "stream": "stdout",
       "text": [
        "\n",
        "30:  0.000 +/- 0.000"
       ]
      },
      {
       "output_type": "stream",
       "stream": "stdout",
       "text": [
        "\n",
        "35:  0.000 +/- 0.000"
       ]
      },
      {
       "output_type": "stream",
       "stream": "stdout",
       "text": [
        "\n",
        "40:  0.001 +/- 0.000"
       ]
      },
      {
       "output_type": "stream",
       "stream": "stdout",
       "text": [
        "\n",
        "45:  0.002 +/- 0.000"
       ]
      },
      {
       "output_type": "stream",
       "stream": "stdout",
       "text": [
        "\n",
        "50:  0.003 +/- 0.000"
       ]
      },
      {
       "output_type": "stream",
       "stream": "stdout",
       "text": [
        "\n",
        "55:  0.004 +/- 0.000"
       ]
      },
      {
       "output_type": "stream",
       "stream": "stdout",
       "text": [
        "\n",
        "60:  0.006 +/- 0.000"
       ]
      },
      {
       "output_type": "stream",
       "stream": "stdout",
       "text": [
        "\n",
        "Hopfield w/ 2.000000% corruption\n",
        " 5:  0.000 +/- 0.000"
       ]
      },
      {
       "output_type": "stream",
       "stream": "stdout",
       "text": [
        "\n",
        "10:  0.000 +/- 0.000"
       ]
      },
      {
       "output_type": "stream",
       "stream": "stdout",
       "text": [
        "\n",
        "15:  0.000 +/- 0.000"
       ]
      },
      {
       "output_type": "stream",
       "stream": "stdout",
       "text": [
        "\n",
        "20:  0.001 +/- 0.000"
       ]
      },
      {
       "output_type": "stream",
       "stream": "stdout",
       "text": [
        "\n",
        "25:  0.001 +/- 0.000"
       ]
      },
      {
       "output_type": "stream",
       "stream": "stdout",
       "text": [
        "\n",
        "30:  0.001 +/- 0.000"
       ]
      },
      {
       "output_type": "stream",
       "stream": "stdout",
       "text": [
        "\n",
        "35:  0.002 +/- 0.000"
       ]
      },
      {
       "output_type": "stream",
       "stream": "stdout",
       "text": [
        "\n",
        "40:  0.003 +/- 0.000"
       ]
      },
      {
       "output_type": "stream",
       "stream": "stdout",
       "text": [
        "\n",
        "45:  0.004 +/- 0.000"
       ]
      },
      {
       "output_type": "stream",
       "stream": "stdout",
       "text": [
        "\n",
        "50:  0.005 +/- 0.000"
       ]
      },
      {
       "output_type": "stream",
       "stream": "stdout",
       "text": [
        "\n",
        "55:  0.006 +/- 0.000"
       ]
      },
      {
       "output_type": "stream",
       "stream": "stdout",
       "text": [
        "\n",
        "SDM (M=1600) w/ 4.000000% corruption\n",
        " 5:  0.000 +/- 0.000"
       ]
      },
      {
       "output_type": "stream",
       "stream": "stdout",
       "text": [
        "\n",
        "10:  0.000 +/- 0.000"
       ]
      },
      {
       "output_type": "stream",
       "stream": "stdout",
       "text": [
        "\n",
        "15:  0.000 +/- 0.000"
       ]
      },
      {
       "output_type": "stream",
       "stream": "stdout",
       "text": [
        "\n",
        "20:  0.000 +/- 0.000"
       ]
      },
      {
       "output_type": "stream",
       "stream": "stdout",
       "text": [
        "\n",
        "25:  0.001 +/- 0.000"
       ]
      },
      {
       "output_type": "stream",
       "stream": "stdout",
       "text": [
        "\n",
        "30:  0.001 +/- 0.000"
       ]
      },
      {
       "output_type": "stream",
       "stream": "stdout",
       "text": [
        "\n",
        "35:  0.002 +/- 0.000"
       ]
      },
      {
       "output_type": "stream",
       "stream": "stdout",
       "text": [
        "\n",
        "40:  0.004 +/- 0.000"
       ]
      },
      {
       "output_type": "stream",
       "stream": "stdout",
       "text": [
        "\n",
        "45:  0.005 +/- 0.000"
       ]
      },
      {
       "output_type": "stream",
       "stream": "stdout",
       "text": [
        "\n",
        "50:  0.007 +/- 0.000"
       ]
      },
      {
       "output_type": "stream",
       "stream": "stdout",
       "text": [
        "\n",
        "Hopfield w/ 4.000000% corruption\n",
        " 5:  0.001 +/- 0.000"
       ]
      },
      {
       "output_type": "stream",
       "stream": "stdout",
       "text": [
        "\n",
        "10:  0.001 +/- 0.000"
       ]
      },
      {
       "output_type": "stream",
       "stream": "stdout",
       "text": [
        "\n",
        "15:  0.001 +/- 0.000"
       ]
      },
      {
       "output_type": "stream",
       "stream": "stdout",
       "text": [
        "\n",
        "20:  0.001 +/- 0.000"
       ]
      },
      {
       "output_type": "stream",
       "stream": "stdout",
       "text": [
        "\n",
        "25:  0.001 +/- 0.000"
       ]
      },
      {
       "output_type": "stream",
       "stream": "stdout",
       "text": [
        "\n",
        "30:  0.002 +/- 0.000"
       ]
      },
      {
       "output_type": "stream",
       "stream": "stdout",
       "text": [
        "\n",
        "35:  0.004 +/- 0.000"
       ]
      },
      {
       "output_type": "stream",
       "stream": "stdout",
       "text": [
        "\n",
        "40:  0.004 +/- 0.000"
       ]
      },
      {
       "output_type": "stream",
       "stream": "stdout",
       "text": [
        "\n",
        "45:  0.006 +/- 0.000"
       ]
      },
      {
       "output_type": "stream",
       "stream": "stdout",
       "text": [
        "\n",
        "SDM (M=1600) w/ 8.000000% corruption\n",
        " 5:  0.000 +/- 0.000"
       ]
      },
      {
       "output_type": "stream",
       "stream": "stdout",
       "text": [
        "\n",
        "10:  0.000 +/- 0.000"
       ]
      },
      {
       "output_type": "stream",
       "stream": "stdout",
       "text": [
        "\n",
        "15:  0.000 +/- 0.000"
       ]
      },
      {
       "output_type": "stream",
       "stream": "stdout",
       "text": [
        "\n",
        "20:  0.002 +/- 0.000"
       ]
      },
      {
       "output_type": "stream",
       "stream": "stdout",
       "text": [
        "\n",
        "25:  0.005 +/- 0.000"
       ]
      },
      {
       "output_type": "stream",
       "stream": "stdout",
       "text": [
        "\n",
        "30:  0.008 +/- 0.001"
       ]
      },
      {
       "output_type": "stream",
       "stream": "stdout",
       "text": [
        "\n",
        "Hopfield w/ 8.000000% corruption\n",
        " 5:  0.002 +/- 0.000"
       ]
      },
      {
       "output_type": "stream",
       "stream": "stdout",
       "text": [
        "\n",
        "10:  0.002 +/- 0.000"
       ]
      },
      {
       "output_type": "stream",
       "stream": "stdout",
       "text": [
        "\n",
        "15:  0.002 +/- 0.000"
       ]
      },
      {
       "output_type": "stream",
       "stream": "stdout",
       "text": [
        "\n",
        "20:  0.002 +/- 0.000"
       ]
      },
      {
       "output_type": "stream",
       "stream": "stdout",
       "text": [
        "\n",
        "25:  0.003 +/- 0.000"
       ]
      },
      {
       "output_type": "stream",
       "stream": "stdout",
       "text": [
        "\n",
        "30:  0.005 +/- 0.000"
       ]
      },
      {
       "output_type": "stream",
       "stream": "stdout",
       "text": [
        "\n",
        "35:  0.007 +/- 0.000"
       ]
      },
      {
       "output_type": "stream",
       "stream": "stdout",
       "text": [
        "\n",
        "SDM (M=1600) w/ 16.000000% corruption\n",
        " 5:  0.002 +/- 0.001"
       ]
      },
      {
       "output_type": "stream",
       "stream": "stdout",
       "text": [
        "\n",
        "10:  0.008 +/- 0.002"
       ]
      },
      {
       "output_type": "stream",
       "stream": "stdout",
       "text": [
        "\n",
        "Hopfield w/ 16.000000% corruption\n",
        " 5:  0.003 +/- 0.000"
       ]
      },
      {
       "output_type": "stream",
       "stream": "stdout",
       "text": [
        "\n",
        "10:  0.003 +/- 0.000"
       ]
      },
      {
       "output_type": "stream",
       "stream": "stdout",
       "text": [
        "\n",
        "15:  0.004 +/- 0.000"
       ]
      },
      {
       "output_type": "stream",
       "stream": "stdout",
       "text": [
        "\n",
        "20:  0.007 +/- 0.000"
       ]
      },
      {
       "output_type": "stream",
       "stream": "stdout",
       "text": [
        "\n"
       ]
      }
     ],
     "prompt_number": 28
    },
    {
     "cell_type": "code",
     "collapsed": false,
     "input": [
      "# plot the storage capacity as a function of address space size\n",
      "util.set_fig_properties()\n",
      "fig = plt.gcf()\n",
      "fig.set_figwidth(10)\n",
      "fig.set_figheight(8)\n",
      "\n",
      "for nidx, err in enumerate(noise):\n",
      "    data = hop_tolerance[nidx]\n",
      "    x = k0*np.arange(1, data.shape[0]+1)\n",
      "    loerr = data[:, 0] - data[:, 1]\n",
      "    hierr = data[:, 0] + data[:, 1]\n",
      "    plt.fill_between(x, loerr, hierr, color=colors[nidx], alpha=alpha)\n",
      "    plt.plot(x, data[:, 0], color=colors[nidx], linestyle='--', \n",
      "\t     label=\"Hop %d%% corruption\" % (err*100))\n",
      "\n",
      "    data = sdm_tolerance[nidx]\n",
      "    x = k0*np.arange(1, data.shape[0]+1)\n",
      "    loerr = data[:, 0] - data[:, 1]\n",
      "    hierr = data[:, 0] + data[:, 1]\n",
      "    plt.fill_between(x, loerr, hierr, color=colors[nidx], alpha=alpha)\n",
      "    plt.plot(x, data[:, 0], color=colors[nidx], linestyle='-', \n",
      "\t     label=\"SDM %d%% corruption\" % (err*100))\n",
      "\n",
      "plt.xlim(5, 135)\n",
      "plt.ylim(0, thresh)\n",
      "plt.xlabel(\"Number of stored items\")\n",
      "plt.ylabel(\"Fraction of corrupted bits\")\n",
      "plt.title(\"SDM (M=%d) and Hopfield Error Tolerance (N=%d)\" % (m, n))\n",
      "plt.legend(loc=0)\n",
      "\n"
     ],
     "language": "python",
     "outputs": [
      {
       "output_type": "pyout",
       "prompt_number": 43,
       "text": [
        "<matplotlib.legend.Legend at 0x10bc71710>"
       ]
      },
      {
       "output_type": "display_data",
       "png": "[encoded data removed]"
      }
     ],
     "prompt_number": 43
    },
    {
     "cell_type": "heading",
     "level": 1,
     "source": [
      "Prototype Retrieval"
     ]
    },
    {
     "cell_type": "code",
     "collapsed": false,
     "input": [
      "reload(metrics)\n",
      "\n",
      "# How well can the SDM/Hopfield net store prototypes?\n",
      "m = 10000\n",
      "kp = 10\n",
      "iters = 100\n",
      "prototype_noise = np.arange(.05, 0.45, 0.05)\n",
      "prototype_k = np.array([5, 10, 20])\n",
      "sdm_prototype = np.empty(\n",
      "\t(prototype_noise.size, prototype_k.size))\n",
      "hop_prototype = np.empty(\n",
      "\t(prototype_noise.size, prototype_k.size))\n",
      "for nidx, err in enumerate(prototype_noise):\n",
      "    for kidx, k in enumerate(prototype_k):\n",
      "\tp = metrics.test_prototype(\n",
      "\t    (int(n), int(m), float(D)), \n",
      "\t    kp=kp, ke=int(k), noise=float(err),\n",
      "\t    iters=int(iters), verbose=verbose)\n",
      "\tsdm_prototype[nidx, kidx] = p\n",
      "\tprint \"%2d ex.: SDM prototype corruption is %f (%d%% corruption)\" % (k, p, err*100)\n",
      "\tp = metrics.test_prototype(\n",
      "\t    int(n), kp=kp, ke=int(k), noise=float(err),\n",
      "\t    iters=int(iters), verbose=verbose)\n",
      "\thop_prototype[nidx, kidx] = p\n",
      "\tprint \"%2d ex.: Hopfield prototype corruption is %f (%d%% corruption)\" % (k, p, err*100)\n",
      "    print"
     ],
     "language": "python",
     "outputs": [
      {
       "output_type": "stream",
       "stream": "stdout",
       "text": [
        "10  5:  0.01 +/- 0.00\n",
        " 5 ex.: SDM prototype corruption is 0.014800 (5% corruption)\n",
        "10  5:  0.02 +/- 0.00\n",
        " 5 ex.: Hopfield prototype corruption is 0.023100 (5% corruption)\n",
        "\n",
        "10  5:  0.05 +/- 0.00\n",
        " 5 ex.: SDM prototype corruption is 0.049500 (10% corruption)\n",
        "10  5:  0.06 +/- 0.00\n",
        " 5 ex.: Hopfield prototype corruption is 0.056400 (10% corruption)\n",
        "\n",
        "10  5:  0.12 +/- 0.00"
       ]
      },
      {
       "output_type": "stream",
       "stream": "stdout",
       "text": [
        "\n",
        " 5 ex.: SDM prototype corruption is 0.117500 (15% corruption)\n",
        "10  5:  0.10 +/- 0.00"
       ]
      },
      {
       "output_type": "stream",
       "stream": "stdout",
       "text": [
        "\n",
        " 5 ex.: Hopfield prototype corruption is 0.100900 (15% corruption)\n",
        "\n",
        "10  5:  0.21 +/- 0.00"
       ]
      },
      {
       "output_type": "stream",
       "stream": "stdout",
       "text": [
        "\n",
        " 5 ex.: SDM prototype corruption is 0.209900 (20% corruption)\n",
        "10  5:  0.17 +/- 0.00"
       ]
      },
      {
       "output_type": "stream",
       "stream": "stdout",
       "text": [
        "\n",
        " 5 ex.: Hopfield prototype corruption is 0.169900 (20% corruption)\n",
        "\n",
        "10  5:  0.31 +/- 0.00"
       ]
      },
      {
       "output_type": "stream",
       "stream": "stdout",
       "text": [
        "\n",
        " 5 ex.: SDM prototype corruption is 0.307700 (25% corruption)\n",
        "10  5:  0.26 +/- 0.00"
       ]
      },
      {
       "output_type": "stream",
       "stream": "stdout",
       "text": [
        "\n",
        " 5 ex.: Hopfield prototype corruption is 0.255700 (25% corruption)\n",
        "\n",
        "10  5:  0.39 +/- 0.00"
       ]
      },
      {
       "output_type": "stream",
       "stream": "stdout",
       "text": [
        "\n",
        " 5 ex.: SDM prototype corruption is 0.388400 (30% corruption)\n",
        "10  5:  0.36 +/- 0.00"
       ]
      },
      {
       "output_type": "stream",
       "stream": "stdout",
       "text": [
        "\n",
        " 5 ex.: Hopfield prototype corruption is 0.358400 (30% corruption)\n",
        "\n",
        "10  5:  0.45 +/- 0.00"
       ]
      },
      {
       "output_type": "stream",
       "stream": "stdout",
       "text": [
        "\n",
        " 5 ex.: SDM prototype corruption is 0.451300 (35% corruption)\n",
        "10  5:  0.45 +/- 0.00"
       ]
      },
      {
       "output_type": "stream",
       "stream": "stdout",
       "text": [
        "\n",
        " 5 ex.: Hopfield prototype corruption is 0.445600 (35% corruption)\n",
        "\n",
        "10  5:  0.50 +/- 0.00"
       ]
      },
      {
       "output_type": "stream",
       "stream": "stdout",
       "text": [
        "\n",
        " 5 ex.: SDM prototype corruption is 0.500400 (40% corruption)\n",
        "10  5:  0.50 +/- 0.00"
       ]
      },
      {
       "output_type": "stream",
       "stream": "stdout",
       "text": [
        "\n",
        " 5 ex.: Hopfield prototype corruption is 0.502400 (40% corruption)\n",
        "\n"
       ]
      }
     ],
     "prompt_number": 28
    },
    {
     "cell_type": "code",
     "collapsed": false,
     "input": [
      " plt.clf()\n",
      "\n",
      "plt.subplot(1, 3, 1)\n",
      "plt.imshow(\n",
      "    1-sdm_prototype, \n",
      "    cmap='gray', interpolation='nearest', vmin=0.5, vmax=1)\n",
      "plt.xticks(np.arange(prototype_k.size), prototype_k)\n",
      "plt.yticks(np.arange(prototype_noise.size), prototype_noise)\n",
      "plt.title(\"SDM (M=%d)\" % m)\n",
      "plt.xlabel(\"Exemplars\")\n",
      "plt.ylabel(\"Percent Corruption\")\n",
      "\n",
      "plt.subplot(1, 3, 2)\n",
      "plt.imshow(\n",
      "    1-hop_prototype, \n",
      "    cmap='gray', interpolation='nearest', vmin=0.5, vmax=1)\n",
      "plt.xticks(np.arange(prototype_k.size), prototype_k)\n",
      "plt.yticks(np.arange(prototype_noise.size), [])\n",
      "plt.title(\"Hopfield\")\n",
      "plt.xlabel(\"Exemplars\")\n",
      "\n",
      "plt.subplot(1, 3, 3)\n",
      "diff = hop_prototype-sdm_prototype\n",
      "plt.imshow(\n",
      "    np.sign(diff)*(1.5**np.log(np.abs(diff))), \n",
      "    cmap='RdBu', interpolation='nearest', vmin=-0.5, vmax=0.5)\n",
      "plt.xticks(np.arange(prototype_k.size), prototype_k)\n",
      "plt.yticks(np.arange(prototype_noise.size), [])\n",
      "plt.title(\"Hopfield-SDM\")\n",
      "plt.xlabel(\"Exemplars\")\n",
      "\n"
     ],
     "language": "python",
     "outputs": []
    },
    {
     "cell_type": "heading",
     "level": 1,
     "source": [
      "Sequence Retrieval"
     ]
    },
    {
     "cell_type": "code",
     "collapsed": false,
     "input": [],
     "language": "python",
     "outputs": []
    },
    {
     "cell_type": "code",
     "collapsed": false,
     "input": [
      "# # plot the storage capacity as a function of address space size\n",
      "# util.set_fig_properties()\n",
      "# data = np.hstack([hop_capacity, sdm_capacity])\n",
      "# x = np.arange(data.size)\n",
      "# labels = np.hstack([\"Hop.\", M.astype('str')])\n",
      "\n",
      "# plt.bar(x[:1], data[:1], align='center', color='r')\n",
      "# plt.bar(x[1:], data[1:], align='center', color='b')\n",
      "\n",
      "# plt.xticks(x, labels)\n",
      "# plt.xlim(-1, data.size)\n",
      "# plt.xlabel(\"M (# addresses)\")\n",
      "# plt.ylabel(\"Capacity (# uncorrupted items)\")\n",
      "# plt.title(\"SDM and Hopfield Capacities (N=%d)\" % n)\n",
      "# plt.legend(loc=0)\n"
     ],
     "language": "python",
     "outputs": [
      {
       "output_type": "stream",
       "stream": "stderr",
       "text": [
        "/usr/local/lib/python2.7/site-packages/matplotlib/axes.py:4638: UserWarning: No labeled objects found. Use label='...' kwarg on individual plots.\n",
        "  warnings.warn(\"No labeled objects found. \"\n"
       ]
      },
      {
       "output_type": "display_data",
       "png": "[encoded data removed]"
      }
     ],
     "prompt_number": 7
    },
    {
     "cell_type": "code",
     "collapsed": false,
     "input": [
      "# # plot the utilization as a function of address space size\n",
      "# util.set_fig_properties()\n",
      "# data = np.hstack([100*hop_capacity/float(n), 100*sdm_capacity/M.astype('f8')])\n",
      "# x = np.arange(data.size)\n",
      "# labels = np.hstack([\"Hop.\", M.astype('str')])\n",
      "\n",
      "# plt.bar(x[:1], data[:1], align='center', color='r')\n",
      "# plt.bar(x[1:], data[1:], align='center', color='b')\n",
      "\n",
      "# plt.xticks(x, labels)\n",
      "# plt.xlim(-1, data.size)\n",
      "# plt.xlabel(\"M (# addresses)\")\n",
      "# plt.ylabel(\"Percent Utilization\")\n",
      "# plt.title(\"SDM and Hopfield Utilizations (N=%d)\" % n)\n",
      "# plt.legend(loc=0)\n"
     ],
     "language": "python",
     "outputs": [],
     "prompt_number": 9
    }
   ]
  }
 ]
}