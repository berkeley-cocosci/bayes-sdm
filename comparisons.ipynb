{
 "metadata": {
  "name": "comparisons"
 },
 "nbformat": 3,
 "nbformat_minor": 0,
 "worksheets": [
  {
   "cells": [
    {
     "cell_type": "heading",
     "level": 1,
     "source": [
      "SDM/Hopfield Comparison Code"
     ]
    },
    {
     "cell_type": "code",
     "collapsed": false,
     "input": [
      "\"\"\"SDM/Hopfield Comparison\n",
      "\n",
      "This code compares SDM networks and Hopfield networks on various\n",
      "properties, including appropriate parameter values, storage capacity,\n",
      "\"prototype\" retrieval, and sequence retrieval.\n",
      "\n",
      "Authors: \n",
      "  Jessica Hamrick (jhamrick@berkeley.edu)\n",
      "  Josh Abbott (joshua.abbott@berkeley.edu)\n",
      "\n",
      "\"\"\"\n"
     ],
     "language": "python",
     "outputs": [
      {
       "output_type": "pyout",
       "prompt_number": 1,
       "text": [
        "'SDM/Hopfield Comparison\\n\\nThis code compares SDM networks and Hopfield networks on various\\nproperties, including appropriate parameter values, storage capacity,\\n\"prototype\" retrieval, and sequence retrieval.\\n\\nAuthors: \\n  Jessica Hamrick (jhamrick@berkeley.edu)\\n  Josh Abbott (joshua.abbott@berkeley.edu)\\n\\n'"
       ]
      }
     ],
     "prompt_number": 1
    },
    {
     "cell_type": "code",
     "collapsed": false,
     "input": [
      "import numpy as np\n",
      "import matplotlib.pyplot as plt\n",
      "import scipy.stats\n",
      "import sdm as sdm\n",
      "import hopfield as hop\n",
      "import util as util\n",
      "import metrics as metrics\n"
     ],
     "language": "python",
     "outputs": [],
     "prompt_number": 2
    },
    {
     "cell_type": "heading",
     "level": 1,
     "source": [
      "Parameters"
     ]
    },
    {
     "cell_type": "code",
     "collapsed": false,
     "input": [
      "# SDM Parameters\n",
      "# --------------\n",
      "#   n : length of inputs\n",
      "#   m : number of addresses\n",
      "#   D : hamming radius\n",
      "\n",
      "\n",
      "# Hopfield Parameters\n",
      "# -------------------\n",
      "#   n : length of inputs\n"
     ],
     "language": "python",
     "outputs": [],
     "prompt_number": 3
    },
    {
     "cell_type": "code",
     "collapsed": false,
     "input": [
      "# length of inputs\n",
      "n = 100\n",
      "\n",
      "# hamming distance encompasses 2.5% of addresses\n",
      "D = float((n / 2.) - (np.sqrt(n*(0.5**2)) * 1.96))\n",
      "M = np.arange(200, 1+2000, 200)\n",
      "\n",
      "# error thresholds\n",
      "thresh = 0.0\n",
      "\n",
      "# noise\n",
      "noise = np.array([0.0, 0.01, 0.02, 0.04, 0.08, 0.16])\n",
      "\n",
      "# number of simulations to run\n",
      "iters = 100\n",
      "\n",
      "colors = ['b', 'g', 'r', 'c', 'm', 'y', 'k']\n"
     ],
     "language": "python",
     "outputs": [],
     "prompt_number": 50
    },
    {
     "cell_type": "heading",
     "level": 1,
     "source": [
      "Uncorrupted Storage Capacity"
     ]
    },
    {
     "cell_type": "code",
     "collapsed": false,
     "input": [
      "# How many random, uncorrelated inputs can the SDM store?\n",
      "sdm_capacity = np.empty(M.size)\n",
      "k = 1\n",
      "for midx, m in enumerate(M):\n",
      "    k = metrics.test_capacity(\n",
      "\t(int(n), int(m), float(D)), \n",
      "\tk=int(k), iters=int(iters), \n",
      "\tthresh=thresh, verbose=False) - 1\n",
      "    sdm_capacity[midx] = k\n",
      "    print \"SDM (m=%d) capacity is %d\" % (m, k)\n"
     ],
     "language": "python",
     "outputs": [
      {
       "output_type": "stream",
       "stream": "stdout",
       "text": [
        "SDM (m=200) capacity is 3\n",
        "SDM (m=400) capacity is 9"
       ]
      },
      {
       "output_type": "stream",
       "stream": "stdout",
       "text": [
        "\n",
        "SDM (m=600) capacity is 15"
       ]
      },
      {
       "output_type": "stream",
       "stream": "stdout",
       "text": [
        "\n",
        "SDM (m=800) capacity is 17\n",
        "SDM (m=1000) capacity is 22"
       ]
      },
      {
       "output_type": "stream",
       "stream": "stdout",
       "text": [
        "\n",
        "SDM (m=1200) capacity is 24\n",
        "SDM (m=1400) capacity is 29"
       ]
      },
      {
       "output_type": "stream",
       "stream": "stdout",
       "text": [
        "\n",
        "SDM (m=1600) capacity is 31\n",
        "SDM (m=1800) capacity is 31\n",
        "SDM (m=2000) capacity is 32"
       ]
      },
      {
       "output_type": "stream",
       "stream": "stdout",
       "text": [
        "\n"
       ]
      }
     ],
     "prompt_number": 51
    },
    {
     "cell_type": "code",
     "collapsed": false,
     "input": [
      "# How many random, uncorrelated inputs can the Hopfield net store?\n",
      "k = metrics.test_capacity(\n",
      "    int(n), k=1, iters=int(iters), \n",
      "    thresh=thresh, verbose=False) - 1\n",
      "hop_capacity = k\n",
      "print \"Hopfield capacity is %d\" % k\n"
     ],
     "language": "python",
     "outputs": [
      {
       "output_type": "stream",
       "stream": "stdout",
       "text": [
        "Hopfield capacity is 9\n"
       ]
      }
     ],
     "prompt_number": 52
    },
    {
     "cell_type": "code",
     "collapsed": false,
     "input": [
      "# plot the storage capacity as a function of address space size\n",
      "util.set_fig_properties()\n",
      "data = np.hstack([hop_capacity, sdm_capacity])\n",
      "x = np.arange(data.size)\n",
      "labels = np.hstack([\"Hop.\", M])\n",
      "\n",
      "plt.bar(x[:1], data[:1], align='center', color='r')\n",
      "plt.bar(x[1:], data[1:], align='center', color='b')\n",
      "\n",
      "plt.xticks(x, labels)\n",
      "plt.xlim(-1, data.size)\n",
      "plt.xlabel(\"M (# addresses)\")\n",
      "plt.ylabel(\"Capacity (# uncorrupted items)\")\n",
      "plt.title(\"SDM and Hopfield Capacities (N=%d)\" % n)\n",
      "plt.legend(loc=0)\n"
     ],
     "language": "python",
     "outputs": [
      {
       "output_type": "display_data",
       "png": "[encoded data removed]"
      }
     ],
     "prompt_number": 53
    },
    {
     "cell_type": "code",
     "collapsed": false,
     "input": [
      "# plot the utilization as a function of address space size\n",
      "util.set_fig_properties()\n",
      "data = np.hstack([100*hop_capacity/float(n), 100*sdm_capacity/M.astype('f8')])\n",
      "x = np.arange(data.size)\n",
      "labels = np.hstack([\"Hop.\", M])\n",
      "\n",
      "plt.bar(x[:1], data[:1], align='center', color='r')\n",
      "plt.bar(x[1:], data[1:], align='center', color='b')\n",
      "\n",
      "plt.xticks(x, labels)\n",
      "plt.xlim(-1, data.size)\n",
      "plt.xlabel(\"M (# addresses)\")\n",
      "plt.ylabel(\"Percent Utilization\")\n",
      "plt.title(\"SDM and Hopfield Utilizations (N=%d)\" % n)\n",
      "plt.legend(loc=0)\n"
     ],
     "language": "python",
     "outputs": [
      {
       "output_type": "display_data",
       "png": "[encoded data removed]"
      }
     ],
     "prompt_number": 54
    },
    {
     "cell_type": "heading",
     "level": 1,
     "source": [
      "Noise Tolerance"
     ]
    },
    {
     "cell_type": "code",
     "collapsed": false,
     "input": [
      "# How many random, uncorrelated inputs can the SDM store and be able\n",
      "# to retrieve even with corruption?\n",
      "sdm_tolerance = np.empty((noise.size, M.size))\n",
      "for nidx, err in enumerate(noise):\n",
      "    k = 1\n",
      "    for midx, m in enumerate(M):\n",
      "\tk = metrics.test_noise_tolerance(\n",
      "\t    (int(n), int(m), float(D)), \n",
      "\t    k=int(k), noise=float(err),\n",
      "\t    iters=int(iters), thresh=thresh, verbose=False) - 1\n",
      "\tsdm_tolerance[nidx, midx] = k\n",
      "\tprint \"SDM (m=%d) capacity is %d (%d%% corruption)\" % (m, k, err*100)\n"
     ],
     "language": "python",
     "outputs": [
      {
       "output_type": "stream",
       "stream": "stdout",
       "text": [
        "m=200 : capacity is 3 (0% corruption)\n",
        "m=400 : capacity is 8 (0% corruption)"
       ]
      },
      {
       "output_type": "stream",
       "stream": "stdout",
       "text": [
        "\n",
        "m=600 : capacity is 13 (0% corruption)"
       ]
      },
      {
       "output_type": "stream",
       "stream": "stdout",
       "text": [
        "\n",
        "m=800 : capacity is 19 (0% corruption)"
       ]
      },
      {
       "output_type": "stream",
       "stream": "stdout",
       "text": [
        "\n",
        "m=1000 : capacity is 21 (0% corruption)"
       ]
      },
      {
       "output_type": "stream",
       "stream": "stdout",
       "text": [
        "\n",
        "m=1200 : capacity is 24 (0% corruption)"
       ]
      },
      {
       "output_type": "stream",
       "stream": "stdout",
       "text": [
        "\n",
        "m=1400 : capacity is 28 (0% corruption)"
       ]
      },
      {
       "output_type": "stream",
       "stream": "stdout",
       "text": [
        "\n",
        "m=1600 : capacity is 30 (0% corruption)"
       ]
      },
      {
       "output_type": "stream",
       "stream": "stdout",
       "text": [
        "\n",
        "m=1800 : capacity is 30 (0% corruption)"
       ]
      },
      {
       "output_type": "stream",
       "stream": "stdout",
       "text": [
        "\n",
        "m=2000 : capacity is 31 (0% corruption)"
       ]
      },
      {
       "output_type": "stream",
       "stream": "stdout",
       "text": [
        "\n",
        "m=200 : capacity is 1 (1% corruption)\n",
        "m=400 : capacity is 4 (1% corruption)\n",
        "m=600 : capacity is 7 (1% corruption)"
       ]
      },
      {
       "output_type": "stream",
       "stream": "stdout",
       "text": [
        "\n",
        "m=800 : capacity is 7 (1% corruption)"
       ]
      },
      {
       "output_type": "stream",
       "stream": "stdout",
       "text": [
        "\n",
        "m=1000 : capacity is 14 (1% corruption)"
       ]
      },
      {
       "output_type": "stream",
       "stream": "stdout",
       "text": [
        "\n",
        "m=1200 : capacity is 15 (1% corruption)"
       ]
      },
      {
       "output_type": "stream",
       "stream": "stdout",
       "text": [
        "\n",
        "m=1400 : capacity is 16 (1% corruption)"
       ]
      },
      {
       "output_type": "stream",
       "stream": "stdout",
       "text": [
        "\n",
        "m=1600 : capacity is 17 (1% corruption)"
       ]
      },
      {
       "output_type": "stream",
       "stream": "stdout",
       "text": [
        "\n",
        "m=1800 : capacity is 18 (1% corruption)"
       ]
      },
      {
       "output_type": "stream",
       "stream": "stdout",
       "text": [
        "\n",
        "m=2000 : capacity is 18 (1% corruption)"
       ]
      },
      {
       "output_type": "stream",
       "stream": "stdout",
       "text": [
        "\n",
        "m=200 : capacity is 1 (2% corruption)\n",
        "m=400 : capacity is 4 (2% corruption)"
       ]
      },
      {
       "output_type": "stream",
       "stream": "stdout",
       "text": [
        "\n",
        "m=600 : capacity is 7 (2% corruption)"
       ]
      },
      {
       "output_type": "stream",
       "stream": "stdout",
       "text": [
        "\n",
        "m=800 : capacity is 9 (2% corruption)"
       ]
      },
      {
       "output_type": "stream",
       "stream": "stdout",
       "text": [
        "\n",
        "m=1000 : capacity is 11 (2% corruption)"
       ]
      },
      {
       "output_type": "stream",
       "stream": "stdout",
       "text": [
        "\n",
        "m=1200 : capacity is 13 (2% corruption)"
       ]
      },
      {
       "output_type": "stream",
       "stream": "stdout",
       "text": [
        "\n",
        "m=1400 : capacity is 13 (2% corruption)"
       ]
      },
      {
       "output_type": "stream",
       "stream": "stdout",
       "text": [
        "\n",
        "m=1600 : capacity is 15 (2% corruption)"
       ]
      },
      {
       "output_type": "stream",
       "stream": "stdout",
       "text": [
        "\n",
        "m=1800 : capacity is 17 (2% corruption)"
       ]
      },
      {
       "output_type": "stream",
       "stream": "stdout",
       "text": [
        "\n",
        "m=2000 : capacity is 17 (2% corruption)"
       ]
      },
      {
       "output_type": "stream",
       "stream": "stdout",
       "text": [
        "\n",
        "m=200 : capacity is 1 (4% corruption)\n",
        "m=400 : capacity is 2 (4% corruption)\n",
        "m=600 : capacity is 4 (4% corruption)"
       ]
      },
      {
       "output_type": "stream",
       "stream": "stdout",
       "text": [
        "\n",
        "m=800 : capacity is 5 (4% corruption)"
       ]
      },
      {
       "output_type": "stream",
       "stream": "stdout",
       "text": [
        "\n",
        "m=1000 : capacity is 6 (4% corruption)"
       ]
      },
      {
       "output_type": "stream",
       "stream": "stdout",
       "text": [
        "\n",
        "m=1200 : capacity is 9 (4% corruption)"
       ]
      },
      {
       "output_type": "stream",
       "stream": "stdout",
       "text": [
        "\n",
        "m=1400 : capacity is 10 (4% corruption)"
       ]
      },
      {
       "output_type": "stream",
       "stream": "stdout",
       "text": [
        "\n",
        "m=1600 : capacity is 11 (4% corruption)"
       ]
      },
      {
       "output_type": "stream",
       "stream": "stdout",
       "text": [
        "\n",
        "m=1800 : capacity is 12 (4% corruption)"
       ]
      },
      {
       "output_type": "stream",
       "stream": "stdout",
       "text": [
        "\n",
        "m=2000 : capacity is 14 (4% corruption)"
       ]
      },
      {
       "output_type": "stream",
       "stream": "stdout",
       "text": [
        "\n",
        "m=200 : capacity is 1 (8% corruption)\n",
        "m=400 : capacity is 3 (8% corruption)"
       ]
      },
      {
       "output_type": "stream",
       "stream": "stdout",
       "text": [
        "\n",
        "m=600 : capacity is 4 (8% corruption)\n",
        "m=800 : capacity is 4 (8% corruption)\n",
        "m=1000 : capacity is 4 (8% corruption)"
       ]
      },
      {
       "output_type": "stream",
       "stream": "stdout",
       "text": [
        "\n",
        "m=1200 : capacity is 5 (8% corruption)"
       ]
      },
      {
       "output_type": "stream",
       "stream": "stdout",
       "text": [
        "\n",
        "m=1400 : capacity is 6 (8% corruption)"
       ]
      },
      {
       "output_type": "stream",
       "stream": "stdout",
       "text": [
        "\n",
        "m=1600 : capacity is 7 (8% corruption)"
       ]
      },
      {
       "output_type": "stream",
       "stream": "stdout",
       "text": [
        "\n",
        "m=1800 : capacity is 9 (8% corruption)"
       ]
      },
      {
       "output_type": "stream",
       "stream": "stdout",
       "text": [
        "\n",
        "m=2000 : capacity is 9 (8% corruption)"
       ]
      },
      {
       "output_type": "stream",
       "stream": "stdout",
       "text": [
        "\n",
        "m=200 : capacity is 1 (16% corruption)\n",
        "m=400 : capacity is 1 (16% corruption)\n",
        "m=600 : capacity is 2 (16% corruption)"
       ]
      },
      {
       "output_type": "stream",
       "stream": "stdout",
       "text": [
        "\n",
        "m=800 : capacity is 2 (16% corruption)\n",
        "m=1000 : capacity is 3 (16% corruption)"
       ]
      },
      {
       "output_type": "stream",
       "stream": "stdout",
       "text": [
        "\n",
        "m=1200 : capacity is 3 (16% corruption)"
       ]
      },
      {
       "output_type": "stream",
       "stream": "stdout",
       "text": [
        "\n",
        "m=1400 : capacity is 3 (16% corruption)"
       ]
      },
      {
       "output_type": "stream",
       "stream": "stdout",
       "text": [
        "\n",
        "m=1600 : capacity is 4 (16% corruption)"
       ]
      },
      {
       "output_type": "stream",
       "stream": "stdout",
       "text": [
        "\n",
        "m=1800 : capacity is 4 (16% corruption)"
       ]
      },
      {
       "output_type": "stream",
       "stream": "stdout",
       "text": [
        "\n",
        "m=2000 : capacity is 6 (16% corruption)"
       ]
      },
      {
       "output_type": "stream",
       "stream": "stdout",
       "text": [
        "\n"
       ]
      }
     ],
     "prompt_number": 55
    },
    {
     "cell_type": "code",
     "collapsed": false,
     "input": [
      "# How many random, uncorrelated inputs can the Hopfield net store and\n",
      "# be able to retrieve even with corruption?\n",
      "hop_tolerance = np.empty(noise.size)\n",
      "k = 1\n",
      "for nidx, err in enumerate(noise):\n",
      "    k = metrics.test_noise_tolerance(\n",
      "\tint(n), k=1, noise=float(err),\n",
      "\titers=int(iters), thresh=thresh, verbose=False) - 1\n",
      "    hop_tolerance[nidx] = k\n",
      "    print \"Hopfield capacity is %d (%d%% corruption)\" % (k, err*100)\n"
     ],
     "language": "python",
     "outputs": [
      {
       "output_type": "stream",
       "stream": "stdout",
       "text": [
        "Hopfield capacity is 8 (0% corruption)\n",
        "Hopfield capacity is 7 (1% corruption)"
       ]
      },
      {
       "output_type": "stream",
       "stream": "stdout",
       "text": [
        "\n",
        "Hopfield capacity is 7 (2% corruption)"
       ]
      },
      {
       "output_type": "stream",
       "stream": "stdout",
       "text": [
        "\n",
        "Hopfield capacity is 7 (4% corruption)"
       ]
      },
      {
       "output_type": "stream",
       "stream": "stdout",
       "text": [
        "\n",
        "Hopfield capacity is 7 (8% corruption)"
       ]
      },
      {
       "output_type": "stream",
       "stream": "stdout",
       "text": [
        "\n",
        "Hopfield capacity is 5 (16% corruption)"
       ]
      },
      {
       "output_type": "stream",
       "stream": "stdout",
       "text": [
        "\n"
       ]
      }
     ],
     "prompt_number": 56
    },
    {
     "cell_type": "code",
     "collapsed": false,
     "input": [
      "# plot the storage capacity as a function of address space size\n",
      "util.set_fig_properties()\n",
      "data = np.hstack([hop_tolerance[:, None], sdm_tolerance])\n",
      "x = np.arange(data.shape[1])\n",
      "labels = np.hstack([\"Hop.\", M])\n",
      "\n",
      "for nidx, err in enumerate(noise):\n",
      "    f = nidx / (len(noise)-1.)\n",
      "    scolor = (f, f, 1)\n",
      "    hcolor = (1, f, f)\n",
      "    plt.bar(x[:1], data[nidx, :1], align='center', color=hcolor)\n",
      "    plt.bar(x[1:], data[nidx, 1:], align='center', color=scolor)\n",
      "\n",
      "plt.xticks(x, labels)\n",
      "plt.xlim(-1, x.size)\n",
      "plt.xlabel(\"M (# addresses)\")\n",
      "plt.ylabel(\"Capacity (# uncorrupted items)\")\n",
      "plt.title(\"SDM and Hopfield Error Tolerance (N=%d)\" % n)\n",
      "plt.legend(loc=0)\n",
      "\n"
     ],
     "language": "python",
     "outputs": [
      {
       "output_type": "display_data",
       "png": "[encoded data removed]"
      }
     ],
     "prompt_number": 57
    },
    {
     "cell_type": "heading",
     "level": 1,
     "source": [
      "Prototype Retrieval"
     ]
    },
    {
     "cell_type": "code",
     "collapsed": false,
     "input": [],
     "language": "python",
     "outputs": []
    },
    {
     "cell_type": "heading",
     "level": 1,
     "source": [
      "Sequence Retrieval"
     ]
    },
    {
     "cell_type": "code",
     "collapsed": false,
     "input": [],
     "language": "python",
     "outputs": []
    }
   ]
  }
 ]
}