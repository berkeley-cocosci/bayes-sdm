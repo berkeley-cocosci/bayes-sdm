{
 "metadata": {
  "name": "comparisons"
 },
 "nbformat": 3,
 "nbformat_minor": 0,
 "worksheets": [
  {
   "cells": [
    {
     "cell_type": "heading",
     "level": 1,
     "source": [
      "SDM/Hopfield Comparison Code"
     ]
    },
    {
     "cell_type": "code",
     "collapsed": false,
     "input": [
      "\"\"\"SDM/Hopfield Comparison\n",
      "\n",
      "This code compares SDM networks and Hopfield networks on various\n",
      "properties, including appropriate parameter values, storage capacity,\n",
      "\"prototype\" retrieval, and sequence retrieval.\n",
      "\n",
      "Authors: \n",
      "  Jessica Hamrick (jhamrick@berkeley.edu)\n",
      "  Josh Abbott (joshua.abbott@berkeley.edu)\n",
      "\n",
      "\"\"\"\n"
     ],
     "language": "python",
     "outputs": [
      {
       "output_type": "pyout",
       "prompt_number": 1,
       "text": [
        "'SDM/Hopfield Comparison\\n\\nThis code compares SDM networks and Hopfield networks on various\\nproperties, including appropriate parameter values, storage capacity,\\n\"prototype\" retrieval, and sequence retrieval.\\n\\nAuthors: \\n  Jessica Hamrick (jhamrick@berkeley.edu)\\n  Josh Abbott (joshua.abbott@berkeley.edu)\\n\\n'"
       ]
      }
     ],
     "prompt_number": 1
    },
    {
     "cell_type": "code",
     "collapsed": false,
     "input": [
      "import numpy as np\n",
      "import matplotlib.pyplot as plt\n",
      "import scipy.stats\n",
      "import sdm as sdm\n",
      "import hopfield as hop\n",
      "import util as util\n",
      "import metrics as metrics\n"
     ],
     "language": "python",
     "outputs": [],
     "prompt_number": 2
    },
    {
     "cell_type": "heading",
     "level": 1,
     "source": [
      "Parameters"
     ]
    },
    {
     "cell_type": "code",
     "collapsed": false,
     "input": [
      "# SDM Parameters\n",
      "# --------------\n",
      "#   n : length of inputs\n",
      "#   m : number of addresses\n",
      "#   D : hamming radius\n",
      "\n",
      "\n",
      "# Hopfield Parameters\n",
      "# -------------------\n",
      "#   n : length of inputs\n"
     ],
     "language": "python",
     "outputs": [],
     "prompt_number": 3
    },
    {
     "cell_type": "code",
     "collapsed": false,
     "input": [
      "# length of inputs\n",
      "n = 100\n",
      "\n",
      "# hamming distance encompasses 2.5% of addresses\n",
      "D = float((n / 2.) - (np.sqrt(n*(0.5**2)) * 1.96))\n",
      "#M = np.arange(200, 1+2000, 200)\n",
      "#M = np.array([200, 400, 800, 1600, 3200, 6400, 12800])\n",
      "M = np.array([200, 400])\n",
      "\n",
      "# error thresholds\n",
      "thresh = 0.0\n",
      "# noise\n",
      "noise = np.array([0.0, 0.01, 0.02, 0.04, 0.08, 0.16])\n",
      "# number of simulations to run\n",
      "iters = 100\n",
      "\n",
      "verbose = True\n"
     ],
     "language": "python",
     "outputs": [],
     "prompt_number": 4
    },
    {
     "cell_type": "heading",
     "level": 1,
     "source": [
      "Uncorrupted Storage Capacity"
     ]
    },
    {
     "cell_type": "code",
     "collapsed": false,
     "input": [
      "# How many random, uncorrelated inputs can the SDM store?\n",
      "sdm_capacity = np.empty(M.size)\n",
      "k = 1\n",
      "for midx, m in enumerate(M):\n",
      "    k = metrics.test_capacity(\n",
      "\t(int(n), int(m), float(D)), \n",
      "\tk=int(k), iters=int(iters), \n",
      "\tthresh=thresh, verbose=verbose) - 1\n",
      "    sdm_capacity[midx] = k\n",
      "    print \"SDM (m=%d) capacity is %d\" % (m, k)\n"
     ],
     "language": "python",
     "outputs": [
      {
       "output_type": "stream",
       "stream": "stdout",
       "text": [
        " 1:  0.00 +/- 0.00\n",
        " 2:  0.00 +/- 0.00\n",
        " 3:  0.01 +/- 0.00\n",
        "SDM (m=200) capacity is 3\n",
        " 3:  0.00 +/- 0.00\n",
        " 4:  0.00 +/- 0.00"
       ]
      },
      {
       "output_type": "stream",
       "stream": "stdout",
       "text": [
        "\n",
        " 5:  0.00 +/- 0.00\n",
        " 6:  0.00 +/- 0.00\n",
        " 7:  0.00 +/- 0.00\n",
        " 8:  0.00 +/- 0.00"
       ]
      },
      {
       "output_type": "stream",
       "stream": "stdout",
       "text": [
        "\n",
        " 9:  0.00 +/- 0.00\n",
        "SDM (m=400) capacity is 9\n"
       ]
      }
     ],
     "prompt_number": 5
    },
    {
     "cell_type": "code",
     "collapsed": false,
     "input": [
      "# How many random, uncorrelated inputs can the Hopfield net store?\n",
      "k = metrics.test_capacity(\n",
      "    int(n), k=1, iters=int(iters), \n",
      "    thresh=thresh, verbose=verbose) - 1\n",
      "hop_capacity = k\n",
      "print \"Hopfield capacity is %d\" % k\n"
     ],
     "language": "python",
     "outputs": [
      {
       "output_type": "stream",
       "stream": "stdout",
       "text": [
        " 1:  0.00 +/- 0.00\n",
        " 2:  0.00 +/- 0.00\n",
        " 3:  0.00 +/- 0.00\n",
        " 4:  0.00 +/- 0.00\n",
        " 5:  0.00 +/- 0.00\n",
        " 6:  0.00 +/- 0.00"
       ]
      },
      {
       "output_type": "stream",
       "stream": "stdout",
       "text": [
        "\n",
        " 7:  0.00 +/- 0.00\n",
        " 8:  0.00 +/- 0.00\n",
        " 9:  0.00 +/- 0.00\n",
        "Hopfield capacity is 9\n"
       ]
      }
     ],
     "prompt_number": 6
    },
    {
     "cell_type": "code",
     "collapsed": false,
     "input": [
      "# plot the storage capacity as a function of address space size\n",
      "util.set_fig_properties()\n",
      "data = np.hstack([hop_capacity, sdm_capacity])\n",
      "x = np.arange(data.size)\n",
      "labels = np.hstack([\"Hop.\", M.astype('str')])\n",
      "\n",
      "plt.bar(x[:1], data[:1], align='center', color='r')\n",
      "plt.bar(x[1:], data[1:], align='center', color='b')\n",
      "\n",
      "plt.xticks(x, labels)\n",
      "plt.xlim(-1, data.size)\n",
      "plt.xlabel(\"M (# addresses)\")\n",
      "plt.ylabel(\"Capacity (# uncorrupted items)\")\n",
      "plt.title(\"SDM and Hopfield Capacities (N=%d)\" % n)\n",
      "plt.legend(loc=0)\n"
     ],
     "language": "python",
     "outputs": [
      {
       "output_type": "stream",
       "stream": "stderr",
       "text": [
        "/usr/local/lib/python2.7/site-packages/matplotlib/axes.py:4638: UserWarning: No labeled objects found. Use label='...' kwarg on individual plots.\n",
        "  warnings.warn(\"No labeled objects found. \"\n"
       ]
      },
      {
       "output_type": "display_data",
       "png": "[encoded data removed]"
      }
     ],
     "prompt_number": 7
    },
    {
     "cell_type": "code",
     "collapsed": false,
     "input": [
      "# plot the utilization as a function of address space size\n",
      "util.set_fig_properties()\n",
      "data = np.hstack([100*hop_capacity/float(n), 100*sdm_capacity/M.astype('f8')])\n",
      "x = np.arange(data.size)\n",
      "labels = np.hstack([\"Hop.\", M.astype('str')])\n",
      "\n",
      "plt.bar(x[:1], data[:1], align='center', color='r')\n",
      "plt.bar(x[1:], data[1:], align='center', color='b')\n",
      "\n",
      "plt.xticks(x, labels)\n",
      "plt.xlim(-1, data.size)\n",
      "plt.xlabel(\"M (# addresses)\")\n",
      "plt.ylabel(\"Percent Utilization\")\n",
      "plt.title(\"SDM and Hopfield Utilizations (N=%d)\" % n)\n",
      "plt.legend(loc=0)\n"
     ],
     "language": "python",
     "outputs": [
      {
       "output_type": "display_data",
       "png": "[encoded data removed]"
      }
     ],
     "prompt_number": 8
    },
    {
     "cell_type": "heading",
     "level": 1,
     "source": [
      "Noise Tolerance"
     ]
    },
    {
     "cell_type": "code",
     "collapsed": false,
     "input": [
      "# How many random, uncorrelated inputs can the SDM store and be able\n",
      "# to retrieve even with corruption?\n",
      "sdm_tolerance = np.empty((noise.size, M.size))\n",
      "for nidx, err in enumerate(noise):\n",
      "    k = 1\n",
      "    for midx, m in enumerate(M):\n",
      "\tk = metrics.test_noise_tolerance(\n",
      "\t    (int(n), int(m), float(D)), \n",
      "\t    k=int(k), noise=float(err),\n",
      "\t    iters=int(iters), thresh=thresh, verbose=verbose) - 1\n",
      "\tsdm_tolerance[nidx, midx] = k\n",
      "\tprint \"SDM (m=%d) capacity is %d (%d%% corruption)\" % (m, k, err*100)\n"
     ],
     "language": "python",
     "outputs": [
      {
       "output_type": "stream",
       "stream": "stdout",
       "text": [
        " 1:  0.00 +/- 0.00\n",
        " 2:  0.00 +/- 0.00\n",
        " 3:  0.01 +/- 0.00\n",
        "SDM (m=200) capacity is 3 (0% corruption)\n",
        " 3:  0.00 +/- 0.00"
       ]
      },
      {
       "output_type": "stream",
       "stream": "stdout",
       "text": [
        "\n",
        " 4:  0.00 +/- 0.00\n",
        " 5:  0.00 +/- 0.00\n",
        " 6:  0.00 +/- 0.00\n",
        " 7:  0.00 +/- 0.00"
       ]
      },
      {
       "output_type": "stream",
       "stream": "stdout",
       "text": [
        "\n",
        " 8:  0.00 +/- 0.00\n",
        " 9:  0.00 +/- 0.00\n",
        "SDM (m=400) capacity is 9 (0% corruption)\n",
        " 1:  0.00 +/- 0.00"
       ]
      },
      {
       "output_type": "stream",
       "stream": "stdout",
       "text": [
        "\n",
        "SDM (m=200) capacity is 1 (1% corruption)\n",
        " 1:  0.00 +/- 0.00"
       ]
      },
      {
       "output_type": "stream",
       "stream": "stdout",
       "text": [
        "\n",
        " 2:  0.00 +/- 0.00"
       ]
      },
      {
       "output_type": "stream",
       "stream": "stdout",
       "text": [
        "\n",
        " 3:  0.00 +/- 0.00"
       ]
      },
      {
       "output_type": "stream",
       "stream": "stdout",
       "text": [
        "\n",
        "SDM (m=400) capacity is 3 (1% corruption)\n",
        " 1:  0.00 +/- 0.00"
       ]
      },
      {
       "output_type": "stream",
       "stream": "stdout",
       "text": [
        "\n",
        " 2:  0.02 +/- 0.01"
       ]
      },
      {
       "output_type": "stream",
       "stream": "stdout",
       "text": [
        "\n",
        "SDM (m=200) capacity is 2 (2% corruption)\n",
        " 2:  0.00 +/- 0.00"
       ]
      },
      {
       "output_type": "stream",
       "stream": "stdout",
       "text": [
        "\n",
        " 3:  0.00 +/- 0.00"
       ]
      },
      {
       "output_type": "stream",
       "stream": "stdout",
       "text": [
        "\n",
        " 4:  0.00 +/- 0.00"
       ]
      },
      {
       "output_type": "stream",
       "stream": "stdout",
       "text": [
        "\n",
        "SDM (m=400) capacity is 4 (2% corruption)\n",
        " 1:  0.02 +/- 0.01\n",
        "SDM (m=200) capacity is 1 (4% corruption)\n",
        " 1:  0.01 +/- 0.01"
       ]
      },
      {
       "output_type": "stream",
       "stream": "stdout",
       "text": [
        "\n",
        "SDM (m=400) capacity is 1 (4% corruption)\n",
        " 1:  0.04 +/- 0.01"
       ]
      },
      {
       "output_type": "stream",
       "stream": "stdout",
       "text": [
        "\n",
        "SDM (m=200) capacity is 1 (8% corruption)\n",
        " 1:  0.00 +/- 0.00"
       ]
      },
      {
       "output_type": "stream",
       "stream": "stdout",
       "text": [
        "\n",
        " 2:  0.00 +/- 0.00"
       ]
      },
      {
       "output_type": "stream",
       "stream": "stdout",
       "text": [
        "\n",
        " 3:  0.02 +/- 0.01"
       ]
      },
      {
       "output_type": "stream",
       "stream": "stdout",
       "text": [
        "\n",
        "SDM (m=400) capacity is 3 (8% corruption)\n",
        " 1:  0.09 +/- 0.02\n",
        "SDM (m=200) capacity is 1 (16% corruption)\n",
        " 1:  0.02 +/- 0.01"
       ]
      },
      {
       "output_type": "stream",
       "stream": "stdout",
       "text": [
        "\n",
        "SDM (m=400) capacity is 1 (16% corruption)\n"
       ]
      }
     ],
     "prompt_number": 9
    },
    {
     "cell_type": "code",
     "collapsed": false,
     "input": [
      "# How many random, uncorrelated inputs can the Hopfield net store and\n",
      "# be able to retrieve even with corruption?\n",
      "hop_tolerance = np.empty(noise.size)\n",
      "k = 1\n",
      "for nidx, err in enumerate(noise):\n",
      "    k = metrics.test_noise_tolerance(\n",
      "\tint(n), k=1, noise=float(err),\n",
      "\titers=int(iters), thresh=thresh, verbose=verbose) - 1\n",
      "    hop_tolerance[nidx] = k\n",
      "    print \"Hopfield capacity is %d (%d%% corruption)\" % (k, err*100)\n"
     ],
     "language": "python",
     "outputs": [
      {
       "output_type": "stream",
       "stream": "stdout",
       "text": [
        " 1:  0.00 +/- 0.00\n",
        " 2:  0.00 +/- 0.00\n",
        " 3:  0.00 +/- 0.00\n",
        " 4:  0.00 +/- 0.00"
       ]
      },
      {
       "output_type": "stream",
       "stream": "stdout",
       "text": [
        "\n",
        " 5:  0.00 +/- 0.00\n",
        " 6:  0.00 +/- 0.00\n",
        " 7:  0.00 +/- 0.00\n",
        " 8:  0.00 +/- 0.00\n",
        " 9:  0.00 +/- 0.00"
       ]
      },
      {
       "ename": "TypeError",
       "evalue": "ufunc 'bitwise_xor' not supported for the input types, and the inputs could not be safely coerced to any supported types according to the casting rule ''safe''",
       "output_type": "pyerr",
       "traceback": [
        "\u001b[0;31m---------------------------------------------------------------------------\u001b[0m\n\u001b[0;31mTypeError\u001b[0m                                 Traceback (most recent call last)",
        "\u001b[0;32m<ipython-input-10-9265009dcf9b>\u001b[0m in \u001b[0;36m<module>\u001b[0;34m()\u001b[0m\n\u001b[1;32m      6\u001b[0m     k = metrics.test_noise_tolerance(\n\u001b[1;32m      7\u001b[0m         \u001b[0mint\u001b[0m\u001b[0;34m(\u001b[0m\u001b[0mn\u001b[0m\u001b[0;34m)\u001b[0m\u001b[0;34m,\u001b[0m \u001b[0mk\u001b[0m\u001b[0;34m=\u001b[0m\u001b[0;36m1\u001b[0m\u001b[0;34m,\u001b[0m \u001b[0mnoise\u001b[0m\u001b[0;34m=\u001b[0m\u001b[0mfloat\u001b[0m\u001b[0;34m(\u001b[0m\u001b[0merr\u001b[0m\u001b[0;34m)\u001b[0m\u001b[0;34m,\u001b[0m\u001b[0;34m\u001b[0m\u001b[0m\n\u001b[0;32m----> 8\u001b[0;31m \titers=int(iters), thresh=thresh, verbose=verbose) - 1\n\u001b[0m\u001b[1;32m      9\u001b[0m     \u001b[0mhop_tolerance\u001b[0m\u001b[0;34m[\u001b[0m\u001b[0mnidx\u001b[0m\u001b[0;34m]\u001b[0m \u001b[0;34m=\u001b[0m \u001b[0mk\u001b[0m\u001b[0;34m\u001b[0m\u001b[0m\n\u001b[1;32m     10\u001b[0m     \u001b[0;32mprint\u001b[0m \u001b[0;34m\"Hopfield capacity is %d (%d%% corruption)\"\u001b[0m \u001b[0;34m%\u001b[0m \u001b[0;34m(\u001b[0m\u001b[0mk\u001b[0m\u001b[0;34m,\u001b[0m \u001b[0merr\u001b[0m\u001b[0;34m*\u001b[0m\u001b[0;36m100\u001b[0m\u001b[0;34m)\u001b[0m\u001b[0;34m\u001b[0m\u001b[0m\n",
        "\u001b[0;32m/Users/jhamrick/project/bayes-sdm/metrics.py\u001b[0m in \u001b[0;36mtest_noise_tolerance\u001b[0;34m(params, k, noise, iters, thresh, verbose)\u001b[0m\n\u001b[1;32m    134\u001b[0m         \u001b[0;31m# compute noise tolerance\u001b[0m\u001b[0;34m\u001b[0m\u001b[0;34m\u001b[0m\u001b[0m\n\u001b[1;32m    135\u001b[0m         corruption = testfunc(\n\u001b[0;32m--> 136\u001b[0;31m             params, k=k, noise=noise, iters=iters)\n\u001b[0m\u001b[1;32m    137\u001b[0m \u001b[0;34m\u001b[0m\u001b[0m\n\u001b[1;32m    138\u001b[0m         \u001b[0;31m# compute statistics about the distances\u001b[0m\u001b[0;34m\u001b[0m\u001b[0;34m\u001b[0m\u001b[0m\n",
        "\u001b[0;32m/usr/local/lib/python2.7/site-packages/joblib/memory.pyc\u001b[0m in \u001b[0;36m__call__\u001b[0;34m(self, *args, **kwargs)\u001b[0m\n\u001b[1;32m    161\u001b[0m                           \u001b[0;34m'directory %s'\u001b[0m\u001b[0;34m\u001b[0m\u001b[0m\n\u001b[1;32m    162\u001b[0m                         % (name, argument_hash, output_dir))\n\u001b[0;32m--> 163\u001b[0;31m             \u001b[0;32mreturn\u001b[0m \u001b[0mself\u001b[0m\u001b[0;34m.\u001b[0m\u001b[0mcall\u001b[0m\u001b[0;34m(\u001b[0m\u001b[0;34m*\u001b[0m\u001b[0margs\u001b[0m\u001b[0;34m,\u001b[0m \u001b[0;34m**\u001b[0m\u001b[0mkwargs\u001b[0m\u001b[0;34m)\u001b[0m\u001b[0;34m\u001b[0m\u001b[0m\n\u001b[0m\u001b[1;32m    164\u001b[0m         \u001b[0;32melse\u001b[0m\u001b[0;34m:\u001b[0m\u001b[0;34m\u001b[0m\u001b[0m\n\u001b[1;32m    165\u001b[0m             \u001b[0;32mtry\u001b[0m\u001b[0;34m:\u001b[0m\u001b[0;34m\u001b[0m\u001b[0m\n",
        "\u001b[0;32m/usr/local/lib/python2.7/site-packages/joblib/memory.pyc\u001b[0m in \u001b[0;36mcall\u001b[0;34m(self, *args, **kwargs)\u001b[0m\n\u001b[1;32m    314\u001b[0m         \u001b[0;32mif\u001b[0m \u001b[0mself\u001b[0m\u001b[0;34m.\u001b[0m\u001b[0m_verbose\u001b[0m\u001b[0;34m:\u001b[0m\u001b[0;34m\u001b[0m\u001b[0m\n\u001b[1;32m    315\u001b[0m             \u001b[0;32mprint\u001b[0m\u001b[0;34m(\u001b[0m\u001b[0mself\u001b[0m\u001b[0;34m.\u001b[0m\u001b[0mformat_call\u001b[0m\u001b[0;34m(\u001b[0m\u001b[0;34m*\u001b[0m\u001b[0margs\u001b[0m\u001b[0;34m,\u001b[0m \u001b[0;34m**\u001b[0m\u001b[0mkwargs\u001b[0m\u001b[0;34m)\u001b[0m\u001b[0;34m)\u001b[0m\u001b[0;34m\u001b[0m\u001b[0m\n\u001b[0;32m--> 316\u001b[0;31m         \u001b[0moutput\u001b[0m \u001b[0;34m=\u001b[0m \u001b[0mself\u001b[0m\u001b[0;34m.\u001b[0m\u001b[0mfunc\u001b[0m\u001b[0;34m(\u001b[0m\u001b[0;34m*\u001b[0m\u001b[0margs\u001b[0m\u001b[0;34m,\u001b[0m \u001b[0;34m**\u001b[0m\u001b[0mkwargs\u001b[0m\u001b[0;34m)\u001b[0m\u001b[0;34m\u001b[0m\u001b[0m\n\u001b[0m\u001b[1;32m    317\u001b[0m         \u001b[0mself\u001b[0m\u001b[0;34m.\u001b[0m\u001b[0m_persist_output\u001b[0m\u001b[0;34m(\u001b[0m\u001b[0moutput\u001b[0m\u001b[0;34m,\u001b[0m \u001b[0moutput_dir\u001b[0m\u001b[0;34m)\u001b[0m\u001b[0;34m\u001b[0m\u001b[0m\n\u001b[1;32m    318\u001b[0m         \u001b[0mself\u001b[0m\u001b[0;34m.\u001b[0m\u001b[0m_persist_input\u001b[0m\u001b[0;34m(\u001b[0m\u001b[0moutput_dir\u001b[0m\u001b[0;34m,\u001b[0m \u001b[0;34m*\u001b[0m\u001b[0margs\u001b[0m\u001b[0;34m,\u001b[0m \u001b[0;34m**\u001b[0m\u001b[0mkwargs\u001b[0m\u001b[0;34m)\u001b[0m\u001b[0;34m\u001b[0m\u001b[0m\n",
        "\u001b[0;32m/Users/jhamrick/project/bayes-sdm/metrics.py\u001b[0m in \u001b[0;36mtest_hopfield_noise_tolerance_n\u001b[0;34m(n, k, noise, iters)\u001b[0m\n\u001b[1;32m     94\u001b[0m         \u001b[0mr\u001b[0m \u001b[0;34m=\u001b[0m \u001b[0mmem\u001b[0m\u001b[0;34m.\u001b[0m\u001b[0mreadM\u001b[0m\u001b[0;34m(\u001b[0m\u001b[0mcvecs\u001b[0m\u001b[0;34m,\u001b[0m \u001b[0;36m1000\u001b[0m\u001b[0;34m)\u001b[0m\u001b[0;34m\u001b[0m\u001b[0m\n\u001b[1;32m     95\u001b[0m         \u001b[0;31m# find the largest fraction of corrupted bits\u001b[0m\u001b[0;34m\u001b[0m\u001b[0;34m\u001b[0m\u001b[0m\n\u001b[0;32m---> 96\u001b[0;31m         \u001b[0mcorruption\u001b[0m\u001b[0;34m[\u001b[0m\u001b[0mi\u001b[0m\u001b[0;34m]\u001b[0m \u001b[0;34m=\u001b[0m \u001b[0mnp\u001b[0m\u001b[0;34m.\u001b[0m\u001b[0mmean\u001b[0m\u001b[0;34m(\u001b[0m\u001b[0mr\u001b[0m \u001b[0;34m^\u001b[0m \u001b[0mvecs\u001b[0m\u001b[0;34m,\u001b[0m \u001b[0maxis\u001b[0m\u001b[0;34m=\u001b[0m\u001b[0;36m0\u001b[0m\u001b[0;34m)\u001b[0m\u001b[0;34m\u001b[0m\u001b[0m\n\u001b[0m\u001b[1;32m     97\u001b[0m \u001b[0;34m\u001b[0m\u001b[0m\n\u001b[1;32m     98\u001b[0m     \u001b[0;32mreturn\u001b[0m \u001b[0mcorruption\u001b[0m\u001b[0;34m\u001b[0m\u001b[0m\n",
        "\u001b[0;31mTypeError\u001b[0m: ufunc 'bitwise_xor' not supported for the input types, and the inputs could not be safely coerced to any supported types according to the casting rule ''safe''"
       ]
      },
      {
       "output_type": "stream",
       "stream": "stdout",
       "text": [
        "\n",
        "Hopfield capacity is 9 (0% corruption)\n"
       ]
      }
     ],
     "prompt_number": 10
    },
    {
     "cell_type": "code",
     "collapsed": false,
     "input": [
      "# plot the storage capacity as a function of address space size\n",
      "util.set_fig_properties()\n",
      "data = np.hstack([hop_tolerance[:, None], sdm_tolerance])\n",
      "x = np.arange(data.shape[1])\n",
      "labels = np.hstack([\"Hop.\", M])\n",
      "\n",
      "for nidx, err in enumerate(noise):\n",
      "    f = nidx / (len(noise)-1.)\n",
      "    scolor = (f, f, 1)\n",
      "    hcolor = (1, f, f)\n",
      "    plt.bar(x[:1], data[nidx, :1], align='center', color=hcolor)\n",
      "    plt.bar(x[1:], data[nidx, 1:], align='center', color=scolor)\n",
      "\n",
      "plt.xticks(x, labels)\n",
      "plt.xlim(-1, x.size)\n",
      "plt.xlabel(\"M (# addresses)\")\n",
      "plt.ylabel(\"Capacity (# uncorrupted items)\")\n",
      "plt.title(\"SDM and Hopfield Error Tolerance (N=%d)\" % n)\n",
      "plt.legend(loc=0)\n",
      "\n"
     ],
     "language": "python",
     "outputs": [
      {
       "output_type": "display_data",
       "png": "[encoded data removed]"
      }
     ],
     "prompt_number": 57
    },
    {
     "cell_type": "heading",
     "level": 1,
     "source": [
      "Prototype Retrieval"
     ]
    },
    {
     "cell_type": "code",
     "collapsed": false,
     "input": [
      "# How well can the SDM/Hopfield net store prototypes?\n",
      "m = 10000\n",
      "prototype_noise = np.arange(.05, 0.55, 0.05)\n",
      "prototype_k = np.array([2, 5, 10, 25, 50])\n",
      "sdm_prototype = np.empty(\n",
      "\t(prototype_noise.size, prototype_k.size))\n",
      "hop_prototype = np.empty(\n",
      "\t(prototype_noise.size, prototype_k.size))\n",
      "for nidx, err in enumerate(prototype_noise):\n",
      "    for kidx, k in enumerate(prototype_k):\n",
      "\tp = metrics.test_prototype(\n",
      "\t    (int(n), int(m), float(D)), \n",
      "\t    k=int(k), noise=float(err),\n",
      "\t    iters=int(iters))\n",
      "\tsdm_prototype[nidx, kidx] = p\n",
      "\tprint \"%2d ex.: SDM prototype corruption is %f (%d%% corruption)\" % (k, p, err*100)\n",
      "\tp = metrics.test_prototype(\n",
      "\t    int(n), k=int(k), noise=float(err),\n",
      "\t    iters=int(iters))\n",
      "\thop_prototype[nidx, kidx] = p\n",
      "\tprint \"%2d ex.: Hopfield prototype corruption is %f (%d%% corruption)\" % (k, p, err*100)\n",
      "    print"
     ],
     "language": "python",
     "outputs": []
    },
    {
     "cell_type": "code",
     "collapsed": false,
     "input": [
      "plt.clf()\n",
      "\n",
      "plt.subplot(1, 3, 1)\n",
      "plt.imshow(\n",
      "    1-sdm_prototype, \n",
      "    cmap='gray', interpolation='nearest', vmin=0.5, vmax=1)\n",
      "plt.xticks(np.arange(prototype_k.size), prototype_k)\n",
      "plt.yticks(np.arange(prototype_noise.size), prototype_noise)\n",
      "plt.title(\"SDM (M=%d)\" % m)\n",
      "plt.xlabel(\"Exemplars\")\n",
      "plt.ylabel(\"Percent Corruption\")\n",
      "\n",
      "plt.subplot(1, 3, 2)\n",
      "plt.imshow(\n",
      "    1-hop_prototype, \n",
      "    cmap='gray', interpolation='nearest', vmin=0.5, vmax=1)\n",
      "plt.xticks(np.arange(prototype_k.size), prototype_k)\n",
      "plt.yticks(np.arange(prototype_noise.size), [])\n",
      "plt.title(\"Hopfield\")\n",
      "plt.xlabel(\"Exemplars\")\n",
      "\n",
      "plt.subplot(1, 3, 3)\n",
      "diff = hop_prototype-sdm_prototype\n",
      "plt.imshow(\n",
      "    np.sign(diff)*(1.5**np.log(np.abs(diff))), \n",
      "    cmap='RdBu', interpolation='nearest', vmin=-0.5, vmax=0.5)\n",
      "plt.xticks(np.arange(prototype_k.size), prototype_k)\n",
      "plt.yticks(np.arange(prototype_noise.size), [])\n",
      "plt.title(\"Hopfield-SDM\")\n",
      "plt.xlabel(\"Exemplars\")\n",
      "\n"
     ],
     "language": "python",
     "outputs": [
      {
       "output_type": "pyout",
       "prompt_number": 74,
       "text": [
        "<matplotlib.text.Text at 0x108ff1cd0>"
       ]
      },
      {
       "output_type": "display_data",
       "png": "[encoded data removed]"
      }
     ],
     "prompt_number": 74
    },
    {
     "cell_type": "heading",
     "level": 1,
     "source": [
      "Sequence Retrieval"
     ]
    },
    {
     "cell_type": "code",
     "collapsed": false,
     "input": [],
     "language": "python",
     "outputs": []
    }
   ]
  }
 ]
}