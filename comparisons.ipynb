{
 "metadata": {
  "name": "comparisons"
 },
 "nbformat": 3,
 "nbformat_minor": 0,
 "worksheets": [
  {
   "cells": [
    {
     "cell_type": "heading",
     "level": 1,
     "source": [
      "SDM/Hopfield Comparison Code"
     ]
    },
    {
     "cell_type": "code",
     "collapsed": false,
     "input": [
      "\"\"\"SDM/Hopfield Comparison\n",
      "\n",
      "This code compares SDM networks and Hopfield networks on various\n",
      "properties, including appropriate parameter values, storage capacity,\n",
      "\"prototype\" retrieval, and sequence retrieval.\n",
      "\n",
      "Authors: \n",
      "  Jessica Hamrick (jhamrick@berkeley.edu)\n",
      "  Josh Abbott (joshua.abbott@berkeley.edu)\n",
      "\n",
      "\"\"\"\n"
     ],
     "language": "python",
     "outputs": [
      {
       "output_type": "pyout",
       "prompt_number": 1,
       "text": [
        "'SDM/Hopfield Comparison\\n\\nThis code compares SDM networks and Hopfield networks on various\\nproperties, including appropriate parameter values, storage capacity,\\n\"prototype\" retrieval, and sequence retrieval.\\n\\nAuthors: \\n  Jessica Hamrick (jhamrick@berkeley.edu)\\n  Josh Abbott (joshua.abbott@berkeley.edu)\\n\\n'"
       ]
      }
     ],
     "prompt_number": 1
    },
    {
     "cell_type": "code",
     "collapsed": false,
     "input": [
      "import numpy as np\n",
      "import matplotlib.pyplot as plt\n",
      "import scipy.stats\n",
      "import sdm as sdm\n",
      "import hopfield as hop\n",
      "import util as util\n",
      "import metrics as metrics\n"
     ],
     "language": "python",
     "outputs": [],
     "prompt_number": 2
    },
    {
     "cell_type": "heading",
     "level": 1,
     "source": [
      "Parameters"
     ]
    },
    {
     "cell_type": "code",
     "collapsed": false,
     "input": [
      "# SDM Parameters\n",
      "# --------------\n",
      "#   n : length of inputs\n",
      "#   m : number of addresses\n",
      "#   D : hamming radius\n",
      "\n",
      "\n",
      "# Hopfield Parameters\n",
      "# -------------------\n",
      "#   n : length of inputs\n"
     ],
     "language": "python",
     "outputs": [],
     "prompt_number": 3
    },
    {
     "cell_type": "code",
     "collapsed": false,
     "input": [
      "# length of inputs\n",
      "n = 100\n",
      "\n",
      "# hamming distance encompasses 2.5% of addresses\n",
      "D = float((n / 2.) - (np.sqrt(n*(0.5**2)) * 1.96))\n",
      "#M = np.arange(200, 1+2000, 200)\n",
      "M = np.array([200, 400, 800, 1600, 3200, 6400, 12800])\n",
      "\n",
      "# error thresholds\n",
      "thresh = 0.0\n",
      "# noise\n",
      "noise = np.array([0.0, 0.01, 0.02, 0.04, 0.08, 0.16])\n",
      "# number of simulations to run\n",
      "iters = 100\n",
      "\n",
      "verbose = True\n"
     ],
     "language": "python",
     "outputs": [],
     "prompt_number": 4
    },
    {
     "cell_type": "heading",
     "level": 1,
     "source": [
      "Uncorrupted Storage Capacity"
     ]
    },
    {
     "cell_type": "code",
     "collapsed": false,
     "input": [
      "# How many random, uncorrelated inputs can the SDM store?\n",
      "sdm_capacity = np.empty(M.size)\n",
      "k = 1\n",
      "for midx, m in enumerate(M):\n",
      "    k = metrics.test_capacity(\n",
      "\t(int(n), int(m), float(D)), \n",
      "\tk=int(k), iters=int(iters), \n",
      "\tthresh=thresh, verbose=verbose) - 1\n",
      "    sdm_capacity[midx] = k\n",
      "    print \"SDM (m=%d) capacity is %d\" % (m, k)\n"
     ],
     "language": "python",
     "outputs": [
      {
       "output_type": "stream",
       "stream": "stdout",
       "text": [
        " 1:  0.00 +/- 0.00\n",
        " 2:  0.00 +/- 0.00\n",
        " 3:  0.01 +/- 0.00\n",
        "SDM (m=200) capacity is 3\n",
        " 3:  0.00 +/- 0.00\n",
        " 4:  0.00 +/- 0.00"
       ]
      },
      {
       "output_type": "stream",
       "stream": "stdout",
       "text": [
        "\n",
        " 5:  0.00 +/- 0.00\n",
        " 6:  0.00 +/- 0.00\n",
        " 7:  0.00 +/- 0.00\n",
        " 8:  0.00 +/- 0.00\n",
        " 9:  0.00 +/- 0.00\n",
        "SDM (m=400) capacity is 9\n",
        " 9:  0.00 +/- 0.00"
       ]
      },
      {
       "output_type": "stream",
       "stream": "stdout",
       "text": [
        "\n",
        "10:  0.00 +/- 0.00\n",
        "11:  0.00 +/- 0.00\n",
        "12:  0.00 +/- 0.00\n",
        "13:  0.00 +/- 0.00\n",
        "14:  0.00 +/- 0.00"
       ]
      },
      {
       "output_type": "stream",
       "stream": "stdout",
       "text": [
        "\n",
        "15:  0.00 +/- 0.00\n",
        "16:  0.00 +/- 0.00\n",
        "17:  0.00 +/- 0.00\n",
        "SDM (m=800) capacity is 17\n",
        "17:  0.00 +/- 0.00\n",
        "18:  0.00 +/- 0.00"
       ]
      },
      {
       "output_type": "stream",
       "stream": "stdout",
       "text": [
        "\n",
        "19:  0.00 +/- 0.00\n",
        "20:  0.00 +/- 0.00\n",
        "21:  0.00 +/- 0.00\n",
        "SDM (m=1600) capacity is 21\n",
        "21:  0.00 +/- 0.00\n",
        "22:  0.00 +/- 0.00"
       ]
      },
      {
       "output_type": "stream",
       "stream": "stdout",
       "text": [
        "\n",
        "23:  0.00 +/- 0.00\n",
        "24:  0.00 +/- 0.00\n",
        "25:  0.00 +/- 0.00\n",
        "26:  0.00 +/- 0.00\n",
        "27:  0.00 +/- 0.00"
       ]
      },
      {
       "output_type": "stream",
       "stream": "stdout",
       "text": [
        "\n",
        "28:  0.00 +/- 0.00\n",
        "29:  0.00 +/- 0.00\n",
        "30:  0.00 +/- 0.00\n",
        "31:  0.00 +/- 0.00\n",
        "32:  0.00 +/- 0.00"
       ]
      },
      {
       "output_type": "stream",
       "stream": "stdout",
       "text": [
        "\n",
        "33:  0.00 +/- 0.00\n",
        "34:  0.00 +/- 0.00\n",
        "35:  0.00 +/- 0.00\n",
        "36:  0.00 +/- 0.00\n",
        "37:  0.00 +/- 0.00"
       ]
      },
      {
       "output_type": "stream",
       "stream": "stdout",
       "text": [
        "\n",
        "38:  0.00 +/- 0.00\n",
        "SDM (m=3200) capacity is 38\n",
        "38:  0.00 +/- 0.00\n",
        "39:  0.00 +/- 0.00\n",
        "40:  0.00 +/- 0.00\n",
        "SDM (m=6400) capacity is 40\n",
        "40:  0.00 +/- 0.00"
       ]
      },
      {
       "output_type": "stream",
       "stream": "stdout",
       "text": [
        "\n",
        "41:  0.00 +/- 0.00\n",
        "42:  0.00 +/- 0.00\n",
        "43:  0.00 +/- 0.00\n",
        "44:  0.00 +/- 0.00\n",
        "SDM (m=12800) capacity is 44\n"
       ]
      }
     ],
     "prompt_number": 5
    },
    {
     "cell_type": "code",
     "collapsed": false,
     "input": [
      "# How many random, uncorrelated inputs can the Hopfield net store?\n",
      "k = metrics.test_capacity(\n",
      "    int(n), k=1, iters=int(iters), \n",
      "    thresh=thresh, verbose=verbose) - 1\n",
      "hop_capacity = k\n",
      "print \"Hopfield capacity is %d\" % k\n"
     ],
     "language": "python",
     "outputs": [
      {
       "output_type": "stream",
       "stream": "stdout",
       "text": [
        " 1:  0.00 +/- 0.00\n",
        " 2:  0.00 +/- 0.00\n",
        " 3:  0.00 +/- 0.00\n",
        " 4:  0.00 +/- 0.00\n",
        " 5:  0.00 +/- 0.00\n",
        " 6:  0.00 +/- 0.00\n",
        " 7:  0.00 +/- 0.00"
       ]
      },
      {
       "output_type": "stream",
       "stream": "stdout",
       "text": [
        "\n",
        " 8:  0.00 +/- 0.00\n",
        " 9:  0.00 +/- 0.00\n",
        "Hopfield capacity is 9\n"
       ]
      }
     ],
     "prompt_number": 6
    },
    {
     "cell_type": "code",
     "collapsed": false,
     "input": [
      "# plot the storage capacity as a function of address space size\n",
      "util.set_fig_properties()\n",
      "data = np.hstack([hop_capacity, sdm_capacity])\n",
      "x = np.arange(data.size)\n",
      "labels = np.hstack([\"Hop.\", M.astype('str')])\n",
      "\n",
      "plt.bar(x[:1], data[:1], align='center', color='r')\n",
      "plt.bar(x[1:], data[1:], align='center', color='b')\n",
      "\n",
      "plt.xticks(x, labels)\n",
      "plt.xlim(-1, data.size)\n",
      "plt.xlabel(\"M (# addresses)\")\n",
      "plt.ylabel(\"Capacity (# uncorrupted items)\")\n",
      "plt.title(\"SDM and Hopfield Capacities (N=%d)\" % n)\n",
      "plt.legend(loc=0)\n"
     ],
     "language": "python",
     "outputs": [
      {
       "output_type": "stream",
       "stream": "stderr",
       "text": [
        "/usr/local/lib/python2.7/site-packages/matplotlib/axes.py:4638: UserWarning: No labeled objects found. Use label='...' kwarg on individual plots.\n",
        "  warnings.warn(\"No labeled objects found. \"\n"
       ]
      },
      {
       "output_type": "display_data",
       "png": "[encoded data removed]"
      }
     ],
     "prompt_number": 7
    },
    {
     "cell_type": "code",
     "collapsed": false,
     "input": [
      "# plot the utilization as a function of address space size\n",
      "util.set_fig_properties()\n",
      "data = np.hstack([100*hop_capacity/float(n), 100*sdm_capacity/M.astype('f8')])\n",
      "x = np.arange(data.size)\n",
      "labels = np.hstack([\"Hop.\", M.astype('str')])\n",
      "\n",
      "plt.bar(x[:1], data[:1], align='center', color='r')\n",
      "plt.bar(x[1:], data[1:], align='center', color='b')\n",
      "\n",
      "plt.xticks(x, labels)\n",
      "plt.xlim(-1, data.size)\n",
      "plt.xlabel(\"M (# addresses)\")\n",
      "plt.ylabel(\"Percent Utilization\")\n",
      "plt.title(\"SDM and Hopfield Utilizations (N=%d)\" % n)\n",
      "plt.legend(loc=0)\n"
     ],
     "language": "python",
     "outputs": [
      {
       "output_type": "display_data",
       "png": "[encoded data removed]"
      }
     ],
     "prompt_number": 8
    },
    {
     "cell_type": "heading",
     "level": 1,
     "source": [
      "Noise Tolerance"
     ]
    },
    {
     "cell_type": "code",
     "collapsed": false,
     "input": [
      "# How many random, uncorrelated inputs can the SDM store and be able\n",
      "# to retrieve even with corruption?\n",
      "sdm_tolerance = np.empty((noise.size, M.size))\n",
      "for nidx, err in enumerate(noise):\n",
      "    k = 1\n",
      "    for midx, m in enumerate(M):\n",
      "\tk = metrics.test_noise_tolerance(\n",
      "\t    (int(n), int(m), float(D)), \n",
      "\t    k=int(k), noise=float(err),\n",
      "\t    iters=int(iters), thresh=thresh, verbose=verbose) - 1\n",
      "\tsdm_tolerance[nidx, midx] = k\n",
      "\tprint \"SDM (m=%d) capacity is %d (%d%% corruption)\" % (m, k, err*100)\n"
     ],
     "language": "python",
     "outputs": [
      {
       "output_type": "stream",
       "stream": "stdout",
       "text": [
        " 1:  0.00 +/- 0.00\n",
        " 2:  0.00 +/- 0.00\n",
        " 3:  0.01 +/- 0.00\n",
        "SDM (m=200) capacity is 3 (0% corruption)\n",
        " 3:  0.00 +/- 0.00\n",
        " 4:  0.00 +/- 0.00\n",
        " 5:  0.00 +/- 0.00"
       ]
      },
      {
       "output_type": "stream",
       "stream": "stdout",
       "text": [
        "\n",
        " 6:  0.00 +/- 0.00\n",
        " 7:  0.00 +/- 0.00\n",
        " 8:  0.00 +/- 0.00\n",
        " 9:  0.00 +/- 0.00\n",
        "SDM (m=400) capacity is 9 (0% corruption)\n",
        " 9:  0.00 +/- 0.00"
       ]
      },
      {
       "output_type": "stream",
       "stream": "stdout",
       "text": [
        "\n",
        "10:  0.00 +/- 0.00\n",
        "11:  0.00 +/- 0.00\n",
        "12:  0.00 +/- 0.00\n",
        "13:  0.00 +/- 0.00\n",
        "14:  0.00 +/- 0.00"
       ]
      },
      {
       "output_type": "stream",
       "stream": "stdout",
       "text": [
        "\n",
        "15:  0.00 +/- 0.00\n",
        "16:  0.00 +/- 0.00\n",
        "17:  0.00 +/- 0.00\n",
        "SDM (m=800) capacity is 17 (0% corruption)\n",
        "17:  0.00 +/- 0.00"
       ]
      },
      {
       "output_type": "stream",
       "stream": "stdout",
       "text": [
        "\n",
        "18:  0.00 +/- 0.00\n",
        "19:  0.00 +/- 0.00\n",
        "20:  0.00 +/- 0.00\n",
        "21:  0.00 +/- 0.00\n",
        "SDM (m=1600) capacity is 21 (0% corruption)\n",
        "21:  0.00 +/- 0.00"
       ]
      },
      {
       "output_type": "stream",
       "stream": "stdout",
       "text": [
        "\n",
        "22:  0.00 +/- 0.00\n",
        "23:  0.00 +/- 0.00\n",
        "24:  0.00 +/- 0.00\n",
        "25:  0.00 +/- 0.00\n",
        "26:  0.00 +/- 0.00"
       ]
      },
      {
       "output_type": "stream",
       "stream": "stdout",
       "text": [
        "\n",
        "27:  0.00 +/- 0.00\n",
        "28:  0.00 +/- 0.00\n",
        "29:  0.00 +/- 0.00\n",
        "30:  0.00 +/- 0.00\n",
        "31:  0.00 +/- 0.00"
       ]
      },
      {
       "output_type": "stream",
       "stream": "stdout",
       "text": [
        "\n",
        "32:  0.00 +/- 0.00\n",
        "33:  0.00 +/- 0.00\n",
        "34:  0.00 +/- 0.00\n",
        "35:  0.00 +/- 0.00"
       ]
      },
      {
       "output_type": "stream",
       "stream": "stdout",
       "text": [
        "\n",
        "36:  0.00 +/- 0.00\n",
        "37:  0.00 +/- 0.00\n",
        "38:  0.00 +/- 0.00\n",
        "SDM (m=3200) capacity is 38 (0% corruption)\n",
        "38:  0.00 +/- 0.00"
       ]
      },
      {
       "output_type": "stream",
       "stream": "stdout",
       "text": [
        "\n",
        "39:  0.00 +/- 0.00\n",
        "40:  0.00 +/- 0.00\n",
        "SDM (m=6400) capacity is 40 (0% corruption)\n",
        "40:  0.00 +/- 0.00\n",
        "41:  0.00 +/- 0.00\n",
        "42:  0.00 +/- 0.00"
       ]
      },
      {
       "output_type": "stream",
       "stream": "stdout",
       "text": [
        "\n",
        "43:  0.00 +/- 0.00\n",
        "44:  0.00 +/- 0.00\n",
        "SDM (m=12800) capacity is 44 (0% corruption)\n",
        " 1:  0.00 +/- 0.00\n",
        "SDM (m=200) capacity is 1 (1% corruption)\n",
        " 1:  0.00 +/- 0.00"
       ]
      },
      {
       "output_type": "stream",
       "stream": "stdout",
       "text": [
        "\n",
        " 2:  0.00 +/- 0.00\n",
        " 3:  0.00 +/- 0.00\n",
        "SDM (m=400) capacity is 3 (1% corruption)\n",
        " 3:  0.00 +/- 0.00\n",
        " 4:  0.00 +/- 0.00\n",
        " 5:  0.00 +/- 0.00\n",
        " 6:  0.00 +/- 0.00"
       ]
      },
      {
       "output_type": "stream",
       "stream": "stdout",
       "text": [
        "\n",
        " 7:  0.00 +/- 0.00\n",
        " 8:  0.00 +/- 0.00\n",
        " 9:  0.00 +/- 0.00\n",
        "10:  0.00 +/- 0.00"
       ]
      },
      {
       "output_type": "stream",
       "stream": "stdout",
       "text": [
        "\n",
        "SDM (m=800) capacity is 10 (1% corruption)\n",
        "10:  0.00 +/- 0.00\n",
        "11:  0.00 +/- 0.00\n",
        "12:  0.00 +/- 0.00\n",
        "13:  0.00 +/- 0.00\n",
        "14:  0.00 +/- 0.00\n",
        "SDM (m=1600) capacity is 14 (1% corruption)\n",
        "14:  0.00 +/- 0.00"
       ]
      },
      {
       "output_type": "stream",
       "stream": "stdout",
       "text": [
        "\n",
        "15:  0.00 +/- 0.00\n",
        "16:  0.00 +/- 0.00\n",
        "17:  0.00 +/- 0.00\n",
        "18:  0.00 +/- 0.00\n",
        "19:  0.00 +/- 0.00"
       ]
      },
      {
       "output_type": "stream",
       "stream": "stdout",
       "text": [
        "\n",
        "20:  0.00 +/- 0.00\n",
        "21:  0.00 +/- 0.00\n",
        "22:  0.00 +/- 0.00\n",
        "23:  0.00 +/- 0.00\n",
        "SDM (m=3200) capacity is 23 (1% corruption)\n",
        "23:  0.00 +/- 0.00"
       ]
      },
      {
       "output_type": "stream",
       "stream": "stdout",
       "text": [
        "\n",
        "24:  0.00 +/- 0.00\n",
        "25:  0.00 +/- 0.00\n",
        "26:  0.00 +/- 0.00\n",
        "27:  0.00 +/- 0.00\n",
        "SDM (m=6400) capacity is 27 (1% corruption)\n",
        "27:  0.00 +/- 0.00"
       ]
      },
      {
       "output_type": "stream",
       "stream": "stdout",
       "text": [
        "\n",
        "SDM (m=12800) capacity is 27 (1% corruption)\n",
        " 1:  0.00 +/- 0.00\n",
        " 2:  0.02 +/- 0.01\n",
        "SDM (m=200) capacity is 2 (2% corruption)\n",
        " 2:  0.00 +/- 0.00\n",
        " 3:  0.00 +/- 0.00\n",
        " 4:  0.00 +/- 0.00"
       ]
      },
      {
       "output_type": "stream",
       "stream": "stdout",
       "text": [
        "\n",
        "SDM (m=400) capacity is 4 (2% corruption)\n",
        " 4:  0.00 +/- 0.00\n",
        " 5:  0.00 +/- 0.00\n",
        "SDM (m=800) capacity is 5 (2% corruption)\n",
        " 5:  0.00 +/- 0.00\n",
        " 6:  0.00 +/- 0.00\n",
        " 7:  0.00 +/- 0.00"
       ]
      },
      {
       "output_type": "stream",
       "stream": "stdout",
       "text": [
        "\n",
        " 8:  0.00 +/- 0.00\n",
        " 9:  0.00 +/- 0.00\n",
        "10:  0.00 +/- 0.00\n",
        "11:  0.00 +/- 0.00"
       ]
      },
      {
       "output_type": "stream",
       "stream": "stdout",
       "text": [
        "\n",
        "12:  0.00 +/- 0.00\n",
        "13:  0.00 +/- 0.00\n",
        "14:  0.00 +/- 0.00\n",
        "15:  0.00 +/- 0.00\n",
        "SDM (m=1600) capacity is 15 (2% corruption)\n",
        "15:  0.00 +/- 0.00"
       ]
      },
      {
       "output_type": "stream",
       "stream": "stdout",
       "text": [
        "\n",
        "16:  0.00 +/- 0.00\n",
        "17:  0.00 +/- 0.00\n",
        "18:  0.00 +/- 0.00\n",
        "19:  0.00 +/- 0.00\n",
        "SDM (m=3200) capacity is 19 (2% corruption)\n",
        "19:  0.00 +/- 0.00"
       ]
      },
      {
       "output_type": "stream",
       "stream": "stdout",
       "text": [
        "\n",
        "20:  0.00 +/- 0.00\n",
        "21:  0.00 +/- 0.00\n",
        "22:  0.00 +/- 0.00\n",
        "23:  0.00 +/- 0.00\n",
        "24:  0.00 +/- 0.00"
       ]
      },
      {
       "output_type": "stream",
       "stream": "stdout",
       "text": [
        "\n",
        "25:  0.00 +/- 0.00\n",
        "26:  0.00 +/- 0.00\n",
        "SDM (m=6400) capacity is 26 (2% corruption)\n",
        "26:  0.00 +/- 0.00\n",
        "27:  0.00 +/- 0.00\n",
        "SDM (m=12800) capacity is 27 (2% corruption)\n",
        " 1:  0.02 +/- 0.01"
       ]
      },
      {
       "output_type": "stream",
       "stream": "stdout",
       "text": [
        "\n",
        "SDM (m=200) capacity is 1 (4% corruption)\n",
        " 1:  0.01 +/- 0.01\n",
        "SDM (m=400) capacity is 1 (4% corruption)\n",
        " 1:  0.00 +/- 0.00\n",
        " 2:  0.00 +/- 0.00\n",
        " 3:  0.00 +/- 0.00\n",
        " 4:  0.00 +/- 0.00"
       ]
      },
      {
       "output_type": "stream",
       "stream": "stdout",
       "text": [
        "\n",
        " 5:  0.00 +/- 0.00\n",
        " 6:  0.00 +/- 0.00\n",
        "SDM (m=800) capacity is 6 (4% corruption)\n",
        " 6:  0.00 +/- 0.00\n",
        " 7:  0.00 +/- 0.00\n",
        " 8:  0.00 +/- 0.00"
       ]
      },
      {
       "output_type": "stream",
       "stream": "stdout",
       "text": [
        "\n",
        " 9:  0.00 +/- 0.00\n",
        "10:  0.00 +/- 0.00\n",
        "SDM (m=1600) capacity is 10 (4% corruption)\n",
        "10:  0.00 +/- 0.00\n",
        "11:  0.00 +/- 0.00\n",
        "12:  0.00 +/- 0.00\n",
        "13:  0.00 +/- 0.00"
       ]
      },
      {
       "output_type": "stream",
       "stream": "stdout",
       "text": [
        "\n",
        "14:  0.00 +/- 0.00\n",
        "15:  0.00 +/- 0.00\n",
        "16:  0.00 +/- 0.00\n",
        "SDM (m=3200) capacity is 16 (4% corruption)\n",
        "16:  0.00 +/- 0.00\n",
        "17:  0.00 +/- 0.00"
       ]
      },
      {
       "output_type": "stream",
       "stream": "stdout",
       "text": [
        "\n",
        "18:  0.00 +/- 0.00\n",
        "19:  0.00 +/- 0.00\n",
        "20:  0.00 +/- 0.00\n",
        "SDM (m=6400) capacity is 20 (4% corruption)\n",
        "20:  0.00 +/- 0.00\n",
        "21:  0.00 +/- 0.00"
       ]
      },
      {
       "output_type": "stream",
       "stream": "stdout",
       "text": [
        "\n",
        "SDM (m=12800) capacity is 21 (4% corruption)\n",
        " 1:  0.04 +/- 0.01\n",
        "SDM (m=200) capacity is 1 (8% corruption)\n",
        " 1:  0.00 +/- 0.00\n",
        " 2:  0.00 +/- 0.00\n",
        " 3:  0.02 +/- 0.01\n",
        "SDM (m=400) capacity is 3 (8% corruption)\n",
        " 3:  0.00 +/- 0.00"
       ]
      },
      {
       "output_type": "stream",
       "stream": "stdout",
       "text": [
        "\n",
        " 4:  0.00 +/- 0.00\n",
        "SDM (m=800) capacity is 4 (8% corruption)\n",
        " 4:  0.00 +/- 0.00\n",
        " 5:  0.00 +/- 0.00\n",
        "SDM (m=1600) capacity is 5 (8% corruption)\n",
        " 5:  0.00 +/- 0.00\n",
        " 6:  0.00 +/- 0.00"
       ]
      },
      {
       "output_type": "stream",
       "stream": "stdout",
       "text": [
        "\n",
        " 7:  0.00 +/- 0.00\n",
        " 8:  0.00 +/- 0.00\n",
        " 9:  0.00 +/- 0.00\n",
        "10:  0.00 +/- 0.00\n",
        "SDM (m=3200) capacity is 10 (8% corruption)\n",
        "10:  0.00 +/- 0.00"
       ]
      },
      {
       "output_type": "stream",
       "stream": "stdout",
       "text": [
        "\n",
        "11:  0.00 +/- 0.00\n",
        "12:  0.00 +/- 0.00\n",
        "13:  0.00 +/- 0.00\n",
        "SDM (m=6400) capacity is 13 (8% corruption)\n",
        "13:  0.00 +/- 0.00\n",
        "SDM (m=12800) capacity is 13 (8% corruption)\n",
        " 1:  0.09 +/- 0.02"
       ]
      },
      {
       "output_type": "stream",
       "stream": "stdout",
       "text": [
        "\n",
        "SDM (m=200) capacity is 1 (16% corruption)\n",
        " 1:  0.02 +/- 0.01\n",
        "SDM (m=400) capacity is 1 (16% corruption)\n",
        " 1:  0.00 +/- 0.00\n",
        " 2:  0.00 +/- 0.00\n",
        " 3:  0.02 +/- 0.01\n",
        "SDM (m=800) capacity is 3 (16% corruption)\n",
        " 3:  0.00 +/- 0.00\n",
        " 4:  0.00 +/- 0.00"
       ]
      },
      {
       "output_type": "stream",
       "stream": "stdout",
       "text": [
        "\n",
        "SDM (m=1600) capacity is 4 (16% corruption)\n",
        " 4:  0.00 +/- 0.00\n",
        " 5:  0.00 +/- 0.00\n",
        " 6:  0.00 +/- 0.00\n",
        "SDM (m=3200) capacity is 6 (16% corruption)\n",
        " 6:  0.00 +/- 0.00\n",
        "SDM (m=6400) capacity is 6 (16% corruption)\n",
        " 6:  0.00 +/- 0.00"
       ]
      },
      {
       "output_type": "stream",
       "stream": "stdout",
       "text": [
        "\n",
        " 7:  0.00 +/- 0.00\n",
        "SDM (m=12800) capacity is 7 (16% corruption)\n"
       ]
      }
     ],
     "prompt_number": 9
    },
    {
     "cell_type": "code",
     "collapsed": false,
     "input": [
      "# How many random, uncorrelated inputs can the Hopfield net store and\n",
      "# be able to retrieve even with corruption?\n",
      "hop_tolerance = np.empty(noise.size)\n",
      "k = 1\n",
      "for nidx, err in enumerate(noise):\n",
      "    k = metrics.test_noise_tolerance(\n",
      "\tint(n), k=1, noise=float(err),\n",
      "\titers=int(iters), thresh=thresh, verbose=verbose) - 1\n",
      "    hop_tolerance[nidx] = k\n",
      "    print \"Hopfield capacity is %d (%d%% corruption)\" % (k, err*100)\n"
     ],
     "language": "python",
     "outputs": [
      {
       "output_type": "stream",
       "stream": "stdout",
       "text": [
        " 1:  0.00 +/- 0.00\n",
        " 2:  0.00 +/- 0.00\n",
        " 3:  0.00 +/- 0.00\n",
        " 4:  0.00 +/- 0.00\n",
        " 5:  0.00 +/- 0.00\n",
        " 6:  0.00 +/- 0.00"
       ]
      },
      {
       "output_type": "stream",
       "stream": "stdout",
       "text": [
        "\n",
        " 7:  0.00 +/- 0.00\n",
        " 8:  0.00 +/- 0.00\n",
        " 9:  0.00 +/- 0.00\n",
        "Hopfield capacity is 9 (0% corruption)\n",
        " 1:  0.00 +/- 0.00\n",
        " 2:  0.00 +/- 0.00\n",
        " 3:  0.00 +/- 0.00"
       ]
      },
      {
       "output_type": "stream",
       "stream": "stdout",
       "text": [
        "\n",
        " 4:  0.00 +/- 0.00\n",
        " 5:  0.00 +/- 0.00\n",
        "Hopfield capacity is 5 (1% corruption)\n",
        " 1:  0.00 +/- 0.00\n",
        " 2:  0.00 +/- 0.00\n",
        " 3:  0.00 +/- 0.00\n",
        " 4:  0.00 +/- 0.00"
       ]
      },
      {
       "output_type": "stream",
       "stream": "stdout",
       "text": [
        "\n",
        " 5:  0.00 +/- 0.00\n",
        " 6:  0.00 +/- 0.00\n",
        " 7:  0.00 +/- 0.00\n",
        "Hopfield capacity is 7 (2% corruption)\n",
        " 1:  0.00 +/- 0.00\n",
        " 2:  0.00 +/- 0.00"
       ]
      },
      {
       "output_type": "stream",
       "stream": "stdout",
       "text": [
        "\n",
        " 3:  0.00 +/- 0.00\n",
        " 4:  0.00 +/- 0.00\n",
        " 5:  0.00 +/- 0.00\n",
        " 6:  0.00 +/- 0.00\n",
        " 7:  0.00 +/- 0.00"
       ]
      },
      {
       "output_type": "stream",
       "stream": "stdout",
       "text": [
        "\n",
        "Hopfield capacity is 7 (4% corruption)\n",
        " 1:  0.00 +/- 0.00\n",
        " 2:  0.00 +/- 0.00\n",
        " 3:  0.00 +/- 0.00\n",
        " 4:  0.00 +/- 0.00\n",
        " 5:  0.00 +/- 0.00"
       ]
      },
      {
       "output_type": "stream",
       "stream": "stdout",
       "text": [
        "\n",
        " 6:  0.00 +/- 0.00\n",
        "Hopfield capacity is 6 (8% corruption)\n",
        " 1:  0.00 +/- 0.00\n",
        " 2:  0.00 +/- 0.00\n",
        " 3:  0.00 +/- 0.00\n",
        " 4:  0.00 +/- 0.00"
       ]
      },
      {
       "output_type": "stream",
       "stream": "stdout",
       "text": [
        "\n",
        " 5:  0.00 +/- 0.00\n",
        "Hopfield capacity is 5 (16% corruption)\n"
       ]
      }
     ],
     "prompt_number": 10
    },
    {
     "cell_type": "code",
     "collapsed": false,
     "input": [
      "# plot the storage capacity as a function of address space size\n",
      "util.set_fig_properties()\n",
      "data = np.hstack([hop_tolerance[:, None], sdm_tolerance])\n",
      "x = np.arange(data.shape[1])\n",
      "labels = np.hstack([\"Hop.\", M])\n",
      "\n",
      "for nidx, err in enumerate(noise):\n",
      "    f = nidx / (len(noise)-1.)\n",
      "    scolor = (f, f, 1)\n",
      "    hcolor = (1, f, f)\n",
      "    plt.bar(x[:1], data[nidx, :1], align='center', color=hcolor)\n",
      "    plt.bar(x[1:], data[nidx, 1:], align='center', color=scolor)\n",
      "\n",
      "plt.xticks(x, labels)\n",
      "plt.xlim(-1, x.size)\n",
      "plt.xlabel(\"M (# addresses)\")\n",
      "plt.ylabel(\"Capacity (# uncorrupted items)\")\n",
      "plt.title(\"SDM and Hopfield Error Tolerance (N=%d)\" % n)\n",
      "plt.legend(loc=0)\n",
      "\n"
     ],
     "language": "python",
     "outputs": [
      {
       "output_type": "display_data",
       "png": "[encoded data removed]"
      }
     ],
     "prompt_number": 11
    },
    {
     "cell_type": "heading",
     "level": 1,
     "source": [
      "Prototype Retrieval"
     ]
    },
    {
     "cell_type": "code",
     "collapsed": false,
     "input": [
      "reload(metrics)\n",
      "\n",
      "# How well can the SDM/Hopfield net store prototypes?\n",
      "m = 10000\n",
      "kp = 10\n",
      "iters = 100\n",
      "prototype_noise = np.arange(.05, 0.45, 0.05)\n",
      "prototype_k = np.array([5, 10, 20])\n",
      "sdm_prototype = np.empty(\n",
      "\t(prototype_noise.size, prototype_k.size))\n",
      "hop_prototype = np.empty(\n",
      "\t(prototype_noise.size, prototype_k.size))\n",
      "for nidx, err in enumerate(prototype_noise):\n",
      "    for kidx, k in enumerate(prototype_k):\n",
      "\tp = metrics.test_prototype(\n",
      "\t    (int(n), int(m), float(D)), \n",
      "\t    kp=kp, ke=int(k), noise=float(err),\n",
      "\t    iters=int(iters), verbose=verbose)\n",
      "\tsdm_prototype[nidx, kidx] = p\n",
      "\tprint \"%2d ex.: SDM prototype corruption is %f (%d%% corruption)\" % (k, p, err*100)\n",
      "\tp = metrics.test_prototype(\n",
      "\t    int(n), kp=kp, ke=int(k), noise=float(err),\n",
      "\t    iters=int(iters), verbose=verbose)\n",
      "\thop_prototype[nidx, kidx] = p\n",
      "\tprint \"%2d ex.: Hopfield prototype corruption is %f (%d%% corruption)\" % (k, p, err*100)\n",
      "    print"
     ],
     "language": "python",
     "outputs": [
      {
       "output_type": "stream",
       "stream": "stdout",
       "text": [
        "10  5:  0.01 +/- 0.00\n",
        " 5 ex.: SDM prototype corruption is 0.014800 (5% corruption)\n",
        "10  5:  0.02 +/- 0.00\n",
        " 5 ex.: Hopfield prototype corruption is 0.023100 (5% corruption)\n",
        "\n",
        "10  5:  0.05 +/- 0.00\n",
        " 5 ex.: SDM prototype corruption is 0.049500 (10% corruption)\n",
        "10  5:  0.06 +/- 0.00\n",
        " 5 ex.: Hopfield prototype corruption is 0.056400 (10% corruption)\n",
        "\n",
        "10  5:  0.12 +/- 0.00"
       ]
      },
      {
       "output_type": "stream",
       "stream": "stdout",
       "text": [
        "\n",
        " 5 ex.: SDM prototype corruption is 0.117500 (15% corruption)\n",
        "10  5:  0.10 +/- 0.00"
       ]
      },
      {
       "output_type": "stream",
       "stream": "stdout",
       "text": [
        "\n",
        " 5 ex.: Hopfield prototype corruption is 0.100900 (15% corruption)\n",
        "\n",
        "10  5:  0.21 +/- 0.00"
       ]
      },
      {
       "output_type": "stream",
       "stream": "stdout",
       "text": [
        "\n",
        " 5 ex.: SDM prototype corruption is 0.209900 (20% corruption)\n",
        "10  5:  0.17 +/- 0.00"
       ]
      },
      {
       "output_type": "stream",
       "stream": "stdout",
       "text": [
        "\n",
        " 5 ex.: Hopfield prototype corruption is 0.169900 (20% corruption)\n",
        "\n",
        "10  5:  0.31 +/- 0.00"
       ]
      },
      {
       "output_type": "stream",
       "stream": "stdout",
       "text": [
        "\n",
        " 5 ex.: SDM prototype corruption is 0.307700 (25% corruption)\n",
        "10  5:  0.26 +/- 0.00"
       ]
      },
      {
       "output_type": "stream",
       "stream": "stdout",
       "text": [
        "\n",
        " 5 ex.: Hopfield prototype corruption is 0.255700 (25% corruption)\n",
        "\n",
        "10  5:  0.39 +/- 0.00"
       ]
      },
      {
       "output_type": "stream",
       "stream": "stdout",
       "text": [
        "\n",
        " 5 ex.: SDM prototype corruption is 0.388400 (30% corruption)\n",
        "10  5:  0.36 +/- 0.00"
       ]
      },
      {
       "output_type": "stream",
       "stream": "stdout",
       "text": [
        "\n",
        " 5 ex.: Hopfield prototype corruption is 0.358400 (30% corruption)\n",
        "\n",
        "10  5:  0.45 +/- 0.00"
       ]
      },
      {
       "output_type": "stream",
       "stream": "stdout",
       "text": [
        "\n",
        " 5 ex.: SDM prototype corruption is 0.451300 (35% corruption)\n",
        "10  5:  0.45 +/- 0.00"
       ]
      },
      {
       "output_type": "stream",
       "stream": "stdout",
       "text": [
        "\n",
        " 5 ex.: Hopfield prototype corruption is 0.445600 (35% corruption)\n",
        "\n",
        "10  5:  0.50 +/- 0.00"
       ]
      },
      {
       "output_type": "stream",
       "stream": "stdout",
       "text": [
        "\n",
        " 5 ex.: SDM prototype corruption is 0.500400 (40% corruption)\n",
        "10  5:  0.50 +/- 0.00"
       ]
      },
      {
       "output_type": "stream",
       "stream": "stdout",
       "text": [
        "\n",
        " 5 ex.: Hopfield prototype corruption is 0.502400 (40% corruption)\n",
        "\n"
       ]
      }
     ],
     "prompt_number": 28
    },
    {
     "cell_type": "code",
     "collapsed": false,
     "input": [
      " plt.clf()\n",
      "\n",
      "plt.subplot(1, 3, 1)\n",
      "plt.imshow(\n",
      "    1-sdm_prototype, \n",
      "    cmap='gray', interpolation='nearest', vmin=0.5, vmax=1)\n",
      "plt.xticks(np.arange(prototype_k.size), prototype_k)\n",
      "plt.yticks(np.arange(prototype_noise.size), prototype_noise)\n",
      "plt.title(\"SDM (M=%d)\" % m)\n",
      "plt.xlabel(\"Exemplars\")\n",
      "plt.ylabel(\"Percent Corruption\")\n",
      "\n",
      "plt.subplot(1, 3, 2)\n",
      "plt.imshow(\n",
      "    1-hop_prototype, \n",
      "    cmap='gray', interpolation='nearest', vmin=0.5, vmax=1)\n",
      "plt.xticks(np.arange(prototype_k.size), prototype_k)\n",
      "plt.yticks(np.arange(prototype_noise.size), [])\n",
      "plt.title(\"Hopfield\")\n",
      "plt.xlabel(\"Exemplars\")\n",
      "\n",
      "plt.subplot(1, 3, 3)\n",
      "diff = hop_prototype-sdm_prototype\n",
      "plt.imshow(\n",
      "    np.sign(diff)*(1.5**np.log(np.abs(diff))), \n",
      "    cmap='RdBu', interpolation='nearest', vmin=-0.5, vmax=0.5)\n",
      "plt.xticks(np.arange(prototype_k.size), prototype_k)\n",
      "plt.yticks(np.arange(prototype_noise.size), [])\n",
      "plt.title(\"Hopfield-SDM\")\n",
      "plt.xlabel(\"Exemplars\")\n",
      "\n"
     ],
     "language": "python",
     "outputs": []
    },
    {
     "cell_type": "heading",
     "level": 1,
     "source": [
      "Sequence Retrieval"
     ]
    },
    {
     "cell_type": "code",
     "collapsed": false,
     "input": [],
     "language": "python",
     "outputs": []
    }
   ]
  }
 ]
}