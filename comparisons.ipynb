{
 "metadata": {
  "name": "comparisons"
 },
 "nbformat": 3,
 "nbformat_minor": 0,
 "worksheets": [
  {
   "cells": [
    {
     "cell_type": "heading",
     "level": 1,
     "source": [
      "SDM/Hopfield Comparison Code"
     ]
    },
    {
     "cell_type": "code",
     "collapsed": false,
     "input": [
      "\"\"\"SDM/Hopfield Comparison\n",
      "\n",
      "This code compares SDM networks and Hopfield networks on various\n",
      "properties, including appropriate parameter values, storage capacity,\n",
      "\"prototype\" retrieval, and sequence retrieval.\n",
      "\n",
      "Authors: \n",
      "  Jessica Hamrick (jhamrick@berkeley.edu)\n",
      "  Josh Abbott (joshua.abbott@berkeley.edu)\n",
      "\n",
      "\"\"\"\n"
     ],
     "language": "python",
     "outputs": [
      {
       "output_type": "pyout",
       "prompt_number": 1,
       "text": [
        "'SDM/Hopfield Comparison\\n\\nThis code compares SDM networks and Hopfield networks on various\\nproperties, including appropriate parameter values, storage capacity,\\n\"prototype\" retrieval, and sequence retrieval.\\n\\nAuthors: \\n  Jessica Hamrick (jhamrick@berkeley.edu)\\n  Josh Abbott (joshua.abbott@berkeley.edu)\\n\\n'"
       ]
      }
     ],
     "prompt_number": 1
    },
    {
     "cell_type": "code",
     "collapsed": false,
     "input": [
      "import numpy as np\n",
      "import matplotlib.pyplot as plt\n",
      "import scipy.stats\n",
      "import sdm as sdm\n",
      "import hopfield as hop\n",
      "import util as util\n",
      "import metrics as metrics\n"
     ],
     "language": "python",
     "outputs": [],
     "prompt_number": 2
    },
    {
     "cell_type": "heading",
     "level": 1,
     "source": [
      "Parameters"
     ]
    },
    {
     "cell_type": "code",
     "collapsed": false,
     "input": [
      "# SDM Parameters\n",
      "# --------------\n",
      "#   n : length of inputs\n",
      "#   m : number of addresses\n",
      "#   D : hamming radius\n",
      "\n",
      "\n",
      "# Hopfield Parameters\n",
      "# -------------------\n",
      "#   n : length of inputs\n"
     ],
     "language": "python",
     "outputs": [],
     "prompt_number": 3
    },
    {
     "cell_type": "code",
     "collapsed": false,
     "input": [
      "# print extra information\n",
      "verbose = True\n",
      "\n",
      "# length of inputs\n",
      "n = 16**2\n",
      "# number of simulations to run\n",
      "iters = 10\n",
      "# step by which to test storage capacity\n",
      "k = sorted(set(np.round(\n",
      "    np.logspace(\n",
      "\tnp.log(5)/np.log(10),\n",
      "\tnp.log(200)/np.log(10),\n",
      "\tnum=20, base=10),\n",
      "    decimals=0).astype('i8')))\n",
      "\n",
      "# hamming distance encompasses 2.5% of addresses\n",
      "D = float((n / 2.) - (np.sqrt(n*(0.5**2)) * 1.96))\n",
      "#D = 105\n",
      "# address spaces for the SDM\n",
      "M = np.array([500, 1000, 2500, 5000, 10000])\n",
      "\n",
      "# corruption levels to test\n",
      "noise = np.array([0.0, 0.025, 0.05, 0.10, 0.15, 0.20])\n",
      "\n",
      "# colors for plotting\n",
      "colors = ['#FF0000', # red \n",
      "\t  '#FF9933', # orange\n",
      "\t  '#FFFF00', # yellow\n",
      "\t  '#00FF00', # green\n",
      "\t  '#00FFFF', # cyan\n",
      "\t  '#0000FF', # blue\n",
      "\t  '#660099', # violet\n",
      "\t  # '#FF00FF', # magenta\n",
      "\t  '#FF0099', # pink\n",
      "\t  ]\n",
      "# alpha value for error regions in plots\n",
      "alpha = 0.3\n"
     ],
     "language": "python",
     "outputs": [],
     "prompt_number": 4
    },
    {
     "cell_type": "heading",
     "level": 1,
     "source": [
      "Uncorrupted Storage Capacity"
     ]
    },
    {
     "cell_type": "code",
     "collapsed": false,
     "input": [
      "# How many random, uncorrelated inputs can the SDM store?\n",
      "sdm_capacity = np.empty((len(M), len(k), 2))\n",
      "for midx, m in enumerate(M):\n",
      "    print \"SDM (M=%d)\" % m\n",
      "    sdm_capacity[midx] = metrics.test_capacity(\n",
      "\t(int(n), int(m), float(D)), \n",
      "\tk0=k, iters=int(iters), verbose=verbose)\n"
     ],
     "language": "python",
     "outputs": [
      {
       "output_type": "stream",
       "stream": "stdout",
       "text": [
        "SDM (M=500)\n",
        " 5:  0.000 +/- 0.000\n",
        " 6:  0.000 +/- 0.000\n",
        " 7:  0.000 +/- 0.000"
       ]
      },
      {
       "output_type": "stream",
       "stream": "stdout",
       "text": [
        "\n",
        " 9:  0.000 +/- 0.000\n",
        "11:  0.000 +/- 0.000\n",
        "13:  0.000 +/- 0.000\n",
        "16:  0.000 +/- 0.000\n",
        "19:  0.000 +/- 0.000"
       ]
      },
      {
       "output_type": "stream",
       "stream": "stdout",
       "text": [
        "\n",
        "24:  0.001 +/- 0.000\n",
        "29:  0.001 +/- 0.000\n",
        "35:  0.002 +/- 0.000\n",
        "42:  0.004 +/- 0.001\n",
        "51:  0.004 +/- 0.000"
       ]
      },
      {
       "output_type": "stream",
       "stream": "stdout",
       "text": [
        "\n",
        "62:  0.009 +/- 0.000\n",
        "76:  0.015 +/- 0.001\n",
        "92:  0.022 +/- 0.001\n",
        "112:  0.036 +/- 0.001\n",
        "136:  0.046 +/- 0.001"
       ]
      },
      {
       "output_type": "stream",
       "stream": "stdout",
       "text": [
        "\n",
        "165:  0.059 +/- 0.001\n",
        "200:  0.077 +/- 0.001\n",
        "SDM (M=1000)\n",
        " 5:  0.000 +/- 0.000\n",
        " 6:  0.000 +/- 0.000"
       ]
      },
      {
       "output_type": "stream",
       "stream": "stdout",
       "text": [
        "\n",
        " 7:  0.000 +/- 0.000\n",
        " 9:  0.000 +/- 0.000\n",
        "11:  0.000 +/- 0.000\n",
        "13:  0.000 +/- 0.000\n",
        "16:  0.000 +/- 0.000\n",
        "19:  0.000 +/- 0.000"
       ]
      },
      {
       "output_type": "stream",
       "stream": "stdout",
       "text": [
        "\n",
        "24:  0.000 +/- 0.000\n",
        "29:  0.000 +/- 0.000\n",
        "35:  0.000 +/- 0.000\n",
        "42:  0.000 +/- 0.000\n",
        "51:  0.000 +/- 0.000"
       ]
      },
      {
       "output_type": "stream",
       "stream": "stdout",
       "text": [
        "\n",
        "62:  0.001 +/- 0.000\n",
        "76:  0.003 +/- 0.000\n",
        "92:  0.005 +/- 0.000\n",
        "112:  0.010 +/- 0.000"
       ]
      },
      {
       "output_type": "stream",
       "stream": "stdout",
       "text": [
        "\n",
        "136:  0.016 +/- 0.001\n",
        "165:  0.025 +/- 0.001\n",
        "200:  0.034 +/- 0.001\n",
        "SDM (M=2500)\n",
        " 5:  0.000 +/- 0.000\n",
        " 6:  0.000 +/- 0.000"
       ]
      },
      {
       "output_type": "stream",
       "stream": "stdout",
       "text": [
        "\n",
        " 7:  0.000 +/- 0.000\n",
        " 9:  0.000 +/- 0.000\n",
        "11:  0.000 +/- 0.000\n",
        "13:  0.000 +/- 0.000"
       ]
      },
      {
       "output_type": "stream",
       "stream": "stdout",
       "text": [
        "\n",
        "16:  0.000 +/- 0.000\n",
        "19:  0.000 +/- 0.000\n",
        "24:  0.000 +/- 0.000\n",
        "29:  0.000 +/- 0.000\n",
        "35:  0.000 +/- 0.000"
       ]
      },
      {
       "output_type": "stream",
       "stream": "stdout",
       "text": [
        "\n",
        "42:  0.000 +/- 0.000\n",
        "51:  0.000 +/- 0.000\n",
        "62:  0.000 +/- 0.000\n",
        "76:  0.000 +/- 0.000\n",
        "92:  0.001 +/- 0.000"
       ]
      },
      {
       "output_type": "stream",
       "stream": "stdout",
       "text": [
        "\n",
        "112:  0.002 +/- 0.000\n",
        "136:  0.004 +/- 0.000\n",
        "165:  0.007 +/- 0.000\n",
        "200:  0.012 +/- 0.001\n",
        "SDM (M=5000)\n",
        " 5:  0.000 +/- 0.000\n",
        " 6:  0.000 +/- 0.000"
       ]
      },
      {
       "output_type": "stream",
       "stream": "stdout",
       "text": [
        "\n",
        " 7:  0.000 +/- 0.000\n",
        " 9:  0.000 +/- 0.000\n",
        "11:  0.000 +/- 0.000\n",
        "13:  0.000 +/- 0.000\n",
        "16:  0.000 +/- 0.000\n",
        "19:  0.000 +/- 0.000"
       ]
      },
      {
       "output_type": "stream",
       "stream": "stdout",
       "text": [
        "\n",
        "24:  0.000 +/- 0.000\n",
        "29:  0.000 +/- 0.000\n",
        "35:  0.000 +/- 0.000\n",
        "42:  0.000 +/- 0.000\n",
        "51:  0.000 +/- 0.000"
       ]
      },
      {
       "output_type": "stream",
       "stream": "stdout",
       "text": [
        "\n",
        "62:  0.000 +/- 0.000\n",
        "76:  0.000 +/- 0.000\n",
        "92:  0.000 +/- 0.000\n",
        "112:  0.001 +/- 0.000"
       ]
      },
      {
       "output_type": "stream",
       "stream": "stdout",
       "text": [
        "\n",
        "136:  0.002 +/- 0.000\n",
        "165:  0.003 +/- 0.000\n",
        "200:  0.007 +/- 0.000\n",
        "SDM (M=10000)\n",
        " 5:  0.000 +/- 0.000\n",
        " 6:  0.000 +/- 0.000"
       ]
      },
      {
       "output_type": "stream",
       "stream": "stdout",
       "text": [
        "\n",
        " 7:  0.000 +/- 0.000\n",
        " 9:  0.000 +/- 0.000\n",
        "11:  0.000 +/- 0.000\n",
        "13:  0.000 +/- 0.000\n",
        "16:  0.000 +/- 0.000"
       ]
      },
      {
       "output_type": "stream",
       "stream": "stdout",
       "text": [
        "\n",
        "19:  0.000 +/- 0.000\n",
        "24:  0.000 +/- 0.000\n",
        "29:  0.000 +/- 0.000\n",
        "35:  0.000 +/- 0.000\n",
        "42:  0.000 +/- 0.000"
       ]
      },
      {
       "output_type": "stream",
       "stream": "stdout",
       "text": [
        "\n",
        "51:  0.000 +/- 0.000\n",
        "62:  0.000 +/- 0.000\n",
        "76:  0.000 +/- 0.000\n",
        "92:  0.000 +/- 0.000\n",
        "112:  0.000 +/- 0.000"
       ]
      },
      {
       "output_type": "stream",
       "stream": "stdout",
       "text": [
        "\n",
        "136:  0.001 +/- 0.000\n",
        "165:  0.002 +/- 0.000\n",
        "200:  0.005 +/- 0.001\n"
       ]
      }
     ],
     "prompt_number": 103
    },
    {
     "cell_type": "code",
     "collapsed": false,
     "input": [
      "# How many random, uncorrelated inputs can the Hopfield net store?\n",
      "print \"Hopfield\"\n",
      "hop_capacity = metrics.test_capacity(\n",
      "    int(n), k0=k, iters=int(iters), verbose=verbose)\n"
     ],
     "language": "python",
     "outputs": [
      {
       "output_type": "stream",
       "stream": "stdout",
       "text": [
        "Hopfield\n",
        " 5:  0.000 +/- 0.000\n",
        " 6:  0.000 +/- 0.000\n",
        " 7:  0.000 +/- 0.000\n",
        " 9:  0.000 +/- 0.000\n",
        "11:  0.000 +/- 0.000"
       ]
      },
      {
       "output_type": "stream",
       "stream": "stdout",
       "text": [
        "\n",
        "13:  0.000 +/- 0.000\n",
        "16:  0.000 +/- 0.000\n",
        "19:  0.000 +/- 0.000\n",
        "24:  0.000 +/- 0.000\n",
        "29:  0.000 +/- 0.000\n",
        "35:  0.001 +/- 0.000"
       ]
      },
      {
       "output_type": "stream",
       "stream": "stdout",
       "text": [
        "\n",
        "42:  0.002 +/- 0.000\n",
        "51:  0.004 +/- 0.000\n",
        "62:  0.006 +/- 0.000\n",
        "76:  0.008 +/- 0.000"
       ]
      },
      {
       "output_type": "stream",
       "stream": "stdout",
       "text": [
        "\n",
        "92:  0.011 +/- 0.000\n",
        "112:  0.014 +/- 0.000\n",
        "136:  0.017 +/- 0.000\n",
        "165:  0.019 +/- 0.000\n",
        "200:  0.021 +/- 0.000"
       ]
      },
      {
       "output_type": "stream",
       "stream": "stdout",
       "text": [
        "\n"
       ]
      }
     ],
     "prompt_number": 104
    },
    {
     "cell_type": "code",
     "collapsed": false,
     "input": [
      "# plot corruption as a function of items stored\n",
      "util.set_fig_properties()\n",
      "for i in xrange(M.size):\n",
      "    util.plot_error(k, sdm_capacity[i], colors[i], alpha, 'SDM M=%d' % M[i])\n",
      "util.plot_error(k, hop_capacity, colors[i+1], alpha, 'Hopfield', linestyle='--')\n",
      "\n",
      "plt.xlim(k[0], k[-1])\n",
      "plt.xlabel(\"Number of stored items\")\n",
      "plt.ylabel(\"Mean fraction of corrupted bits\")\n",
      "plt.title(\"SDM and Hopfield Capacities for Ideal Inputs (N=%d)\" % n)\n",
      "plt.legend(loc=0)\n",
      "\n",
      "util.save(\"figures/capacity.svg\", width=8, height=6, f_close=False)\n"
     ],
     "language": "python",
     "outputs": [
      {
       "output_type": "stream",
       "stream": "stdout",
       "text": [
        "Saving figure to 'figures/capacity.svg'... "
       ]
      },
      {
       "output_type": "stream",
       "stream": "stdout",
       "text": [
        "Done\n"
       ]
      },
      {
       "output_type": "display_data",
       "png": "[encoded data removed]"
      }
     ],
     "prompt_number": 109
    },
    {
     "cell_type": "heading",
     "level": 1,
     "source": [
      "Noise Tolerance"
     ]
    },
    {
     "cell_type": "code",
     "collapsed": false,
     "input": [
      "# How many random, uncorrelated inputs can the SDM store and be able\n",
      "# to retrieve even with corruption?\n",
      "m = M[-1]\n",
      "sdm_tolerance = np.empty((len(noise), len(k), 2))\n",
      "for nidx, err in enumerate(noise):\n",
      "    print \"SDM (M=%d) w/ %.2f%% corruption\" % (m, err*100)\n",
      "    sdm_tolerance[nidx] = metrics.test_noise_tolerance(\n",
      "\t(int(n), int(m), float(D)), \n",
      "\tk0=k, noise=float(err),\n",
      "\titers=int(iters), verbose=verbose)\n",
      "    "
     ],
     "language": "python",
     "outputs": [
      {
       "output_type": "stream",
       "stream": "stdout",
       "text": [
        "SDM (M=10000) w/ 0.00% corruption\n",
        " 5:  0.000 +/- 0.000\n",
        " 6:  0.000 +/- 0.000\n",
        " 7:  0.000 +/- 0.000\n",
        " 9:  0.000 +/- 0.000"
       ]
      },
      {
       "output_type": "stream",
       "stream": "stdout",
       "text": [
        "\n",
        "11:  0.000 +/- 0.000\n",
        "13:  0.000 +/- 0.000\n",
        "16:  0.000 +/- 0.000\n",
        "19:  0.000 +/- 0.000"
       ]
      },
      {
       "output_type": "stream",
       "stream": "stdout",
       "text": [
        "\n",
        "24:  0.000 +/- 0.000\n",
        "29:  0.000 +/- 0.000\n",
        "35:  0.000 +/- 0.000\n",
        "42:  0.000 +/- 0.000\n",
        "51:  0.000 +/- 0.000"
       ]
      },
      {
       "output_type": "stream",
       "stream": "stdout",
       "text": [
        "\n",
        "62:  0.000 +/- 0.000\n",
        "76:  0.000 +/- 0.000\n",
        "92:  0.000 +/- 0.000\n",
        "112:  0.000 +/- 0.000\n",
        "136:  0.001 +/- 0.000"
       ]
      },
      {
       "output_type": "stream",
       "stream": "stdout",
       "text": [
        "\n",
        "165:  0.002 +/- 0.000\n",
        "200:  0.005 +/- 0.001\n",
        "SDM (M=10000) w/ 2.50% corruption\n",
        " 5:  0.000 +/- 0.000\n",
        " 6:  0.000 +/- 0.000\n",
        " 7:  0.000 +/- 0.000"
       ]
      },
      {
       "output_type": "stream",
       "stream": "stdout",
       "text": [
        "\n",
        " 9:  0.000 +/- 0.000\n",
        "11:  0.000 +/- 0.000\n",
        "13:  0.000 +/- 0.000\n",
        "16:  0.000 +/- 0.000\n",
        "19:  0.000 +/- 0.000"
       ]
      },
      {
       "output_type": "stream",
       "stream": "stdout",
       "text": [
        "\n",
        "24:  0.000 +/- 0.000\n",
        "29:  0.000 +/- 0.000\n",
        "35:  0.000 +/- 0.000\n",
        "42:  0.000 +/- 0.000\n",
        "51:  0.000 +/- 0.000"
       ]
      },
      {
       "output_type": "stream",
       "stream": "stdout",
       "text": [
        "\n",
        "62:  0.000 +/- 0.000\n",
        "76:  0.001 +/- 0.000\n",
        "92:  0.003 +/- 0.000\n",
        "112:  0.006 +/- 0.000"
       ]
      },
      {
       "output_type": "stream",
       "stream": "stdout",
       "text": [
        "\n",
        "136:  0.011 +/- 0.001\n",
        "165:  0.016 +/- 0.001\n",
        "200:  0.023 +/- 0.001\n",
        "SDM (M=10000) w/ 5.00% corruption\n",
        " 5:  0.000 +/- 0.000"
       ]
      },
      {
       "output_type": "stream",
       "stream": "stdout",
       "text": [
        "\n",
        " 6:  0.000 +/- 0.000\n",
        " 7:  0.000 +/- 0.000\n",
        " 9:  0.000 +/- 0.000\n",
        "11:  0.000 +/- 0.000\n",
        "13:  0.000 +/- 0.000"
       ]
      },
      {
       "output_type": "stream",
       "stream": "stdout",
       "text": [
        "\n",
        "16:  0.000 +/- 0.000\n",
        "19:  0.000 +/- 0.000\n",
        "24:  0.000 +/- 0.000\n",
        "29:  0.000 +/- 0.000\n",
        "35:  0.000 +/- 0.000"
       ]
      },
      {
       "output_type": "stream",
       "stream": "stdout",
       "text": [
        "\n",
        "42:  0.000 +/- 0.000\n",
        "51:  0.001 +/- 0.000\n",
        "62:  0.003 +/- 0.000\n",
        "76:  0.006 +/- 0.001"
       ]
      },
      {
       "output_type": "stream",
       "stream": "stdout",
       "text": [
        "\n",
        "92:  0.010 +/- 0.001\n",
        "112:  0.018 +/- 0.001\n",
        "136:  0.023 +/- 0.001\n",
        "165:  0.035 +/- 0.001\n",
        "200:  0.046 +/- 0.002"
       ]
      },
      {
       "output_type": "stream",
       "stream": "stdout",
       "text": [
        "\n",
        "SDM (M=10000) w/ 10.00% corruption\n",
        " 5:  0.000 +/- 0.000\n",
        " 6:  0.000 +/- 0.000\n",
        " 7:  0.000 +/- 0.000\n",
        " 9:  0.000 +/- 0.000\n",
        "11:  0.000 +/- 0.000"
       ]
      },
      {
       "output_type": "stream",
       "stream": "stdout",
       "text": [
        "\n",
        "13:  0.000 +/- 0.000\n",
        "16:  0.000 +/- 0.000\n",
        "19:  0.000 +/- 0.000\n",
        "24:  0.001 +/- 0.000\n",
        "29:  0.003 +/- 0.000"
       ]
      },
      {
       "output_type": "stream",
       "stream": "stdout",
       "text": [
        "\n",
        "35:  0.004 +/- 0.001\n",
        "42:  0.009 +/- 0.001\n",
        "51:  0.016 +/- 0.001\n",
        "62:  0.022 +/- 0.002\n",
        "76:  0.031 +/- 0.001\n",
        "92:  0.045 +/- 0.002"
       ]
      },
      {
       "output_type": "stream",
       "stream": "stdout",
       "text": [
        "\n",
        "112:  0.057 +/- 0.002\n",
        "136:  0.078 +/- 0.002\n",
        "165:  0.092 +/- 0.002\n",
        "200:  0.103 +/- 0.003\n",
        "SDM (M=10000) w/ 15.00% corruption\n",
        " 5:  0.000 +/- 0.000"
       ]
      },
      {
       "output_type": "stream",
       "stream": "stdout",
       "text": [
        "\n",
        " 6:  0.000 +/- 0.000\n",
        " 7:  0.000 +/- 0.000\n",
        " 9:  0.000 +/- 0.000\n",
        "11:  0.000 +/- 0.000\n",
        "13:  0.000 +/- 0.000"
       ]
      },
      {
       "output_type": "stream",
       "stream": "stdout",
       "text": [
        "\n",
        "16:  0.001 +/- 0.000\n",
        "19:  0.003 +/- 0.000\n",
        "24:  0.008 +/- 0.001\n",
        "29:  0.016 +/- 0.001\n",
        "35:  0.022 +/- 0.001"
       ]
      },
      {
       "output_type": "stream",
       "stream": "stdout",
       "text": [
        "\n",
        "42:  0.029 +/- 0.002\n",
        "51:  0.044 +/- 0.002\n",
        "62:  0.063 +/- 0.003\n",
        "76:  0.074 +/- 0.003\n",
        "92:  0.095 +/- 0.002"
       ]
      },
      {
       "output_type": "stream",
       "stream": "stdout",
       "text": [
        "\n",
        "112:  0.107 +/- 0.002\n",
        "136:  0.131 +/- 0.003\n",
        "165:  0.144 +/- 0.003\n",
        "200:  0.163 +/- 0.003\n",
        "SDM (M=10000) w/ 20.00% corruption\n",
        " 5:  0.000 +/- 0.000"
       ]
      },
      {
       "output_type": "stream",
       "stream": "stdout",
       "text": [
        "\n",
        " 6:  0.000 +/- 0.000\n",
        " 7:  0.000 +/- 0.000\n",
        " 9:  0.003 +/- 0.001\n",
        "11:  0.005 +/- 0.002\n",
        "13:  0.008 +/- 0.001\n",
        "16:  0.015 +/- 0.002"
       ]
      },
      {
       "output_type": "stream",
       "stream": "stdout",
       "text": [
        "\n",
        "19:  0.025 +/- 0.002\n",
        "24:  0.038 +/- 0.001\n",
        "29:  0.052 +/- 0.003\n",
        "35:  0.066 +/- 0.002\n",
        "42:  0.082 +/- 0.003"
       ]
      },
      {
       "output_type": "stream",
       "stream": "stdout",
       "text": [
        "\n",
        "51:  0.102 +/- 0.003\n",
        "62:  0.124 +/- 0.002\n",
        "76:  0.142 +/- 0.002\n",
        "92:  0.166 +/- 0.003\n",
        "112:  0.181 +/- 0.002\n",
        "136:  0.198 +/- 0.002"
       ]
      },
      {
       "output_type": "stream",
       "stream": "stdout",
       "text": [
        "\n",
        "165:  0.220 +/- 0.003\n",
        "200:  0.230 +/- 0.002\n"
       ]
      }
     ],
     "prompt_number": 110
    },
    {
     "cell_type": "code",
     "collapsed": false,
     "input": [
      "# How many random, uncorrelated inputs can the Hopfield net store and\n",
      "# be able to retrieve even with corruption?\n",
      "hop_tolerance = np.empty((len(noise), len(k), 2))\n",
      "for nidx, err in enumerate(noise):\n",
      "    print \"Hopfield w/ %.2f%% corruption\" % (err*100)\n",
      "    hop_tolerance[nidx] = metrics.test_noise_tolerance(\n",
      "\tint(n), k0=k, noise=float(err),\n",
      "\titers=int(iters), verbose=verbose)\n"
     ],
     "language": "python",
     "outputs": [
      {
       "output_type": "stream",
       "stream": "stdout",
       "text": [
        "Hopfield w/ 0.00% corruption\n",
        " 5:  0.000 +/- 0.000\n",
        " 6:  0.000 +/- 0.000\n",
        " 7:  0.000 +/- 0.000\n",
        " 9:  0.000 +/- 0.000\n",
        "11:  0.000 +/- 0.000"
       ]
      },
      {
       "output_type": "stream",
       "stream": "stdout",
       "text": [
        "\n",
        "13:  0.000 +/- 0.000\n",
        "16:  0.000 +/- 0.000\n",
        "19:  0.000 +/- 0.000\n",
        "24:  0.000 +/- 0.000"
       ]
      },
      {
       "output_type": "stream",
       "stream": "stdout",
       "text": [
        "\n",
        "29:  0.000 +/- 0.000\n",
        "35:  0.001 +/- 0.000\n",
        "42:  0.002 +/- 0.000\n",
        "51:  0.004 +/- 0.000\n",
        "62:  0.006 +/- 0.000"
       ]
      },
      {
       "output_type": "stream",
       "stream": "stdout",
       "text": [
        "\n",
        "76:  0.008 +/- 0.000\n",
        "92:  0.011 +/- 0.000\n",
        "112:  0.014 +/- 0.000\n",
        "136:  0.017 +/- 0.000\n",
        "165:  0.019 +/- 0.000"
       ]
      },
      {
       "output_type": "stream",
       "stream": "stdout",
       "text": [
        "\n",
        "200:  0.021 +/- 0.000\n",
        "Hopfield w/ 2.50% corruption\n",
        " 5:  0.000 +/- 0.000\n",
        " 6:  0.000 +/- 0.000\n",
        " 7:  0.001 +/- 0.000\n",
        " 9:  0.001 +/- 0.000\n",
        "11:  0.000 +/- 0.000"
       ]
      },
      {
       "output_type": "stream",
       "stream": "stdout",
       "text": [
        "\n",
        "13:  0.000 +/- 0.000\n",
        "16:  0.000 +/- 0.000\n",
        "19:  0.000 +/- 0.000\n",
        "24:  0.001 +/- 0.000\n",
        "29:  0.001 +/- 0.000"
       ]
      },
      {
       "output_type": "stream",
       "stream": "stdout",
       "text": [
        "\n",
        "35:  0.002 +/- 0.000\n",
        "42:  0.004 +/- 0.000\n",
        "51:  0.006 +/- 0.000\n",
        "62:  0.009 +/- 0.000\n",
        "76:  0.013 +/- 0.000"
       ]
      },
      {
       "output_type": "stream",
       "stream": "stdout",
       "text": [
        "\n",
        "92:  0.018 +/- 0.000\n",
        "112:  0.022 +/- 0.000\n",
        "136:  0.027 +/- 0.000\n",
        "165:  0.030 +/- 0.000\n",
        "200:  0.034 +/- 0.000"
       ]
      },
      {
       "output_type": "stream",
       "stream": "stdout",
       "text": [
        "\n",
        "Hopfield w/ 5.00% corruption\n",
        " 5:  0.000 +/- 0.000\n",
        " 6:  0.001 +/- 0.000\n",
        " 7:  0.001 +/- 0.000\n",
        " 9:  0.001 +/- 0.000\n",
        "11:  0.001 +/- 0.000"
       ]
      },
      {
       "output_type": "stream",
       "stream": "stdout",
       "text": [
        "\n",
        "13:  0.001 +/- 0.000\n",
        "16:  0.001 +/- 0.000\n",
        "19:  0.001 +/- 0.000\n",
        "24:  0.002 +/- 0.000\n",
        "29:  0.002 +/- 0.000\n",
        "35:  0.003 +/- 0.000"
       ]
      },
      {
       "output_type": "stream",
       "stream": "stdout",
       "text": [
        "\n",
        "42:  0.006 +/- 0.000\n",
        "51:  0.009 +/- 0.000\n",
        "62:  0.013 +/- 0.000\n",
        "76:  0.019 +/- 0.000"
       ]
      },
      {
       "output_type": "stream",
       "stream": "stdout",
       "text": [
        "\n",
        "92:  0.025 +/- 0.000\n",
        "112:  0.031 +/- 0.001\n",
        "136:  0.038 +/- 0.000\n",
        "165:  0.043 +/- 0.000\n",
        "200:  0.047 +/- 0.000"
       ]
      },
      {
       "output_type": "stream",
       "stream": "stdout",
       "text": [
        "\n",
        "Hopfield w/ 10.00% corruption\n",
        " 5:  0.002 +/- 0.000\n",
        " 6:  0.002 +/- 0.000\n",
        " 7:  0.002 +/- 0.000\n",
        " 9:  0.002 +/- 0.000\n",
        "11:  0.002 +/- 0.000\n",
        "13:  0.002 +/- 0.000"
       ]
      },
      {
       "output_type": "stream",
       "stream": "stdout",
       "text": [
        "\n",
        "16:  0.002 +/- 0.000\n",
        "19:  0.003 +/- 0.000\n",
        "24:  0.004 +/- 0.000\n",
        "29:  0.006 +/- 0.000"
       ]
      },
      {
       "output_type": "stream",
       "stream": "stdout",
       "text": [
        "\n",
        "35:  0.010 +/- 0.001\n",
        "42:  0.014 +/- 0.000\n",
        "51:  0.020 +/- 0.000\n",
        "62:  0.027 +/- 0.000"
       ]
      },
      {
       "output_type": "stream",
       "stream": "stdout",
       "text": [
        "\n",
        "76:  0.037 +/- 0.001\n",
        "92:  0.047 +/- 0.001\n",
        "112:  0.056 +/- 0.000\n",
        "136:  0.065 +/- 0.000\n",
        "165:  0.074 +/- 0.000"
       ]
      },
      {
       "output_type": "stream",
       "stream": "stdout",
       "text": [
        "\n",
        "200:  0.080 +/- 0.000\n",
        "Hopfield w/ 15.00% corruption\n",
        " 5:  0.004 +/- 0.001\n",
        " 6:  0.003 +/- 0.000\n",
        " 7:  0.003 +/- 0.000\n",
        " 9:  0.003 +/- 0.000"
       ]
      },
      {
       "output_type": "stream",
       "stream": "stdout",
       "text": [
        "\n",
        "11:  0.003 +/- 0.000\n",
        "13:  0.003 +/- 0.000\n",
        "16:  0.004 +/- 0.000\n",
        "19:  0.005 +/- 0.000\n",
        "24:  0.009 +/- 0.001"
       ]
      },
      {
       "output_type": "stream",
       "stream": "stdout",
       "text": [
        "\n",
        "29:  0.015 +/- 0.001\n",
        "35:  0.022 +/- 0.001\n",
        "42:  0.029 +/- 0.001\n",
        "51:  0.038 +/- 0.001\n",
        "62:  0.051 +/- 0.001"
       ]
      },
      {
       "output_type": "stream",
       "stream": "stdout",
       "text": [
        "\n",
        "76:  0.063 +/- 0.000\n",
        "92:  0.075 +/- 0.001\n",
        "112:  0.087 +/- 0.001\n",
        "136:  0.099 +/- 0.001\n",
        "165:  0.110 +/- 0.000"
       ]
      },
      {
       "output_type": "stream",
       "stream": "stdout",
       "text": [
        "\n",
        "200:  0.119 +/- 0.000\n",
        "Hopfield w/ 20.00% corruption\n",
        " 5:  0.004 +/- 0.001\n",
        " 6:  0.003 +/- 0.000\n",
        " 7:  0.004 +/- 0.001"
       ]
      },
      {
       "output_type": "stream",
       "stream": "stdout",
       "text": [
        "\n",
        " 9:  0.004 +/- 0.001\n",
        "11:  0.005 +/- 0.001\n",
        "13:  0.006 +/- 0.000\n",
        "16:  0.008 +/- 0.001\n",
        "19:  0.012 +/- 0.001\n",
        "24:  0.020 +/- 0.001"
       ]
      },
      {
       "output_type": "stream",
       "stream": "stdout",
       "text": [
        "\n",
        "29:  0.029 +/- 0.001\n",
        "35:  0.040 +/- 0.001\n",
        "42:  0.051 +/- 0.001\n",
        "51:  0.066 +/- 0.001\n",
        "62:  0.083 +/- 0.001"
       ]
      },
      {
       "output_type": "stream",
       "stream": "stdout",
       "text": [
        "\n",
        "76:  0.097 +/- 0.001\n",
        "92:  0.113 +/- 0.001\n",
        "112:  0.127 +/- 0.001\n",
        "136:  0.140 +/- 0.001\n",
        "165:  0.152 +/- 0.000"
       ]
      },
      {
       "output_type": "stream",
       "stream": "stdout",
       "text": [
        "\n",
        "200:  0.163 +/- 0.000\n"
       ]
      }
     ],
     "prompt_number": 111
    },
    {
     "cell_type": "code",
     "collapsed": false,
     "input": [
      "# plot the storage capacity as a function of address space size\n",
      "util.set_fig_properties()\n",
      "\n",
      "for nidx, err in enumerate(noise):\n",
      "    util.plot_error(k, sdm_tolerance[nidx], colors[nidx], alpha,\n",
      "\t\t    \"SDM %d%% corruption\" % (err*100),\n",
      "\t\t    linestyle='-')\n",
      "    util.plot_error(k, hop_tolerance[nidx], colors[nidx], alpha,\n",
      "\t\t    \"Hop %d%% corruption\" % (err*100),\n",
      "\t\t    linestyle='--')\n",
      "\n",
      "plt.xlim(k[0], k[-1])\n",
      "plt.xlabel(\"Number of stored items\")\n",
      "plt.ylabel(\"Fraction of corrupted bits\")\n",
      "plt.title(\"SDM (M=%d) and Hopfield Error Tolerance (N=%d)\" % (m, n))\n",
      "plt.legend(loc=0)\n",
      "\n",
      "util.save(\"figures/tolerance.svg\", width=8, height=6, f_close=False)\n"
     ],
     "language": "python",
     "outputs": [
      {
       "output_type": "stream",
       "stream": "stdout",
       "text": [
        "Saving figure to 'figures/tolerance.svg'... "
       ]
      },
      {
       "output_type": "stream",
       "stream": "stdout",
       "text": [
        "Done\n"
       ]
      },
      {
       "output_type": "display_data",
       "png": "[encoded data removed]"
      }
     ],
     "prompt_number": 112
    },
    {
     "cell_type": "heading",
     "level": 1,
     "source": [
      "Prototype Retrieval"
     ]
    },
    {
     "cell_type": "code",
     "collapsed": false,
     "input": [
      "# How well can the SDM/Hopfield net store prototypes?\n",
      "m = M[-1]\n",
      "kp = 3\n",
      "prototype_noise = noise.copy()\n",
      "prototype_k = np.array([10, 25, 50, 100])\n",
      "\n",
      "sdm_prototype = np.empty((prototype_noise.size, prototype_k.size))\n",
      "hop_prototype = np.empty((prototype_noise.size, prototype_k.size))\n",
      "for nidx, err in enumerate(prototype_noise):\n",
      "    print \"Noise:\", err\n",
      "    for kidx, k in enumerate(prototype_k):\n",
      "\tprint \"SDM\",\n",
      "\tp = metrics.test_prototype(\n",
      "\t    (int(n), int(m), float(D)), \n",
      "\t    kp=kp, ke=int(k), noise=float(err),\n",
      "\t    iters=int(iters), verbose=verbose)\n",
      "\tsdm_prototype[nidx, kidx] = p\n",
      "\tprint \"Hop\",\n",
      "\tp = metrics.test_prototype(\n",
      "\t    int(n), kp=kp, ke=int(k), noise=float(err),\n",
      "\t    iters=int(iters), verbose=verbose)\n",
      "\thop_prototype[nidx, kidx] = p\n",
      "\n",
      "\tprint\n"
     ],
     "language": "python",
     "outputs": [
      {
       "output_type": "stream",
       "stream": "stdout",
       "text": [
        "Noise: 0.0\n",
        "SDM  3 10:  0.000 +/- 0.000\n",
        "Hop  3 10:  0.000 +/- 0.000\n",
        "\n",
        "SDM "
       ]
      },
      {
       "output_type": "stream",
       "stream": "stdout",
       "text": [
        " 3 25:  0.000 +/- 0.000\n",
        "Hop  3 25:  0.000 +/- 0.000\n",
        "\n",
        "SDM  3 50:  0.000 +/- 0.000\n",
        "Hop  3 50:  0.000 +/- 0.000\n",
        "\n",
        "SDM "
       ]
      },
      {
       "output_type": "stream",
       "stream": "stdout",
       "text": [
        " 3 100:  0.000 +/- 0.000\n",
        "Hop  3 100:  0.000 +/- 0.000\n",
        "\n",
        "Noise: 0.025\n",
        "SDM  3 10:  0.000 +/- 0.000\n",
        "Hop  3 10:  0.000 +/- 0.000\n",
        "\n",
        "SDM "
       ]
      },
      {
       "output_type": "stream",
       "stream": "stdout",
       "text": [
        " 3 25:  0.000 +/- 0.000\n",
        "Hop  3 25:  0.001 +/- 0.000\n",
        "\n",
        "SDM  3 50:  0.000 +/- 0.000\n",
        "Hop  3 50:  0.000 +/- 0.000\n",
        "\n",
        "SDM  3 100:  0.000 +/- 0.000\n",
        "Hop "
       ]
      },
      {
       "output_type": "stream",
       "stream": "stdout",
       "text": [
        " 3 100:  0.001 +/- 0.000\n",
        "\n",
        "Noise: 0.05\n",
        "SDM  3 10:  0.000 +/- 0.000\n",
        "Hop  3 10:  0.001 +/- 0.000\n",
        "\n",
        "SDM  3 25:  0.000 +/- 0.000\n",
        "Hop "
       ]
      },
      {
       "output_type": "stream",
       "stream": "stdout",
       "text": [
        " 3 25:  0.001 +/- 0.000\n",
        "\n",
        "SDM  3 50:  0.000 +/- 0.000\n",
        "Hop  3 50:  0.001 +/- 0.000\n",
        "\n",
        "SDM "
       ]
      },
      {
       "output_type": "stream",
       "stream": "stdout",
       "text": [
        " 3 100:  0.000 +/- 0.000\n",
        "Hop  3 100:  0.001 +/- 0.000\n",
        "\n",
        "Noise: 0.1\n",
        "SDM  3 10:  0.001 +/- 0.000\n",
        "Hop  3 10:  0.003 +/- 0.001\n",
        "\n",
        "SDM "
       ]
      },
      {
       "output_type": "stream",
       "stream": "stdout",
       "text": [
        " 3 25:  0.000 +/- 0.000\n",
        "Hop  3 25:  0.002 +/- 0.000\n",
        "\n",
        "SDM  3 50:  0.000 +/- 0.000\n",
        "Hop "
       ]
      },
      {
       "output_type": "stream",
       "stream": "stdout",
       "text": [
        " 3 50:  0.001 +/- 0.000\n",
        "\n",
        "SDM  3 100:  0.000 +/- 0.000\n",
        "Hop  3 100:  0.003 +/- 0.000\n",
        "\n",
        "Noise: 0.15\n",
        "SDM  3 10:  0.009 +/- 0.001\n",
        "Hop  3 10:  0.007 +/- 0.001\n",
        "\n",
        "SDM "
       ]
      },
      {
       "output_type": "stream",
       "stream": "stdout",
       "text": [
        " 3 25:  0.001 +/- 0.000\n",
        "Hop  3 25:  0.002 +/- 0.001\n",
        "\n",
        "SDM  3 50:  0.000 +/- 0.000\n",
        "Hop  3 50:  0.003 +/- 0.001\n",
        "\n",
        "SDM "
       ]
      },
      {
       "output_type": "stream",
       "stream": "stdout",
       "text": [
        " 3 100:  0.000 +/- 0.000\n",
        "Hop  3 100:  0.003 +/- 0.001\n",
        "\n",
        "Noise: 0.2\n",
        "SDM  3 10:  0.030 +/- 0.002\n",
        "Hop  3 10:  0.020 +/- 0.002\n",
        "\n",
        "SDM "
       ]
      },
      {
       "output_type": "stream",
       "stream": "stdout",
       "text": [
        " 3 25:  0.004 +/- 0.001\n",
        "Hop  3 25:  0.007 +/- 0.001\n",
        "\n",
        "SDM  3 50:  0.002 +/- 0.001\n",
        "Hop  3 50:  0.004 +/- 0.001\n",
        "\n",
        "SDM  3 100:  0.000 +/- 0.000\n",
        "Hop "
       ]
      },
      {
       "output_type": "stream",
       "stream": "stdout",
       "text": [
        " 3 100:  0.004 +/- 0.001\n",
        "\n"
       ]
      }
     ],
     "prompt_number": 113
    },
    {
     "cell_type": "code",
     "collapsed": false,
     "input": [
      "vmin = 0.97\n",
      "vmax = 1\n",
      "plt.clf()\n",
      "\n",
      "gs = plt.GridSpec(1, 3, width_ratios=[10, 10, 1])\n",
      "\n",
      "plt.subplot(gs[0])\n",
      "im = plt.imshow(\n",
      "    1-sdm_prototype, \n",
      "    cmap='gray', interpolation='nearest', \n",
      "    vmin=vmin, vmax=vmax,\n",
      "    origin='lower')\n",
      "plt.xticks(np.arange(prototype_k.size), prototype_k)\n",
      "plt.yticks(np.arange(noise.size), noise)\n",
      "plt.title(\"SDM (M=%d)\" % m)\n",
      "plt.xlabel(\"Exemplars\")\n",
      "plt.ylabel(\"Exemplar Percent Corruption\")\n",
      "\n",
      "plt.subplot(gs[1])\n",
      "plt.imshow(\n",
      "    1-hop_prototype, \n",
      "    cmap='gray', interpolation='nearest', \n",
      "    vmin=vmin, vmax=vmax,\n",
      "    origin='lower')\n",
      "plt.xticks(np.arange(prototype_k.size), prototype_k)\n",
      "plt.yticks(np.arange(noise.size), [])\n",
      "plt.title(\"Hopfield\")\n",
      "plt.xlabel(\"Exemplars\")\n",
      "\n",
      "sp = plt.subplot(gs[2])\n",
      "plt.colorbar(im, cax=sp)\n",
      "sp.set_ylabel(\"Prototype Accuracy\")\n",
      "\n",
      "plt.suptitle(\"Prototype Retrieval from Stored Exemplars\", fontsize=15)\n",
      "\n",
      "util.save(\"figures/prototype.svg\", width=8, height=6, f_close=False)\n"
     ],
     "language": "python",
     "outputs": [
      {
       "output_type": "stream",
       "stream": "stdout",
       "text": [
        "Saving figure to 'figures/prototype.svg'... "
       ]
      },
      {
       "output_type": "stream",
       "stream": "stdout",
       "text": [
        "Done\n"
       ]
      },
      {
       "output_type": "display_data",
       "png": "[encoded data removed]"
      }
     ],
     "prompt_number": 114
    },
    {
     "cell_type": "code",
     "collapsed": false,
     "input": [
      "diff = hop_prototype-sdm_prototype\n",
      "diff = np.sign(diff)*(1.5**np.log(np.abs(diff)))\n",
      "diffmax = np.max(np.abs(diff))\n",
      "plt.clf()\n",
      "\n",
      "gs = plt.GridSpec(1, 2, width_ratios=[20, 1])\n",
      "\n",
      "plt.subplot(gs[0])\n",
      "im = plt.imshow(\n",
      "    diff,\n",
      "    cmap='RdBu', interpolation='nearest', \n",
      "    vmin=-diffmax, vmax=diffmax,\n",
      "    origin='lower')\n",
      "plt.xticks(np.arange(prototype_k.size), prototype_k)\n",
      "plt.yticks(np.arange(noise.size), [])\n",
      "plt.xlabel(\"Exemplars\")\n",
      "\n",
      "sp = plt.subplot(gs[1])\n",
      "cb = plt.colorbar(im, sp)\n",
      "cb.set_ticks([-diffmax, 0, diffmax])\n",
      "#sp.set_ticks([-diffmax, 0, diffmax])\n",
      "sp.set_yticklabels(['Hopfield better',\n",
      "\t\t    'No difference', \n",
      "\t\t    'SDM better'])\n",
      "\n",
      "plt.suptitle(\"Difference between Hopfield and SDM prototype retrieval\", fontsize=15)\n",
      "\n",
      "util.save(\"figures/prototype-diff.svg\", width=8, height=6, f_close=False)\n"
     ],
     "language": "python",
     "outputs": [
      {
       "output_type": "stream",
       "stream": "stdout",
       "text": [
        "Saving figure to 'figures/prototype-diff.svg'... "
       ]
      },
      {
       "output_type": "stream",
       "stream": "stdout",
       "text": [
        "Done\n"
       ]
      },
      {
       "output_type": "display_data",
       "png": "[encoded data removed]"
      }
     ],
     "prompt_number": 115
    },
    {
     "cell_type": "code",
     "collapsed": false,
     "input": [
      "import scipy.io as io\n",
      "\n",
      "b = 20\n",
      "m = M[-1]\n",
      "nex = 9\n",
      "\n",
      "data = io.loadmat('numbers.mat')\n",
      "zero = data['zero']\n",
      "one = data['one']\n",
      "two = data['two']\n",
      "three = data['three']\n",
      "four = data['four']\n",
      "five = data['five']\n",
      "six = data['six']\n",
      "\n",
      "inputs = np.hstack([zero,one,two,three,four,five,six])\n",
      "\n",
      "vec = six.copy()\n",
      "cvecs = util.corrupt(vec * np.ones((n, nex), dtype='i4'), b)\n",
      "ex = util.corrupt(vec.copy(), b)\n",
      "\n",
      "mem1 = sdm.SDM(n, m, D)\n",
      "mem1.writeM(cvecs, cvecs)\n",
      "r1 = mem1.readM(ex)\n",
      "\n",
      "mem2 = hop.hopnet(cvecs)\n",
      "r2 = mem2.readM(ex, 1000)\n",
      "\n",
      "for i in xrange(nex):\n",
      "    plt.clf()\n",
      "    plt.imshow(cvecs[:, i].reshape((16, 16), order='F'),\n",
      "\t       cmap='gray', vmin=0, vmax=1, interpolation='nearest')\n",
      "    plt.xticks([], [])\n",
      "    plt.yticks([], [])\n",
      "    save(\"vi_ex%d\" % i)\n",
      "\n",
      "plt.clf()\n",
      "util.plot_io(ex.reshape((16, 16), order='F'),\n",
      "\t     r1.reshape((16, 16), order='F'))\n",
      "save(\"vi_sdm\")\n",
      "\n",
      "plt.clf()\n",
      "util.plot_io(ex.reshape((16, 16), order='F'),\n",
      "\t     1-r2.reshape((16, 16), order='F'))\n",
      "save(\"vi_hop\")\n"
     ],
     "language": "python",
     "outputs": [
      {
       "output_type": "stream",
       "stream": "stdout",
       "text": [
        "Saving figure to './vi_ex0.png'... "
       ]
      },
      {
       "output_type": "stream",
       "stream": "stdout",
       "text": [
        "Done\n",
        "Saving figure to './vi_ex1.png'... "
       ]
      },
      {
       "output_type": "stream",
       "stream": "stdout",
       "text": [
        "Done\n",
        "Saving figure to './vi_ex2.png'... "
       ]
      },
      {
       "output_type": "stream",
       "stream": "stdout",
       "text": [
        "Done\n",
        "Saving figure to './vi_ex3.png'... "
       ]
      },
      {
       "output_type": "stream",
       "stream": "stdout",
       "text": [
        "Done\n",
        "Saving figure to './vi_ex4.png'... "
       ]
      },
      {
       "output_type": "stream",
       "stream": "stdout",
       "text": [
        "Done\n",
        "Saving figure to './vi_ex5.png'... "
       ]
      },
      {
       "output_type": "stream",
       "stream": "stdout",
       "text": [
        "Done\n",
        "Saving figure to './vi_ex6.png'... "
       ]
      },
      {
       "output_type": "stream",
       "stream": "stdout",
       "text": [
        "Done\n",
        "Saving figure to './vi_ex7.png'... "
       ]
      },
      {
       "output_type": "stream",
       "stream": "stdout",
       "text": [
        "Done\n",
        "Saving figure to './vi_ex8.png'... "
       ]
      },
      {
       "output_type": "stream",
       "stream": "stdout",
       "text": [
        "Done\n",
        "Saving figure to './vi_sdm.png'..."
       ]
      },
      {
       "output_type": "stream",
       "stream": "stdout",
       "text": [
        " Done\n",
        "Saving figure to './vi_hop.png'..."
       ]
      },
      {
       "output_type": "stream",
       "stream": "stdout",
       "text": [
        " Done\n"
       ]
      }
     ],
     "prompt_number": 22
    },
    {
     "cell_type": "code",
     "collapsed": false,
     "input": [
      "import scipy.io as io\n",
      "import numpy as np\n",
      "import matplotlib.pyplot as plt\n",
      "import sdm as sdm\n",
      "from util import corrupt, plot_io, save\n",
      "\n",
      "#data = io.loadmat('sequencePatterns.mat')\n",
      "#face = data['face']\n",
      "#x = data['x']\n",
      "#hi = data['hi']\n",
      "#a = data['a']\n",
      "#b = data['b']\n",
      "#c = data['c']\n",
      "#d = data['d']\n",
      "#e = data['e']\n",
      "#f = data['f']\n",
      "#g = data['g']\n",
      "#h = data['h']\n",
      "#i = data['i']\n",
      "\n",
      "#inputs = np.hstack([face, x, hi, a, b, c, d, e, f, g, h, i])\n",
      "\n",
      "\n",
      "data = io.loadmat('numbers.mat')\n",
      "zero = data['zero']\n",
      "one = data['one']\n",
      "two = data['two']\n",
      "three = data['three']\n",
      "four = data['four']\n",
      "five = data['five']\n",
      "six = data['six']\n",
      "\n",
      "inputs = np.hstack([zero,one,two,three,four,five,six])\n",
      "\n",
      "\n",
      "\n",
      "#clean the input to be 0/1\n",
      "inputs = ((inputs + 1)/2).astype('i4')\n",
      "\n",
      "# length of input patterns, number of unique patterns\n",
      "lenPatterns, numPatterns = inputs.shape\n",
      "\n",
      "# figure size (sqrt(lenPatterns))\n",
      "figSize = (np.sqrt(lenPatterns)).astype('i4')\n",
      "\n",
      "# number of sequences ( this is similar to # of exemplars )\n",
      "numSequences = 10\n",
      "\n",
      "# percentage of bits to corrupt\n",
      "numCorrupt = 25\n",
      "\n",
      "\n",
      "# number of addresses in SDM\n",
      "numStorage = 10000\n",
      "\n",
      "# hamming radius\n",
      "D = 112\n",
      "\n",
      "\n",
      "reload(sdm)\n",
      "mem = sdm.SDM(lenPatterns, numStorage, D)\n",
      "print \"Addresses in hamming radius:\", mem._select(inputs).sum(axis=0)\n",
      "\n",
      "\n",
      "\n",
      "for curSeq in xrange(numSequences):\n",
      "    # store copy of inputs in addresses\n",
      "    addresses = inputs.copy()\n",
      "\n",
      "    # corrupt the patterns\n",
      "    for curPat in xrange(numPatterns):\n",
      "        a = addresses[:,curPat].copy()\n",
      "        d = corrupt(addresses[:, curPat], numCorrupt)\n",
      "        addresses[:, curPat] = d\n",
      "#        plt.figure(curPat)\n",
      "#        plot_io(a.reshape((figSize, figSize), order='F'), d.reshape((figSize,figSize), order='F'))\n",
      "\n",
      "\n",
      "    # write data to address curPat with address curPat+1\n",
      "    data = np.empty((lenPatterns, numPatterns)).astype('i4')\n",
      "    data[:, :-1] = addresses[:, 1:]\n",
      "    data[:, -1] = addresses[:, -1]\n",
      "        \n",
      "    mem.writeM(addresses, data)\n",
      "\n",
      "    # plot what we just wrote\n",
      "    for i in xrange(numPatterns):\n",
      "        plt.figure(50+curSeq)\n",
      "        plt.subplot(1,numPatterns,i+1)\n",
      "        plt.imshow((1-addresses[:,i]).reshape((figSize,figSize), order='F'),cmap='gray',interpolation='nearest')\n",
      "        plt.xticks([],[])\n",
      "        plt.yticks([],[])\n",
      "\n",
      "    figName=\"storedSeq\"+str(curSeq)\n",
      "    #save(figName, ext=\"png\", close=True, verbose=True)\n",
      "\n",
      "\n",
      "# now read sequentially with no noise used as input\n",
      "#addresses = inputs.copy()\n",
      "#for curPat in xrange(numPatterns):\n",
      "#    a = addresses[:,curPat].copy()\n",
      "#    d = mem.read(addresses[:,curPat]).reshape((figSize, figSize), order='F')\n",
      "#    plt.figure(numPatterns+curPat)\n",
      "#    plot_io(addresses[:,curPat].reshape((figSize, figSize), order='F'), d)\n",
      "\n",
      "\n",
      "\n",
      "#\n",
      "# read until converge, using retrieved data as the next address\n",
      "#\n",
      "# first initialize some things\n",
      "addresses = inputs.copy()\n",
      "lastTrial = np.zeros((lenPatterns,1))\n",
      "# just start with a particular corrupted pattern someone in the sequence\n",
      "d = corrupt(addresses[:,0],25)\n",
      "i=0\n",
      "startAddress = d\n",
      "\n",
      "# loop till convergence\n",
      "while (((d == lastTrial).all() == False)):\n",
      "    # save lastTrial\n",
      "    lastTrial = d\n",
      "    i+=1   \n",
      " \n",
      "    # use lastTrial as the address to read from\n",
      "    d = mem.read(lastTrial)\n",
      "#    plt.figure(i)\n",
      "#    plot_io(lastTrial.reshape((figSize, figSize), order='F'),d.reshape((figSize, figSize), order='F'))\n",
      "\n",
      "\n",
      "# how long this look to converge\n",
      "numTrialsTillConverged = i\n",
      "\n",
      "d=startAddress\n",
      "for i in xrange(numTrialsTillConverged):\n",
      "\n",
      "    plt.figure(0)\n",
      "    plt.subplot(1,numTrialsTillConverged,i+1)\n",
      "    plt.imshow((1-d).reshape((figSize,figSize), order='F'),cmap='gray',interpolation='nearest')\n",
      "    plt.xticks([],[])\n",
      "    plt.yticks([],[])\n",
      "\n",
      "    lastTrial = d\n",
      "    d=mem.read(lastTrial)\n",
      "\n",
      "\n",
      "figName=\"finalSeq\"\n",
      "#save(figName, ext=\"png\", close=True, verbose=True)\n",
      "    \n"
     ],
     "language": "python",
     "outputs": [
      {
       "output_type": "stream",
       "stream": "stdout",
       "text": [
        "Addresses in hamming radius: "
       ]
      },
      {
       "output_type": "stream",
       "stream": "stdout",
       "text": [
        "[281 244 241 243 246 273 266]\n"
       ]
      },
      {
       "output_type": "display_data",
       "png": "[encoded data removed]"
      },
      {
       "output_type": "display_data",
       "png": "[encoded data removed]"
      },
      {
       "output_type": "display_data",
       "png": "[encoded data removed]"
      },
      {
       "output_type": "display_data",
       "png": "[encoded data removed]"
      },
      {
       "output_type": "display_data",
       "png": "[encoded data removed]"
      },
      {
       "output_type": "display_data",
       "png": "[encoded data removed]"
      },
      {
       "output_type": "display_data",
       "png": "[encoded data removed]"
      },
      {
       "output_type": "display_data",
       "png": "[encoded data removed]"
      },
      {
       "output_type": "display_data",
       "png": "[encoded data removed]"
      },
      {
       "output_type": "display_data",
       "png": "[encoded data removed]"
      },
      {
       "output_type": "display_data",
       "png": "[encoded data removed]"
      }
     ],
     "prompt_number": 7
    }
   ]
  }
 ]
}