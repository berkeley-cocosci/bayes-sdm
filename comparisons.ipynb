{
 "metadata": {
  "name": "comparisons"
 },
 "nbformat": 3,
 "nbformat_minor": 0,
 "worksheets": [
  {
   "cells": [
    {
     "cell_type": "heading",
     "level": 1,
     "source": [
      "SDM/Hopfield Comparison Code"
     ]
    },
    {
     "cell_type": "code",
     "collapsed": false,
     "input": [
      "\"\"\"SDM/Hopfield Comparison\n",
      "\n",
      "This code compares SDM networks and Hopfield networks on various\n",
      "properties, including appropriate parameter values, storage capacity,\n",
      "\"prototype\" retrieval, and sequence retrieval.\n",
      "\n",
      "Authors: \n",
      "  Jessica Hamrick (jhamrick@berkeley.edu)\n",
      "  Josh Abbott (joshua.abbott@berkeley.edu)\n",
      "\n",
      "\"\"\"\n"
     ],
     "language": "python",
     "outputs": [
      {
       "output_type": "pyout",
       "prompt_number": 1,
       "text": [
        "'SDM/Hopfield Comparison\\n\\nThis code compares SDM networks and Hopfield networks on various\\nproperties, including appropriate parameter values, storage capacity,\\n\"prototype\" retrieval, and sequence retrieval.\\n\\nAuthors: \\n  Jessica Hamrick (jhamrick@berkeley.edu)\\n  Josh Abbott (joshua.abbott@berkeley.edu)\\n\\n'"
       ]
      }
     ],
     "prompt_number": 1
    },
    {
     "cell_type": "code",
     "collapsed": false,
     "input": [
      "import numpy as np\n",
      "import matplotlib.pyplot as plt\n",
      "import scipy.stats\n",
      "import sdm as sdm\n",
      "#import hopfield\n",
      "import util as util\n",
      "import metrics as metrics\n"
     ],
     "language": "python",
     "outputs": [],
     "prompt_number": 2
    },
    {
     "cell_type": "heading",
     "level": 1,
     "source": [
      "Parameters"
     ]
    },
    {
     "cell_type": "code",
     "collapsed": false,
     "input": [
      "# SDM Parameters\n",
      "# --------------\n",
      "#   n : length of inputs\n",
      "#   m : number of addresses\n",
      "#   D : hamming radius\n",
      "\n",
      "\n",
      "# Hopfield Parameters\n",
      "# -------------------\n",
      "#   n : length of inputs\n"
     ],
     "language": "python",
     "outputs": [],
     "prompt_number": 3
    },
    {
     "cell_type": "code",
     "collapsed": false,
     "input": [
      "# length of inputs\n",
      "n = 100\n",
      "\n",
      "# hamming distance encompasses 2.5% of addresses\n",
      "D = float((n / 2.) - (np.sqrt(n*(0.5**2)) * 1.96))\n"
     ],
     "language": "python",
     "outputs": [],
     "prompt_number": 8
    },
    {
     "cell_type": "heading",
     "level": 1,
     "source": [
      "Uncorrupted Storage Capacity"
     ]
    },
    {
     "cell_type": "code",
     "collapsed": false,
     "input": [
      "# How many random, uncorrelated inputs can the SDM store?\n",
      "M = np.arange(250, 1+2000, 250)\n",
      "thresh = np.array([0, 0.01, 0.025, 0.05])\n",
      "iters = 100\n",
      "\n",
      "capacity = np.empty((thresh.size, M.size))\n",
      "for tidx, t in enumerate(thresh):\n",
      "    k = 1\n",
      "    for midx, m in enumerate(M):\n",
      "\tk = metrics.test_capacity(\n",
      "\t    n, int(m), D, k=k, iters=iters, \n",
      "\t    thresh=float(t), verbose=True)\n",
      "\tcapacity[tidx, midx] = k-1\n",
      "\tprint \"m=%d : capacity is %d (%d%% error tolerance)\" % (m, k-1, t*100)\n"
     ],
     "language": "python",
     "outputs": [
      {
       "output_type": "stream",
       "stream": "stdout",
       "text": [
        "________________________________________________________________________________\n",
        "[Memory] Calling metrics.test_capacity-alias...\n",
        "test_capacity-alias(100, 250, 40.2, iters=100, k=1, thresh=0.0, verbose=True)\n",
        "________________________________________________________________________________\n",
        "[Memory] Calling metrics.test_capacity_n-alias...\n",
        "test_capacity_n-alias(100, 250, 40.2, iters=100, k=1)\n",
        "____________________________________________test_capacity_n-alias - 0.1s, 0.0min"
       ]
      },
      {
       "output_type": "stream",
       "stream": "stdout",
       "text": [
        "\n",
        " 1:  0.00 +/- 0.00\n",
        "________________________________________________________________________________\n",
        "[Memory] Calling metrics.test_capacity_n-alias...\n",
        "test_capacity_n-alias(100, 250, 40.2, iters=100, k=2)\n",
        "____________________________________________test_capacity_n-alias - 0.3s, 0.0min"
       ]
      },
      {
       "output_type": "stream",
       "stream": "stdout",
       "text": [
        "\n",
        " 2:  0.00 +/- 0.00\n",
        "________________________________________________________________________________\n",
        "[Memory] Calling metrics.test_capacity_n-alias...\n",
        "test_capacity_n-alias(100, 250, 40.2, iters=100, k=3)\n",
        "____________________________________________test_capacity_n-alias - 0.3s, 0.0min"
       ]
      },
      {
       "output_type": "stream",
       "stream": "stdout",
       "text": [
        "\n",
        " 3:  0.00 +/- 0.00\n",
        "________________________________________________________________________________\n",
        "[Memory] Calling metrics.test_capacity_n-alias...\n",
        "test_capacity_n-alias(100, 250, 40.2, iters=100, k=4)\n",
        "____________________________________________test_capacity_n-alias - 0.4s, 0.0min"
       ]
      },
      {
       "output_type": "stream",
       "stream": "stdout",
       "text": [
        "\n",
        " 4:  0.01 +/- 0.01\n",
        "______________________________________________test_capacity-alias - 1.1s, 0.0min\n",
        "m=250 : capacity is 4 (0% error tolerance)\n",
        "________________________________________________________________________________\n",
        "[Memory] Calling metrics.test_capacity-alias...\n",
        "test_capacity-alias(100, 500, 40.2, iters=100, k=5, thresh=0.0, verbose=True)\n",
        "________________________________________________________________________________\n",
        "[Memory] Calling metrics.test_capacity_n-alias...\n",
        "test_capacity_n-alias(100, 500, 40.2, iters=100, k=5)\n",
        "____________________________________________test_capacity_n-alias - 1.0s, 0.0min"
       ]
      },
      {
       "output_type": "stream",
       "stream": "stdout",
       "text": [
        "\n",
        " 5:  0.00 +/- 0.00\n",
        "________________________________________________________________________________\n",
        "[Memory] Calling metrics.test_capacity_n-alias...\n",
        "test_capacity_n-alias(100, 500, 40.2, iters=100, k=6)\n",
        "____________________________________________test_capacity_n-alias - 0.8s, 0.0min"
       ]
      },
      {
       "output_type": "stream",
       "stream": "stdout",
       "text": [
        "\n",
        " 6:  0.00 +/- 0.00\n",
        "________________________________________________________________________________\n",
        "[Memory] Calling metrics.test_capacity_n-alias...\n",
        "test_capacity_n-alias(100, 500, 40.2, iters=100, k=7)\n",
        "____________________________________________test_capacity_n-alias - 0.9s, 0.0min"
       ]
      },
      {
       "output_type": "stream",
       "stream": "stdout",
       "text": [
        "\n",
        " 7:  0.00 +/- 0.00\n",
        "________________________________________________________________________________\n",
        "[Memory] Calling metrics.test_capacity_n-alias...\n",
        "test_capacity_n-alias(100, 500, 40.2, iters=100, k=8)\n",
        "____________________________________________test_capacity_n-alias - 1.0s, 0.0min"
       ]
      },
      {
       "output_type": "stream",
       "stream": "stdout",
       "text": [
        "\n",
        " 8:  0.00 +/- 0.00\n",
        "________________________________________________________________________________\n",
        "[Memory] Calling metrics.test_capacity_n-alias...\n",
        "test_capacity_n-alias(100, 500, 40.2, iters=100, k=9)\n",
        "____________________________________________test_capacity_n-alias - 1.0s, 0.0min"
       ]
      },
      {
       "output_type": "stream",
       "stream": "stdout",
       "text": [
        "\n",
        " 9:  0.00 +/- 0.00\n",
        "________________________________________________________________________________\n",
        "[Memory] Calling metrics.test_capacity_n-alias...\n",
        "test_capacity_n-alias(100, 500, 40.2, iters=100, k=10)\n",
        "____________________________________________test_capacity_n-alias - 1.4s, 0.0min"
       ]
      },
      {
       "output_type": "stream",
       "stream": "stdout",
       "text": [
        "\n",
        "10:  0.00 +/- 0.00\n",
        "________________________________________________________________________________\n",
        "[Memory] Calling metrics.test_capacity_n-alias...\n",
        "test_capacity_n-alias(100, 500, 40.2, iters=100, k=11)\n",
        "____________________________________________test_capacity_n-alias - 1.4s, 0.0min"
       ]
      },
      {
       "output_type": "stream",
       "stream": "stdout",
       "text": [
        "\n",
        "11:  0.00 +/- 0.00\n",
        "________________________________________________________________________________\n",
        "[Memory] Calling metrics.test_capacity_n-alias...\n",
        "test_capacity_n-alias(100, 500, 40.2, iters=100, k=12)\n",
        "____________________________________________test_capacity_n-alias - 1.5s, 0.0min"
       ]
      },
      {
       "output_type": "stream",
       "stream": "stdout",
       "text": [
        "\n",
        "12:  0.00 +/- 0.00\n",
        "______________________________________________test_capacity-alias - 9.2s, 0.2min\n",
        "m=500 : capacity is 12 (0% error tolerance)\n",
        "________________________________________________________________________________\n",
        "[Memory] Calling metrics.test_capacity-alias...\n",
        "test_capacity-alias(100, 750, 40.2, iters=100, k=13, thresh=0.0, verbose=True)\n",
        "________________________________________________________________________________\n",
        "[Memory] Calling metrics.test_capacity_n-alias...\n",
        "test_capacity_n-alias(100, 750, 40.2, iters=100, k=13)\n",
        "____________________________________________test_capacity_n-alias - 2.4s, 0.0min"
       ]
      },
      {
       "output_type": "stream",
       "stream": "stdout",
       "text": [
        "\n",
        "13:  0.00 +/- 0.00\n",
        "________________________________________________________________________________\n",
        "[Memory] Calling metrics.test_capacity_n-alias...\n",
        "test_capacity_n-alias(100, 750, 40.2, iters=100, k=14)\n",
        "____________________________________________test_capacity_n-alias - 2.5s, 0.0min"
       ]
      },
      {
       "output_type": "stream",
       "stream": "stdout",
       "text": [
        "\n",
        "14:  0.00 +/- 0.00\n",
        "________________________________________________________________________________\n",
        "[Memory] Calling metrics.test_capacity_n-alias...\n",
        "test_capacity_n-alias(100, 750, 40.2, iters=100, k=15)\n",
        "____________________________________________test_capacity_n-alias - 2.6s, 0.0min"
       ]
      },
      {
       "output_type": "stream",
       "stream": "stdout",
       "text": [
        "\n",
        "15:  0.00 +/- 0.00\n",
        "________________________________________________________________________________\n",
        "[Memory] Calling metrics.test_capacity_n-alias...\n",
        "test_capacity_n-alias(100, 750, 40.2, iters=100, k=16)\n",
        "____________________________________________test_capacity_n-alias - 2.8s, 0.0min"
       ]
      },
      {
       "output_type": "stream",
       "stream": "stdout",
       "text": [
        "\n",
        "16:  0.00 +/- 0.00\n",
        "________________________________________________________________________________\n",
        "[Memory] Calling metrics.test_capacity_n-alias...\n",
        "test_capacity_n-alias(100, 750, 40.2, iters=100, k=17)\n",
        "____________________________________________test_capacity_n-alias - 2.9s, 0.0min"
       ]
      },
      {
       "output_type": "stream",
       "stream": "stdout",
       "text": [
        "\n",
        "17:  0.00 +/- 0.00\n",
        "________________________________________________________________________________\n",
        "[Memory] Calling metrics.test_capacity_n-alias...\n",
        "test_capacity_n-alias(100, 750, 40.2, iters=100, k=18)\n",
        "____________________________________________test_capacity_n-alias - 3.0s, 0.0min"
       ]
      },
      {
       "output_type": "stream",
       "stream": "stdout",
       "text": [
        "\n",
        "18:  0.00 +/- 0.00\n",
        "_____________________________________________test_capacity-alias - 16.3s, 0.3min\n",
        "m=750 : capacity is 18 (0% error tolerance)\n",
        "________________________________________________________________________________\n",
        "[Memory] Calling metrics.test_capacity-alias...\n",
        "test_capacity-alias(100, 1000, 40.2, iters=100, k=19, thresh=0.0, verbose=True)\n",
        "________________________________________________________________________________\n",
        "[Memory] Calling metrics.test_capacity_n-alias...\n",
        "test_capacity_n-alias(100, 1000, 40.2, iters=100, k=19)\n",
        "____________________________________________test_capacity_n-alias - 4.3s, 0.1min"
       ]
      },
      {
       "output_type": "stream",
       "stream": "stdout",
       "text": [
        "\n",
        "19:  0.00 +/- 0.00\n",
        "______________________________________________test_capacity-alias - 4.3s, 0.1min\n",
        "m=1000 : capacity is 19 (0% error tolerance)\n",
        "________________________________________________________________________________\n",
        "[Memory] Calling metrics.test_capacity-alias...\n",
        "test_capacity-alias(100, 1250, 40.2, iters=100, k=20, thresh=0.0, verbose=True)\n",
        "________________________________________________________________________________\n",
        "[Memory] Calling metrics.test_capacity_n-alias...\n",
        "test_capacity_n-alias(100, 1250, 40.2, iters=100, k=20)\n",
        "____________________________________________test_capacity_n-alias - 5.4s, 0.1min"
       ]
      },
      {
       "output_type": "stream",
       "stream": "stdout",
       "text": [
        "\n",
        "20:  0.00 +/- 0.00\n",
        "________________________________________________________________________________\n",
        "[Memory] Calling metrics.test_capacity_n-alias...\n",
        "test_capacity_n-alias(100, 1250, 40.2, iters=100, k=21)\n",
        "____________________________________________test_capacity_n-alias - 5.9s, 0.1min"
       ]
      },
      {
       "output_type": "stream",
       "stream": "stdout",
       "text": [
        "\n",
        "21:  0.00 +/- 0.00\n",
        "_____________________________________________test_capacity-alias - 11.3s, 0.2min\n",
        "m=1250 : capacity is 21 (0% error tolerance)\n",
        "________________________________________________________________________________\n",
        "[Memory] Calling metrics.test_capacity-alias...\n",
        "test_capacity-alias(100, 1500, 40.2, iters=100, k=22, thresh=0.0, verbose=True)\n",
        "________________________________________________________________________________\n",
        "[Memory] Calling metrics.test_capacity_n-alias...\n",
        "test_capacity_n-alias(100, 1500, 40.2, iters=100, k=22)\n",
        "____________________________________________test_capacity_n-alias - 7.1s, 0.1min"
       ]
      },
      {
       "output_type": "stream",
       "stream": "stdout",
       "text": [
        "\n",
        "22:  0.00 +/- 0.00\n",
        "________________________________________________________________________________\n",
        "[Memory] Calling metrics.test_capacity_n-alias...\n",
        "test_capacity_n-alias(100, 1500, 40.2, iters=100, k=23)\n",
        "____________________________________________test_capacity_n-alias - 7.5s, 0.1min"
       ]
      },
      {
       "output_type": "stream",
       "stream": "stdout",
       "text": [
        "\n",
        "23:  0.00 +/- 0.00\n",
        "________________________________________________________________________________\n",
        "[Memory] Calling metrics.test_capacity_n-alias...\n",
        "test_capacity_n-alias(100, 1500, 40.2, iters=100, k=24)\n",
        "____________________________________________test_capacity_n-alias - 7.3s, 0.1min"
       ]
      },
      {
       "output_type": "stream",
       "stream": "stdout",
       "text": [
        "\n",
        "24:  0.00 +/- 0.00\n",
        "________________________________________________________________________________\n",
        "[Memory] Calling metrics.test_capacity_n-alias...\n",
        "test_capacity_n-alias(100, 1500, 40.2, iters=100, k=25)\n",
        "____________________________________________test_capacity_n-alias - 7.6s, 0.1min"
       ]
      },
      {
       "output_type": "stream",
       "stream": "stdout",
       "text": [
        "\n",
        "25:  0.00 +/- 0.00\n",
        "_____________________________________________test_capacity-alias - 29.5s, 0.5min\n",
        "m=1500 : capacity is 25 (0% error tolerance)\n",
        "________________________________________________________________________________\n",
        "[Memory] Calling metrics.test_capacity-alias...\n",
        "test_capacity-alias(100, 1750, 40.2, iters=100, k=26, thresh=0.0, verbose=True)\n",
        "________________________________________________________________________________\n",
        "[Memory] Calling metrics.test_capacity_n-alias...\n",
        "test_capacity_n-alias(100, 1750, 40.2, iters=100, k=26)\n",
        "____________________________________________test_capacity_n-alias - 9.2s, 0.2min"
       ]
      },
      {
       "output_type": "stream",
       "stream": "stdout",
       "text": [
        "\n",
        "26:  0.00 +/- 0.00\n",
        "________________________________________________________________________________\n",
        "[Memory] Calling metrics.test_capacity_n-alias...\n",
        "test_capacity_n-alias(100, 1750, 40.2, iters=100, k=27)\n",
        "____________________________________________test_capacity_n-alias - 9.7s, 0.2min"
       ]
      },
      {
       "output_type": "stream",
       "stream": "stdout",
       "text": [
        "\n",
        "27:  0.00 +/- 0.00\n",
        "_____________________________________________test_capacity-alias - 18.9s, 0.3min\n",
        "m=1750 : capacity is 27 (0% error tolerance)\n",
        "________________________________________________________________________________\n",
        "[Memory] Calling metrics.test_capacity-alias...\n",
        "test_capacity-alias(100, 2000, 40.2, iters=100, k=28, thresh=0.0, verbose=True)\n",
        "________________________________________________________________________________\n",
        "[Memory] Calling metrics.test_capacity_n-alias...\n",
        "test_capacity_n-alias(100, 2000, 40.2, iters=100, k=28)\n",
        "___________________________________________test_capacity_n-alias - 11.4s, 0.2min"
       ]
      },
      {
       "output_type": "stream",
       "stream": "stdout",
       "text": [
        "\n",
        "28:  0.00 +/- 0.00\n",
        "________________________________________________________________________________\n",
        "[Memory] Calling metrics.test_capacity_n-alias...\n",
        "test_capacity_n-alias(100, 2000, 40.2, iters=100, k=29)\n",
        "___________________________________________test_capacity_n-alias - 11.4s, 0.2min"
       ]
      },
      {
       "output_type": "stream",
       "stream": "stdout",
       "text": [
        "\n",
        "29:  0.00 +/- 0.00\n",
        "________________________________________________________________________________\n",
        "[Memory] Calling metrics.test_capacity_n-alias...\n",
        "test_capacity_n-alias(100, 2000, 40.2, iters=100, k=30)\n",
        "___________________________________________test_capacity_n-alias - 11.9s, 0.2min"
       ]
      },
      {
       "output_type": "stream",
       "stream": "stdout",
       "text": [
        "\n",
        "30:  0.00 +/- 0.00\n",
        "________________________________________________________________________________\n",
        "[Memory] Calling metrics.test_capacity_n-alias...\n",
        "test_capacity_n-alias(100, 2000, 40.2, iters=100, k=31)\n",
        "___________________________________________test_capacity_n-alias - 12.5s, 0.2min"
       ]
      },
      {
       "output_type": "stream",
       "stream": "stdout",
       "text": [
        "\n",
        "31:  0.00 +/- 0.00\n",
        "________________________________________________________________________________\n",
        "[Memory] Calling metrics.test_capacity_n-alias...\n",
        "test_capacity_n-alias(100, 2000, 40.2, iters=100, k=32)\n",
        "___________________________________________test_capacity_n-alias - 12.3s, 0.2min"
       ]
      },
      {
       "output_type": "stream",
       "stream": "stdout",
       "text": [
        "\n",
        "32:  0.00 +/- 0.00\n",
        "________________________________________________________________________________\n",
        "[Memory] Calling metrics.test_capacity_n-alias...\n",
        "test_capacity_n-alias(100, 2000, 40.2, iters=100, k=33)\n",
        "___________________________________________test_capacity_n-alias - 13.5s, 0.2min"
       ]
      },
      {
       "output_type": "stream",
       "stream": "stdout",
       "text": [
        "\n",
        "33:  0.00 +/- 0.00\n",
        "_____________________________________________test_capacity-alias - 72.9s, 1.2min\n",
        "m=2000 : capacity is 33 (0% error tolerance)\n",
        "________________________________________________________________________________\n",
        "[Memory] Calling metrics.test_capacity-alias...\n",
        "test_capacity-alias(100, 250, 40.2, iters=100, k=1, thresh=0.01, verbose=True)\n",
        " 1:  0.00 +/- 0.00\n",
        " 2:  0.00 +/- 0.00\n",
        " 3:  0.00 +/- 0.00\n",
        " 4:  0.01 +/- 0.01\n",
        "________________________________________________________________________________\n",
        "[Memory] Calling metrics.test_capacity_n-alias...\n",
        "test_capacity_n-alias(100, 250, 40.2, iters=100, k=5)\n",
        "____________________________________________test_capacity_n-alias - 0.5s, 0.0min"
       ]
      },
      {
       "output_type": "stream",
       "stream": "stdout",
       "text": [
        "\n",
        " 5:  0.00 +/- 0.00\n",
        "________________________________________________________________________________\n",
        "[Memory] Calling metrics.test_capacity_n-alias...\n",
        "test_capacity_n-alias(100, 250, 40.2, iters=100, k=6)\n",
        "____________________________________________test_capacity_n-alias - 0.5s, 0.0min"
       ]
      },
      {
       "output_type": "stream",
       "stream": "stdout",
       "text": [
        "\n",
        " 6:  0.00 +/- 0.00\n",
        "________________________________________________________________________________\n",
        "[Memory] Calling metrics.test_capacity_n-alias...\n",
        "test_capacity_n-alias(100, 250, 40.2, iters=100, k=7)\n",
        "____________________________________________test_capacity_n-alias - 0.6s, 0.0min"
       ]
      },
      {
       "output_type": "stream",
       "stream": "stdout",
       "text": [
        "\n",
        " 7:  0.00 +/- 0.00\n",
        "________________________________________________________________________________\n",
        "[Memory] Calling metrics.test_capacity_n-alias...\n",
        "test_capacity_n-alias(100, 250, 40.2, iters=100, k=8)\n",
        "____________________________________________test_capacity_n-alias - 0.6s, 0.0min"
       ]
      },
      {
       "output_type": "stream",
       "stream": "stdout",
       "text": [
        "\n",
        " 8:  0.01 +/- 0.00\n",
        "______________________________________________test_capacity-alias - 2.3s, 0.0min\n",
        "m=250 : capacity is 8 (1% error tolerance)\n",
        "________________________________________________________________________________\n",
        "[Memory] Calling metrics.test_capacity-alias...\n",
        "test_capacity-alias(100, 500, 40.2, iters=100, k=9, thresh=0.01, verbose=True)\n",
        " 9:  0.00 +/- 0.00\n",
        "10:  0.00 +/- 0.00\n",
        "11:  0.00 +/- 0.00\n",
        "12:  0.00 +/- 0.00\n",
        "________________________________________________________________________________\n",
        "[Memory] Calling metrics.test_capacity_n-alias...\n",
        "test_capacity_n-alias(100, 500, 40.2, iters=100, k=13)\n",
        "____________________________________________test_capacity_n-alias - 1.7s, 0.0min"
       ]
      },
      {
       "output_type": "stream",
       "stream": "stdout",
       "text": [
        "\n",
        "13:  0.00 +/- 0.00\n",
        "________________________________________________________________________________\n",
        "[Memory] Calling metrics.test_capacity_n-alias...\n",
        "test_capacity_n-alias(100, 500, 40.2, iters=100, k=14)\n",
        "____________________________________________test_capacity_n-alias - 1.8s, 0.0min"
       ]
      },
      {
       "output_type": "stream",
       "stream": "stdout",
       "text": [
        "\n",
        "14:  0.00 +/- 0.00\n",
        "________________________________________________________________________________\n",
        "[Memory] Calling metrics.test_capacity_n-alias...\n",
        "test_capacity_n-alias(100, 500, 40.2, iters=100, k=15)\n",
        "____________________________________________test_capacity_n-alias - 1.9s, 0.0min"
       ]
      },
      {
       "output_type": "stream",
       "stream": "stdout",
       "text": [
        "\n",
        "15:  0.00 +/- 0.00\n",
        "________________________________________________________________________________\n",
        "[Memory] Calling metrics.test_capacity_n-alias...\n",
        "test_capacity_n-alias(100, 500, 40.2, iters=100, k=16)\n",
        "____________________________________________test_capacity_n-alias - 1.8s, 0.0min"
       ]
      },
      {
       "output_type": "stream",
       "stream": "stdout",
       "text": [
        "\n",
        "16:  0.00 +/- 0.00\n",
        "________________________________________________________________________________\n",
        "[Memory] Calling metrics.test_capacity_n-alias...\n",
        "test_capacity_n-alias(100, 500, 40.2, iters=100, k=17)\n",
        "____________________________________________test_capacity_n-alias - 1.4s, 0.0min"
       ]
      },
      {
       "output_type": "stream",
       "stream": "stdout",
       "text": [
        "\n",
        "17:  0.00 +/- 0.00\n",
        "________________________________________________________________________________\n",
        "[Memory] Calling metrics.test_capacity_n-alias...\n",
        "test_capacity_n-alias(100, 500, 40.2, iters=100, k=18)\n",
        "____________________________________________test_capacity_n-alias - 2.0s, 0.0min"
       ]
      },
      {
       "output_type": "stream",
       "stream": "stdout",
       "text": [
        "\n",
        "18:  0.00 +/- 0.00\n",
        "________________________________________________________________________________\n",
        "[Memory] Calling metrics.test_capacity_n-alias...\n",
        "test_capacity_n-alias(100, 500, 40.2, iters=100, k=19)\n",
        "____________________________________________test_capacity_n-alias - 2.1s, 0.0min"
       ]
      },
      {
       "output_type": "stream",
       "stream": "stdout",
       "text": [
        "\n",
        "19:  0.00 +/- 0.00\n",
        "________________________________________________________________________________\n",
        "[Memory] Calling metrics.test_capacity_n-alias...\n",
        "test_capacity_n-alias(100, 500, 40.2, iters=100, k=20)\n",
        "____________________________________________test_capacity_n-alias - 2.2s, 0.0min"
       ]
      },
      {
       "output_type": "stream",
       "stream": "stdout",
       "text": [
        "\n",
        "20:  0.00 +/- 0.00\n",
        "________________________________________________________________________________\n",
        "[Memory] Calling metrics.test_capacity_n-alias...\n",
        "test_capacity_n-alias(100, 500, 40.2, iters=100, k=21)\n",
        "____________________________________________test_capacity_n-alias - 2.4s, 0.0min"
       ]
      },
      {
       "output_type": "stream",
       "stream": "stdout",
       "text": [
        "\n",
        "21:  0.00 +/- 0.00\n",
        "________________________________________________________________________________\n",
        "[Memory] Calling metrics.test_capacity_n-alias...\n",
        "test_capacity_n-alias(100, 500, 40.2, iters=100, k=22)\n",
        "____________________________________________test_capacity_n-alias - 2.4s, 0.0min"
       ]
      },
      {
       "output_type": "stream",
       "stream": "stdout",
       "text": [
        "\n",
        "22:  0.01 +/- 0.00\n",
        "________________________________________________________________________________\n",
        "[Memory] Calling metrics.test_capacity_n-alias...\n",
        "test_capacity_n-alias(100, 500, 40.2, iters=100, k=23)\n",
        "____________________________________________test_capacity_n-alias - 2.6s, 0.0min"
       ]
      },
      {
       "output_type": "stream",
       "stream": "stdout",
       "text": [
        "\n",
        "23:  0.01 +/- 0.00\n",
        "________________________________________________________________________________\n",
        "[Memory] Calling metrics.test_capacity_n-alias...\n",
        "test_capacity_n-alias(100, 500, 40.2, iters=100, k=24)\n",
        "____________________________________________test_capacity_n-alias - 2.5s, 0.0min"
       ]
      },
      {
       "output_type": "stream",
       "stream": "stdout",
       "text": [
        "\n",
        "24:  0.01 +/- 0.00\n",
        "_____________________________________________test_capacity-alias - 24.9s, 0.4min\n",
        "m=500 : capacity is 24 (1% error tolerance)\n",
        "________________________________________________________________________________\n",
        "[Memory] Calling metrics.test_capacity-alias...\n",
        "test_capacity-alias(100, 750, 40.2, iters=100, k=25, thresh=0.01, verbose=True)\n",
        "________________________________________________________________________________\n",
        "[Memory] Calling metrics.test_capacity_n-alias...\n",
        "test_capacity_n-alias(100, 750, 40.2, iters=100, k=25)\n",
        "____________________________________________test_capacity_n-alias - 3.8s, 0.1min"
       ]
      },
      {
       "output_type": "stream",
       "stream": "stdout",
       "text": [
        "\n",
        "25:  0.00 +/- 0.00\n",
        "________________________________________________________________________________\n",
        "[Memory] Calling metrics.test_capacity_n-alias...\n",
        "test_capacity_n-alias(100, 750, 40.2, iters=100, k=26)\n",
        "____________________________________________test_capacity_n-alias - 3.9s, 0.1min"
       ]
      },
      {
       "output_type": "stream",
       "stream": "stdout",
       "text": [
        "\n",
        "26:  0.00 +/- 0.00\n",
        "________________________________________________________________________________\n",
        "[Memory] Calling metrics.test_capacity_n-alias...\n",
        "test_capacity_n-alias(100, 750, 40.2, iters=100, k=27)\n",
        "____________________________________________test_capacity_n-alias - 4.2s, 0.1min"
       ]
      },
      {
       "output_type": "stream",
       "stream": "stdout",
       "text": [
        "\n",
        "27:  0.00 +/- 0.00\n",
        "________________________________________________________________________________\n",
        "[Memory] Calling metrics.test_capacity_n-alias...\n",
        "test_capacity_n-alias(100, 750, 40.2, iters=100, k=28)\n",
        "____________________________________________test_capacity_n-alias - 4.2s, 0.1min"
       ]
      },
      {
       "output_type": "stream",
       "stream": "stdout",
       "text": [
        "\n",
        "28:  0.00 +/- 0.00\n",
        "________________________________________________________________________________\n",
        "[Memory] Calling metrics.test_capacity_n-alias...\n",
        "test_capacity_n-alias(100, 750, 40.2, iters=100, k=29)\n",
        "____________________________________________test_capacity_n-alias - 4.6s, 0.1min"
       ]
      },
      {
       "output_type": "stream",
       "stream": "stdout",
       "text": [
        "\n",
        "29:  0.00 +/- 0.00\n",
        "________________________________________________________________________________\n",
        "[Memory] Calling metrics.test_capacity_n-alias...\n",
        "test_capacity_n-alias(100, 750, 40.2, iters=100, k=30)\n",
        "____________________________________________test_capacity_n-alias - 4.6s, 0.1min"
       ]
      },
      {
       "output_type": "stream",
       "stream": "stdout",
       "text": [
        "\n",
        "30:  0.00 +/- 0.00\n",
        "________________________________________________________________________________\n",
        "[Memory] Calling metrics.test_capacity_n-alias...\n",
        "test_capacity_n-alias(100, 750, 40.2, iters=100, k=31)\n",
        "____________________________________________test_capacity_n-alias - 4.8s, 0.1min"
       ]
      },
      {
       "output_type": "stream",
       "stream": "stdout",
       "text": [
        "\n",
        "31:  0.00 +/- 0.00\n",
        "________________________________________________________________________________\n",
        "[Memory] Calling metrics.test_capacity_n-alias...\n",
        "test_capacity_n-alias(100, 750, 40.2, iters=100, k=32)\n",
        "____________________________________________test_capacity_n-alias - 4.8s, 0.1min"
       ]
      },
      {
       "output_type": "stream",
       "stream": "stdout",
       "text": [
        "\n",
        "32:  0.00 +/- 0.00\n",
        "________________________________________________________________________________\n",
        "[Memory] Calling metrics.test_capacity_n-alias...\n",
        "test_capacity_n-alias(100, 750, 40.2, iters=100, k=33)\n",
        "____________________________________________test_capacity_n-alias - 5.1s, 0.1min"
       ]
      },
      {
       "output_type": "stream",
       "stream": "stdout",
       "text": [
        "\n",
        "33:  0.01 +/- 0.00\n",
        "________________________________________________________________________________\n",
        "[Memory] Calling metrics.test_capacity_n-alias...\n",
        "test_capacity_n-alias(100, 750, 40.2, iters=100, k=34)\n",
        "____________________________________________test_capacity_n-alias - 5.1s, 0.1min"
       ]
      },
      {
       "output_type": "stream",
       "stream": "stdout",
       "text": [
        "\n",
        "34:  0.01 +/- 0.00\n",
        "________________________________________________________________________________\n",
        "[Memory] Calling metrics.test_capacity_n-alias...\n",
        "test_capacity_n-alias(100, 750, 40.2, iters=100, k=35)\n",
        "____________________________________________test_capacity_n-alias - 5.3s, 0.1min"
       ]
      },
      {
       "output_type": "stream",
       "stream": "stdout",
       "text": [
        "\n",
        "35:  0.01 +/- 0.00\n",
        "________________________________________________________________________________\n",
        "[Memory] Calling metrics.test_capacity_n-alias...\n",
        "test_capacity_n-alias(100, 750, 40.2, iters=100, k=36)\n",
        "____________________________________________test_capacity_n-alias - 5.4s, 0.1min"
       ]
      },
      {
       "output_type": "stream",
       "stream": "stdout",
       "text": [
        "\n",
        "36:  0.01 +/- 0.00\n",
        "________________________________________________________________________________\n",
        "[Memory] Calling metrics.test_capacity_n-alias...\n",
        "test_capacity_n-alias(100, 750, 40.2, iters=100, k=37)\n",
        "____________________________________________test_capacity_n-alias - 5.7s, 0.1min"
       ]
      },
      {
       "output_type": "stream",
       "stream": "stdout",
       "text": [
        "\n",
        "37:  0.01 +/- 0.00\n",
        "________________________________________________________________________________\n",
        "[Memory] Calling metrics.test_capacity_n-alias...\n",
        "test_capacity_n-alias(100, 750, 40.2, iters=100, k=38)\n",
        "____________________________________________test_capacity_n-alias - 5.7s, 0.1min"
       ]
      },
      {
       "output_type": "stream",
       "stream": "stdout",
       "text": [
        "\n",
        "38:  0.01 +/- 0.00\n",
        "_____________________________________________test_capacity-alias - 67.2s, 1.1min\n",
        "m=750 : capacity is 38 (1% error tolerance)\n",
        "________________________________________________________________________________\n",
        "[Memory] Calling metrics.test_capacity-alias...\n",
        "test_capacity-alias(100, 1000, 40.2, iters=100, k=39, thresh=0.01, verbose=True)\n",
        "________________________________________________________________________________\n",
        "[Memory] Calling metrics.test_capacity_n-alias...\n",
        "test_capacity_n-alias(100, 1000, 40.2, iters=100, k=39)\n",
        "____________________________________________test_capacity_n-alias - 7.8s, 0.1min"
       ]
      },
      {
       "output_type": "stream",
       "stream": "stdout",
       "text": [
        "\n",
        "39:  0.00 +/- 0.00\n",
        "________________________________________________________________________________\n",
        "[Memory] Calling metrics.test_capacity_n-alias...\n",
        "test_capacity_n-alias(100, 1000, 40.2, iters=100, k=40)\n",
        "____________________________________________test_capacity_n-alias - 7.7s, 0.1min"
       ]
      },
      {
       "output_type": "stream",
       "stream": "stdout",
       "text": [
        "\n",
        "40:  0.01 +/- 0.00\n",
        "________________________________________________________________________________\n",
        "[Memory] Calling metrics.test_capacity_n-alias...\n",
        "test_capacity_n-alias(100, 1000, 40.2, iters=100, k=41)\n",
        "____________________________________________test_capacity_n-alias - 8.0s, 0.1min"
       ]
      },
      {
       "output_type": "stream",
       "stream": "stdout",
       "text": [
        "\n",
        "41:  0.01 +/- 0.00\n",
        "________________________________________________________________________________\n",
        "[Memory] Calling metrics.test_capacity_n-alias...\n",
        "test_capacity_n-alias(100, 1000, 40.2, iters=100, k=42)\n",
        "____________________________________________test_capacity_n-alias - 8.1s, 0.1min"
       ]
      },
      {
       "output_type": "stream",
       "stream": "stdout",
       "text": [
        "\n",
        "42:  0.01 +/- 0.00\n",
        "________________________________________________________________________________\n",
        "[Memory] Calling metrics.test_capacity_n-alias...\n",
        "test_capacity_n-alias(100, 1000, 40.2, iters=100, k=43)\n",
        "____________________________________________test_capacity_n-alias - 8.2s, 0.1min"
       ]
      },
      {
       "output_type": "stream",
       "stream": "stdout",
       "text": [
        "\n",
        "43:  0.01 +/- 0.00\n",
        "________________________________________________________________________________\n",
        "[Memory] Calling metrics.test_capacity_n-alias...\n",
        "test_capacity_n-alias(100, 1000, 40.2, iters=100, k=44)\n",
        "____________________________________________test_capacity_n-alias - 8.4s, 0.1min"
       ]
      },
      {
       "output_type": "stream",
       "stream": "stdout",
       "text": [
        "\n",
        "44:  0.01 +/- 0.00\n",
        "________________________________________________________________________________\n",
        "[Memory] Calling metrics.test_capacity_n-alias...\n",
        "test_capacity_n-alias(100, 1000, 40.2, iters=100, k=45)\n",
        "____________________________________________test_capacity_n-alias - 8.5s, 0.1min"
       ]
      },
      {
       "output_type": "stream",
       "stream": "stdout",
       "text": [
        "\n",
        "45:  0.01 +/- 0.00\n",
        "________________________________________________________________________________\n",
        "[Memory] Calling metrics.test_capacity_n-alias...\n",
        "test_capacity_n-alias(100, 1000, 40.2, iters=100, k=46)\n",
        "____________________________________________test_capacity_n-alias - 8.7s, 0.1min"
       ]
      },
      {
       "output_type": "stream",
       "stream": "stdout",
       "text": [
        "\n",
        "46:  0.01 +/- 0.00\n",
        "________________________________________________________________________________\n",
        "[Memory] Calling metrics.test_capacity_n-alias...\n",
        "test_capacity_n-alias(100, 1000, 40.2, iters=100, k=47)\n",
        "____________________________________________test_capacity_n-alias - 9.2s, 0.2min"
       ]
      },
      {
       "output_type": "stream",
       "stream": "stdout",
       "text": [
        "\n",
        "47:  0.01 +/- 0.00\n",
        "_____________________________________________test_capacity-alias - 74.6s, 1.2min\n",
        "m=1000 : capacity is 47 (1% error tolerance)\n",
        "________________________________________________________________________________\n",
        "[Memory] Calling metrics.test_capacity-alias...\n",
        "test_capacity-alias(100, 1250, 40.2, iters=100, k=48, thresh=0.01, verbose=True)\n",
        "________________________________________________________________________________\n",
        "[Memory] Calling metrics.test_capacity_n-alias...\n",
        "test_capacity_n-alias(100, 1250, 40.2, iters=100, k=48)\n",
        "___________________________________________test_capacity_n-alias - 11.3s, 0.2min"
       ]
      },
      {
       "output_type": "stream",
       "stream": "stdout",
       "text": [
        "\n",
        "48:  0.01 +/- 0.00\n",
        "________________________________________________________________________________\n",
        "[Memory] Calling metrics.test_capacity_n-alias...\n",
        "test_capacity_n-alias(100, 1250, 40.2, iters=100, k=49)\n",
        "___________________________________________test_capacity_n-alias - 12.0s, 0.2min"
       ]
      },
      {
       "output_type": "stream",
       "stream": "stdout",
       "text": [
        "\n",
        "49:  0.01 +/- 0.00\n",
        "________________________________________________________________________________\n",
        "[Memory] Calling metrics.test_capacity_n-alias...\n",
        "test_capacity_n-alias(100, 1250, 40.2, iters=100, k=50)\n",
        "___________________________________________test_capacity_n-alias - 11.6s, 0.2min"
       ]
      },
      {
       "output_type": "stream",
       "stream": "stdout",
       "text": [
        "\n",
        "50:  0.01 +/- 0.00\n",
        "________________________________________________________________________________\n",
        "[Memory] Calling metrics.test_capacity_n-alias...\n",
        "test_capacity_n-alias(100, 1250, 40.2, iters=100, k=51)\n",
        "___________________________________________test_capacity_n-alias - 10.0s, 0.2min"
       ]
      },
      {
       "output_type": "stream",
       "stream": "stdout",
       "text": [
        "\n",
        "51:  0.01 +/- 0.00\n",
        "________________________________________________________________________________\n",
        "[Memory] Calling metrics.test_capacity_n-alias...\n",
        "test_capacity_n-alias(100, 1250, 40.2, iters=100, k=52)\n",
        "___________________________________________test_capacity_n-alias - 10.0s, 0.2min"
       ]
      },
      {
       "output_type": "stream",
       "stream": "stdout",
       "text": [
        "\n",
        "52:  0.01 +/- 0.00\n",
        "________________________________________________________________________________\n",
        "[Memory] Calling metrics.test_capacity_n-alias...\n",
        "test_capacity_n-alias(100, 1250, 40.2, iters=100, k=53)\n",
        "___________________________________________test_capacity_n-alias - 10.3s, 0.2min"
       ]
      },
      {
       "output_type": "stream",
       "stream": "stdout",
       "text": [
        "\n",
        "53:  0.01 +/- 0.00\n",
        "________________________________________________________________________________\n",
        "[Memory] Calling metrics.test_capacity_n-alias...\n",
        "test_capacity_n-alias(100, 1250, 40.2, iters=100, k=54)\n",
        "___________________________________________test_capacity_n-alias - 10.6s, 0.2min"
       ]
      },
      {
       "output_type": "stream",
       "stream": "stdout",
       "text": [
        "\n",
        "54:  0.01 +/- 0.00\n",
        "_____________________________________________test_capacity-alias - 75.8s, 1.3min\n",
        "m=1250 : capacity is 54 (1% error tolerance)\n",
        "________________________________________________________________________________\n",
        "[Memory] Calling metrics.test_capacity-alias...\n",
        "test_capacity-alias(100, 1500, 40.2, iters=100, k=55, thresh=0.01, verbose=True)\n",
        "________________________________________________________________________________\n",
        "[Memory] Calling metrics.test_capacity_n-alias...\n",
        "test_capacity_n-alias(100, 1500, 40.2, iters=100, k=55)\n",
        "___________________________________________test_capacity_n-alias - 13.0s, 0.2min"
       ]
      },
      {
       "output_type": "stream",
       "stream": "stdout",
       "text": [
        "\n",
        "55:  0.01 +/- 0.00\n",
        "________________________________________________________________________________\n",
        "[Memory] Calling metrics.test_capacity_n-alias...\n",
        "test_capacity_n-alias(100, 1500, 40.2, iters=100, k=56)\n",
        "___________________________________________test_capacity_n-alias - 12.6s, 0.2min"
       ]
      },
      {
       "output_type": "stream",
       "stream": "stdout",
       "text": [
        "\n",
        "56:  0.01 +/- 0.00\n",
        "________________________________________________________________________________\n",
        "[Memory] Calling metrics.test_capacity_n-alias...\n",
        "test_capacity_n-alias(100, 1500, 40.2, iters=100, k=57)\n",
        "___________________________________________test_capacity_n-alias - 13.0s, 0.2min"
       ]
      },
      {
       "output_type": "stream",
       "stream": "stdout",
       "text": [
        "\n",
        "57:  0.01 +/- 0.00\n",
        "________________________________________________________________________________\n",
        "[Memory] Calling metrics.test_capacity_n-alias...\n",
        "test_capacity_n-alias(100, 1500, 40.2, iters=100, k=58)\n",
        "___________________________________________test_capacity_n-alias - 13.0s, 0.2min"
       ]
      },
      {
       "output_type": "stream",
       "stream": "stdout",
       "text": [
        "\n",
        "58:  0.01 +/- 0.00\n",
        "________________________________________________________________________________\n",
        "[Memory] Calling metrics.test_capacity_n-alias...\n",
        "test_capacity_n-alias(100, 1500, 40.2, iters=100, k=59)\n",
        "___________________________________________test_capacity_n-alias - 13.5s, 0.2min"
       ]
      },
      {
       "output_type": "stream",
       "stream": "stdout",
       "text": [
        "\n",
        "59:  0.01 +/- 0.00\n",
        "_____________________________________________test_capacity-alias - 65.1s, 1.1min\n",
        "m=1500 : capacity is 59 (1% error tolerance)\n",
        "________________________________________________________________________________\n",
        "[Memory] Calling metrics.test_capacity-alias...\n",
        "test_capacity-alias(100, 1750, 40.2, iters=100, k=60, thresh=0.01, verbose=True)\n",
        "________________________________________________________________________________\n",
        "[Memory] Calling metrics.test_capacity_n-alias...\n",
        "test_capacity_n-alias(100, 1750, 40.2, iters=100, k=60)\n",
        "___________________________________________test_capacity_n-alias - 15.8s, 0.3min"
       ]
      },
      {
       "output_type": "stream",
       "stream": "stdout",
       "text": [
        "\n",
        "60:  0.01 +/- 0.00\n",
        "________________________________________________________________________________\n",
        "[Memory] Calling metrics.test_capacity_n-alias...\n",
        "test_capacity_n-alias(100, 1750, 40.2, iters=100, k=61)\n",
        "___________________________________________test_capacity_n-alias - 16.6s, 0.3min"
       ]
      },
      {
       "output_type": "stream",
       "stream": "stdout",
       "text": [
        "\n",
        "61:  0.01 +/- 0.00\n",
        "________________________________________________________________________________\n",
        "[Memory] Calling metrics.test_capacity_n-alias...\n",
        "test_capacity_n-alias(100, 1750, 40.2, iters=100, k=62)\n",
        "___________________________________________test_capacity_n-alias - 16.4s, 0.3min"
       ]
      },
      {
       "output_type": "stream",
       "stream": "stdout",
       "text": [
        "\n",
        "62:  0.01 +/- 0.00\n",
        "________________________________________________________________________________\n",
        "[Memory] Calling metrics.test_capacity_n-alias...\n",
        "test_capacity_n-alias(100, 1750, 40.2, iters=100, k=63)\n",
        "___________________________________________test_capacity_n-alias - 16.7s, 0.3min"
       ]
      },
      {
       "ename": "KeyboardInterrupt",
       "evalue": "",
       "output_type": "pyerr",
       "traceback": [
        "\u001b[0;31m---------------------------------------------------------------------------\u001b[0m\n\u001b[0;31mKeyboardInterrupt\u001b[0m                         Traceback (most recent call last)",
        "\u001b[0;32m<ipython-input-9-367998351012>\u001b[0m in \u001b[0;36m<module>\u001b[0;34m()\u001b[0m\n\u001b[1;32m     10\u001b[0m \tk = metrics.test_capacity(\n\u001b[1;32m     11\u001b[0m             \u001b[0mn\u001b[0m\u001b[0;34m,\u001b[0m \u001b[0mint\u001b[0m\u001b[0;34m(\u001b[0m\u001b[0mm\u001b[0m\u001b[0;34m)\u001b[0m\u001b[0;34m,\u001b[0m \u001b[0mD\u001b[0m\u001b[0;34m,\u001b[0m \u001b[0mk\u001b[0m\u001b[0;34m=\u001b[0m\u001b[0mk\u001b[0m\u001b[0;34m,\u001b[0m \u001b[0miters\u001b[0m\u001b[0;34m=\u001b[0m\u001b[0miters\u001b[0m\u001b[0;34m,\u001b[0m\u001b[0;34m\u001b[0m\u001b[0m\n\u001b[0;32m---> 12\u001b[0;31m \t    thresh=float(t), verbose=True)\n\u001b[0m\u001b[1;32m     13\u001b[0m         \u001b[0mcapacity\u001b[0m\u001b[0;34m[\u001b[0m\u001b[0mtidx\u001b[0m\u001b[0;34m,\u001b[0m \u001b[0mmidx\u001b[0m\u001b[0;34m]\u001b[0m \u001b[0;34m=\u001b[0m \u001b[0mk\u001b[0m\u001b[0;34m-\u001b[0m\u001b[0;36m1\u001b[0m\u001b[0;34m\u001b[0m\u001b[0m\n\u001b[1;32m     14\u001b[0m         \u001b[0;32mprint\u001b[0m \u001b[0;34m\"m=%d : capacity is %d (%d%% error tolerance)\"\u001b[0m \u001b[0;34m%\u001b[0m \u001b[0;34m(\u001b[0m\u001b[0mm\u001b[0m\u001b[0;34m,\u001b[0m \u001b[0mk\u001b[0m\u001b[0;34m-\u001b[0m\u001b[0;36m1\u001b[0m\u001b[0;34m,\u001b[0m \u001b[0mt\u001b[0m\u001b[0;34m*\u001b[0m\u001b[0;36m100\u001b[0m\u001b[0;34m)\u001b[0m\u001b[0;34m\u001b[0m\u001b[0m\n",
        "\u001b[0;32m/usr/local/lib/python2.7/site-packages/joblib/memory.pyc\u001b[0m in \u001b[0;36m__call__\u001b[0;34m(self, *args, **kwargs)\u001b[0m\n\u001b[1;32m    161\u001b[0m                           \u001b[0;34m'directory %s'\u001b[0m\u001b[0;34m\u001b[0m\u001b[0m\n\u001b[1;32m    162\u001b[0m                         % (name, argument_hash, output_dir))\n\u001b[0;32m--> 163\u001b[0;31m             \u001b[0;32mreturn\u001b[0m \u001b[0mself\u001b[0m\u001b[0;34m.\u001b[0m\u001b[0mcall\u001b[0m\u001b[0;34m(\u001b[0m\u001b[0;34m*\u001b[0m\u001b[0margs\u001b[0m\u001b[0;34m,\u001b[0m \u001b[0;34m**\u001b[0m\u001b[0mkwargs\u001b[0m\u001b[0;34m)\u001b[0m\u001b[0;34m\u001b[0m\u001b[0m\n\u001b[0m\u001b[1;32m    164\u001b[0m         \u001b[0;32melse\u001b[0m\u001b[0;34m:\u001b[0m\u001b[0;34m\u001b[0m\u001b[0m\n\u001b[1;32m    165\u001b[0m             \u001b[0;32mtry\u001b[0m\u001b[0;34m:\u001b[0m\u001b[0;34m\u001b[0m\u001b[0m\n",
        "\u001b[0;32m/usr/local/lib/python2.7/site-packages/joblib/memory.pyc\u001b[0m in \u001b[0;36mcall\u001b[0;34m(self, *args, **kwargs)\u001b[0m\n\u001b[1;32m    314\u001b[0m         \u001b[0;32mif\u001b[0m \u001b[0mself\u001b[0m\u001b[0;34m.\u001b[0m\u001b[0m_verbose\u001b[0m\u001b[0;34m:\u001b[0m\u001b[0;34m\u001b[0m\u001b[0m\n\u001b[1;32m    315\u001b[0m             \u001b[0;32mprint\u001b[0m\u001b[0;34m(\u001b[0m\u001b[0mself\u001b[0m\u001b[0;34m.\u001b[0m\u001b[0mformat_call\u001b[0m\u001b[0;34m(\u001b[0m\u001b[0;34m*\u001b[0m\u001b[0margs\u001b[0m\u001b[0;34m,\u001b[0m \u001b[0;34m**\u001b[0m\u001b[0mkwargs\u001b[0m\u001b[0;34m)\u001b[0m\u001b[0;34m)\u001b[0m\u001b[0;34m\u001b[0m\u001b[0m\n\u001b[0;32m--> 316\u001b[0;31m         \u001b[0moutput\u001b[0m \u001b[0;34m=\u001b[0m \u001b[0mself\u001b[0m\u001b[0;34m.\u001b[0m\u001b[0mfunc\u001b[0m\u001b[0;34m(\u001b[0m\u001b[0;34m*\u001b[0m\u001b[0margs\u001b[0m\u001b[0;34m,\u001b[0m \u001b[0;34m**\u001b[0m\u001b[0mkwargs\u001b[0m\u001b[0;34m)\u001b[0m\u001b[0;34m\u001b[0m\u001b[0m\n\u001b[0m\u001b[1;32m    317\u001b[0m         \u001b[0mself\u001b[0m\u001b[0;34m.\u001b[0m\u001b[0m_persist_output\u001b[0m\u001b[0;34m(\u001b[0m\u001b[0moutput\u001b[0m\u001b[0;34m,\u001b[0m \u001b[0moutput_dir\u001b[0m\u001b[0;34m)\u001b[0m\u001b[0;34m\u001b[0m\u001b[0m\n\u001b[1;32m    318\u001b[0m         \u001b[0mself\u001b[0m\u001b[0;34m.\u001b[0m\u001b[0m_persist_input\u001b[0m\u001b[0;34m(\u001b[0m\u001b[0moutput_dir\u001b[0m\u001b[0;34m,\u001b[0m \u001b[0;34m*\u001b[0m\u001b[0margs\u001b[0m\u001b[0;34m,\u001b[0m \u001b[0;34m**\u001b[0m\u001b[0mkwargs\u001b[0m\u001b[0;34m)\u001b[0m\u001b[0;34m\u001b[0m\u001b[0m\n",
        "\u001b[0;32m/Users/jhamrick/project/bayes-sdm/metrics.py\u001b[0m in \u001b[0;36mtest_capacity\u001b[0;34m(n, m, D, k, iters, thresh, verbose)\u001b[0m\n\u001b[1;32m     35\u001b[0m         corruption = test_capacity_n(\n\u001b[1;32m     36\u001b[0m             \u001b[0mint\u001b[0m\u001b[0;34m(\u001b[0m\u001b[0mn\u001b[0m\u001b[0;34m)\u001b[0m\u001b[0;34m,\u001b[0m \u001b[0mint\u001b[0m\u001b[0;34m(\u001b[0m\u001b[0mm\u001b[0m\u001b[0;34m)\u001b[0m\u001b[0;34m,\u001b[0m \u001b[0mfloat\u001b[0m\u001b[0;34m(\u001b[0m\u001b[0mD\u001b[0m\u001b[0;34m)\u001b[0m\u001b[0;34m,\u001b[0m\u001b[0;34m\u001b[0m\u001b[0m\n\u001b[0;32m---> 37\u001b[0;31m             k=int(k), iters=int(iters))#, seed=int(seed))\n\u001b[0m\u001b[1;32m     38\u001b[0m \u001b[0;34m\u001b[0m\u001b[0m\n\u001b[1;32m     39\u001b[0m         \u001b[0;31m# compute statistics about the distances\u001b[0m\u001b[0;34m\u001b[0m\u001b[0;34m\u001b[0m\u001b[0m\n",
        "\u001b[0;32m/usr/local/lib/python2.7/site-packages/joblib/memory.pyc\u001b[0m in \u001b[0;36m__call__\u001b[0;34m(self, *args, **kwargs)\u001b[0m\n\u001b[1;32m    161\u001b[0m                           \u001b[0;34m'directory %s'\u001b[0m\u001b[0;34m\u001b[0m\u001b[0m\n\u001b[1;32m    162\u001b[0m                         % (name, argument_hash, output_dir))\n\u001b[0;32m--> 163\u001b[0;31m             \u001b[0;32mreturn\u001b[0m \u001b[0mself\u001b[0m\u001b[0;34m.\u001b[0m\u001b[0mcall\u001b[0m\u001b[0;34m(\u001b[0m\u001b[0;34m*\u001b[0m\u001b[0margs\u001b[0m\u001b[0;34m,\u001b[0m \u001b[0;34m**\u001b[0m\u001b[0mkwargs\u001b[0m\u001b[0;34m)\u001b[0m\u001b[0;34m\u001b[0m\u001b[0m\n\u001b[0m\u001b[1;32m    164\u001b[0m         \u001b[0;32melse\u001b[0m\u001b[0;34m:\u001b[0m\u001b[0;34m\u001b[0m\u001b[0m\n\u001b[1;32m    165\u001b[0m             \u001b[0;32mtry\u001b[0m\u001b[0;34m:\u001b[0m\u001b[0;34m\u001b[0m\u001b[0m\n",
        "\u001b[0;32m/usr/local/lib/python2.7/site-packages/joblib/memory.pyc\u001b[0m in \u001b[0;36mcall\u001b[0;34m(self, *args, **kwargs)\u001b[0m\n\u001b[1;32m    314\u001b[0m         \u001b[0;32mif\u001b[0m \u001b[0mself\u001b[0m\u001b[0;34m.\u001b[0m\u001b[0m_verbose\u001b[0m\u001b[0;34m:\u001b[0m\u001b[0;34m\u001b[0m\u001b[0m\n\u001b[1;32m    315\u001b[0m             \u001b[0;32mprint\u001b[0m\u001b[0;34m(\u001b[0m\u001b[0mself\u001b[0m\u001b[0;34m.\u001b[0m\u001b[0mformat_call\u001b[0m\u001b[0;34m(\u001b[0m\u001b[0;34m*\u001b[0m\u001b[0margs\u001b[0m\u001b[0;34m,\u001b[0m \u001b[0;34m**\u001b[0m\u001b[0mkwargs\u001b[0m\u001b[0;34m)\u001b[0m\u001b[0;34m)\u001b[0m\u001b[0;34m\u001b[0m\u001b[0m\n\u001b[0;32m--> 316\u001b[0;31m         \u001b[0moutput\u001b[0m \u001b[0;34m=\u001b[0m \u001b[0mself\u001b[0m\u001b[0;34m.\u001b[0m\u001b[0mfunc\u001b[0m\u001b[0;34m(\u001b[0m\u001b[0;34m*\u001b[0m\u001b[0margs\u001b[0m\u001b[0;34m,\u001b[0m \u001b[0;34m**\u001b[0m\u001b[0mkwargs\u001b[0m\u001b[0;34m)\u001b[0m\u001b[0;34m\u001b[0m\u001b[0m\n\u001b[0m\u001b[1;32m    317\u001b[0m         \u001b[0mself\u001b[0m\u001b[0;34m.\u001b[0m\u001b[0m_persist_output\u001b[0m\u001b[0;34m(\u001b[0m\u001b[0moutput\u001b[0m\u001b[0;34m,\u001b[0m \u001b[0moutput_dir\u001b[0m\u001b[0;34m)\u001b[0m\u001b[0;34m\u001b[0m\u001b[0m\n\u001b[1;32m    318\u001b[0m         \u001b[0mself\u001b[0m\u001b[0;34m.\u001b[0m\u001b[0m_persist_input\u001b[0m\u001b[0;34m(\u001b[0m\u001b[0moutput_dir\u001b[0m\u001b[0;34m,\u001b[0m \u001b[0;34m*\u001b[0m\u001b[0margs\u001b[0m\u001b[0;34m,\u001b[0m \u001b[0;34m**\u001b[0m\u001b[0mkwargs\u001b[0m\u001b[0;34m)\u001b[0m\u001b[0;34m\u001b[0m\u001b[0m\n",
        "\u001b[0;32m/Users/jhamrick/project/bayes-sdm/metrics.py\u001b[0m in \u001b[0;36mtest_capacity_n\u001b[0;34m(n, m, D, k, iters)\u001b[0m\n\u001b[1;32m     19\u001b[0m         \u001b[0;31m# write random inputs to memory\u001b[0m\u001b[0;34m\u001b[0m\u001b[0;34m\u001b[0m\u001b[0m\n\u001b[1;32m     20\u001b[0m         \u001b[0mvecs\u001b[0m \u001b[0;34m=\u001b[0m \u001b[0mutil\u001b[0m\u001b[0;34m.\u001b[0m\u001b[0mrandom_input\u001b[0m\u001b[0;34m(\u001b[0m\u001b[0mn\u001b[0m\u001b[0;34m,\u001b[0m \u001b[0mk\u001b[0m\u001b[0;34m)\u001b[0m\u001b[0;31m#, rso=rso)\u001b[0m\u001b[0;34m\u001b[0m\u001b[0m\n\u001b[0;32m---> 21\u001b[0;31m         \u001b[0mmem\u001b[0m\u001b[0;34m.\u001b[0m\u001b[0mwriteM\u001b[0m\u001b[0;34m(\u001b[0m\u001b[0mvecs\u001b[0m\u001b[0;34m,\u001b[0m \u001b[0mvecs\u001b[0m\u001b[0;34m)\u001b[0m\u001b[0;34m\u001b[0m\u001b[0m\n\u001b[0m\u001b[1;32m     22\u001b[0m         \u001b[0;31m# read the items back out\u001b[0m\u001b[0;34m\u001b[0m\u001b[0;34m\u001b[0m\u001b[0m\n\u001b[1;32m     23\u001b[0m         \u001b[0mr\u001b[0m \u001b[0;34m=\u001b[0m \u001b[0mmem\u001b[0m\u001b[0;34m.\u001b[0m\u001b[0mreadM\u001b[0m\u001b[0;34m(\u001b[0m\u001b[0mvecs\u001b[0m\u001b[0;34m)\u001b[0m\u001b[0;34m\u001b[0m\u001b[0m\n",
        "\u001b[0;32m/Users/jhamrick/project/bayes-sdm/sdm.pyc\u001b[0m in \u001b[0;36mwriteM\u001b[0;34m(self, addresses, data)\u001b[0m\n\u001b[1;32m    109\u001b[0m \u001b[0;34m\u001b[0m\u001b[0m\n\u001b[1;32m    110\u001b[0m         \"\"\"\n\u001b[0;32m--> 111\u001b[0;31m         \u001b[0ms\u001b[0m \u001b[0;34m=\u001b[0m \u001b[0mself\u001b[0m\u001b[0;34m.\u001b[0m\u001b[0m_select\u001b[0m\u001b[0;34m(\u001b[0m\u001b[0maddresses\u001b[0m\u001b[0;34m)\u001b[0m\u001b[0;34m\u001b[0m\u001b[0m\n\u001b[0m\u001b[1;32m    112\u001b[0m         \u001b[0mw\u001b[0m \u001b[0;34m=\u001b[0m \u001b[0;34m(\u001b[0m\u001b[0mdata\u001b[0m \u001b[0;34m*\u001b[0m \u001b[0;36m2\u001b[0m\u001b[0;34m)\u001b[0m \u001b[0;34m-\u001b[0m \u001b[0;36m1\u001b[0m\u001b[0;34m\u001b[0m\u001b[0m\n\u001b[1;32m    113\u001b[0m         \u001b[0mc\u001b[0m \u001b[0;34m=\u001b[0m \u001b[0mnp\u001b[0m\u001b[0;34m.\u001b[0m\u001b[0msum\u001b[0m\u001b[0;34m(\u001b[0m\u001b[0mw\u001b[0m\u001b[0;34m[\u001b[0m\u001b[0;34m:\u001b[0m\u001b[0;34m,\u001b[0m \u001b[0mNone\u001b[0m\u001b[0;34m]\u001b[0m \u001b[0;34m*\u001b[0m \u001b[0ms\u001b[0m\u001b[0;34m[\u001b[0m\u001b[0mNone\u001b[0m\u001b[0;34m,\u001b[0m \u001b[0;34m:\u001b[0m\u001b[0;34m]\u001b[0m\u001b[0;34m,\u001b[0m \u001b[0maxis\u001b[0m\u001b[0;34m=\u001b[0m\u001b[0;36m2\u001b[0m\u001b[0;34m)\u001b[0m\u001b[0;34m\u001b[0m\u001b[0m\n",
        "\u001b[0;32m/Users/jhamrick/project/bayes-sdm/sdm.pyc\u001b[0m in \u001b[0;36m_select\u001b[0;34m(self, address)\u001b[0m\n\u001b[1;32m     60\u001b[0m \u001b[0;34m\u001b[0m\u001b[0m\n\u001b[1;32m     61\u001b[0m         \"\"\"\n\u001b[0;32m---> 62\u001b[0;31m         \u001b[0mx\u001b[0m \u001b[0;34m=\u001b[0m \u001b[0mnp\u001b[0m\u001b[0;34m.\u001b[0m\u001b[0msum\u001b[0m\u001b[0;34m(\u001b[0m\u001b[0mself\u001b[0m\u001b[0;34m.\u001b[0m\u001b[0mA\u001b[0m \u001b[0;34m^\u001b[0m \u001b[0maddress\u001b[0m\u001b[0;34m,\u001b[0m \u001b[0maxis\u001b[0m\u001b[0;34m=\u001b[0m\u001b[0;36m1\u001b[0m\u001b[0;34m)\u001b[0m\u001b[0;34m\u001b[0m\u001b[0m\n\u001b[0m\u001b[1;32m     63\u001b[0m         \u001b[0mtheta\u001b[0m \u001b[0;34m=\u001b[0m \u001b[0mx\u001b[0m \u001b[0;34m<=\u001b[0m \u001b[0mself\u001b[0m\u001b[0;34m.\u001b[0m\u001b[0mD\u001b[0m\u001b[0;34m\u001b[0m\u001b[0m\n\u001b[1;32m     64\u001b[0m         \u001b[0;32mreturn\u001b[0m \u001b[0mtheta\u001b[0m\u001b[0;34m\u001b[0m\u001b[0m\n",
        "\u001b[0;31mKeyboardInterrupt\u001b[0m: "
       ]
      },
      {
       "output_type": "stream",
       "stream": "stdout",
       "text": [
        "\n",
        "63:  0.01 +/- 0.00\n",
        "________________________________________________________________________________\n",
        "[Memory] Calling metrics.test_capacity_n-alias...\n",
        "test_capacity_n-alias(100, 1750, 40.2, iters=100, k=64)\n"
       ]
      }
     ],
     "prompt_number": 9
    },
    {
     "cell_type": "code",
     "collapsed": false,
     "input": [
      "import joblib\n",
      "joblib.Memory?"
     ],
     "language": "python",
     "outputs": [],
     "prompt_number": 9
    },
    {
     "cell_type": "code",
     "collapsed": false,
     "input": [
      "lot the storage capacity as a function of address space size\n",
      "plt.clf()\n",
      "for tidx, t in enumerate(thresh):\n",
      "    plt.plot(M, capacity[tidx], label='%d%% err. tol.' % (t*100))\n",
      "plt.xlabel(\"M (# addresses)\")\n",
      "plt.ylabel(\"Capacity (# uncorrupted items)\")\n",
      "plt.title(\"SDM Capacity (N=%d)\" % n)\n",
      "plt.legend(loc=0)\n"
     ],
     "language": "python",
     "outputs": [
      {
       "ename": "SyntaxError",
       "evalue": "invalid syntax (<ipython-input-2-f93bb5a8d9c9>, line 1)",
       "output_type": "pyerr",
       "traceback": [
        "\u001b[0;36m  File \u001b[0;32m\"<ipython-input-2-f93bb5a8d9c9>\"\u001b[0;36m, line \u001b[0;32m1\u001b[0m\n\u001b[0;31m    lot the storage capacity as a function of address space size\u001b[0m\n\u001b[0m          ^\u001b[0m\n\u001b[0;31mSyntaxError\u001b[0m\u001b[0;31m:\u001b[0m invalid syntax\n"
       ]
      }
     ],
     "prompt_number": 2
    },
    {
     "cell_type": "code",
     "collapsed": false,
     "input": [
      "# plot the utilization as a function of address space size\n",
      "plt.clf()\n",
      "for tidx, t in enumerate(thresh):\n",
      "    plt.plot(M, 100 * capacity[tidx] / M.astype('f8'),\n",
      "\t     label='%d%% err. tol.' % (t*100))\n",
      "plt.xlabel(\"M (# addresses)\")\n",
      "plt.ylabel(\"Percent Utilization (capacity / M)\")\n",
      "plt.title(\"SDM Utilization (N=%d)\" % n)\n",
      "plt.legend(loc=0)\n"
     ],
     "language": "python",
     "outputs": [
      {
       "output_type": "pyout",
       "prompt_number": 88,
       "text": [
        "<matplotlib.legend.Legend at 0x11025b090>"
       ]
      },
      {
       "output_type": "display_data",
       "png": "[encoded data removed]"
      }
     ],
     "prompt_number": 88
    },
    {
     "cell_type": "code",
     "collapsed": false,
     "input": [
      "# How many random, uncorrelated inputs can the Hopfield net store?\n"
     ],
     "language": "python",
     "outputs": []
    },
    {
     "cell_type": "heading",
     "level": 1,
     "source": [
      "Noise Tolerance"
     ]
    },
    {
     "cell_type": "code",
     "collapsed": false,
     "input": [
      "# How many random, uncorrelated inputs can the SDM store?\n",
      "M = [100, 200, 400, 600, 800, 1000]\n",
      "capacity = []\n",
      "for m in M:\n",
      "    rso.seed(0)\n",
      "    mem = sdm.SDM(n, m, D, seed=rso)\n",
      "    corruption = test_uncorrelated_capacity(mem, iters=100, rso=rso, verbose=False)\n",
      "    capacity.append(corruption.shape[0]-1)\n",
      "    print \"m=%d : capacity is %d\" % (M, capacity[-1])\n"
     ],
     "language": "python",
     "outputs": []
    },
    {
     "cell_type": "heading",
     "level": 1,
     "source": [
      "Prototype Retrieval"
     ]
    },
    {
     "cell_type": "code",
     "collapsed": false,
     "input": [],
     "language": "python",
     "outputs": []
    },
    {
     "cell_type": "heading",
     "level": 1,
     "source": [
      "Sequence Retrieval"
     ]
    },
    {
     "cell_type": "code",
     "collapsed": false,
     "input": [],
     "language": "python",
     "outputs": []
    },
    {
     "cell_type": "heading",
     "level": 1,
     "source": [
      "Address/Data Distinction"
     ]
    },
    {
     "cell_type": "code",
     "collapsed": false,
     "input": [],
     "language": "python",
     "outputs": []
    }
   ]
  }
 ]
}