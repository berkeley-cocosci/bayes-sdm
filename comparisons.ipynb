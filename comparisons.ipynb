{
 "metadata": {
  "name": "comparisons"
 },
 "nbformat": 3,
 "nbformat_minor": 0,
 "worksheets": [
  {
   "cells": [
    {
     "cell_type": "heading",
     "level": 1,
     "source": [
      "SDM/Hopfield Comparison Code"
     ]
    },
    {
     "cell_type": "code",
     "collapsed": false,
     "input": [
      "\"\"\"SDM/Hopfield Comparison\n",
      "\n",
      "This code compares SDM networks and Hopfield networks on various\n",
      "properties, including appropriate parameter values, storage capacity,\n",
      "\"prototype\" retrieval, and sequence retrieval.\n",
      "\n",
      "Authors: \n",
      "  Jessica Hamrick (jhamrick@berkeley.edu)\n",
      "  Josh Abbott (joshua.abbott@berkeley.edu)\n",
      "\n",
      "\"\"\"\n"
     ],
     "language": "python",
     "outputs": [
      {
       "output_type": "pyout",
       "prompt_number": 1,
       "text": [
        "'SDM/Hopfield Comparison\\n\\nThis code compares SDM networks and Hopfield networks on various\\nproperties, including appropriate parameter values, storage capacity,\\n\"prototype\" retrieval, and sequence retrieval.\\n\\nAuthors: \\n  Jessica Hamrick (jhamrick@berkeley.edu)\\n  Josh Abbott (joshua.abbott@berkeley.edu)\\n\\n'"
       ]
      }
     ],
     "prompt_number": 1
    },
    {
     "cell_type": "code",
     "collapsed": false,
     "input": [
      "import numpy as np\n",
      "import matplotlib.pyplot as plt\n",
      "import scipy.stats\n",
      "import sdm as sdm\n",
      "import hopfield as hop\n",
      "import util as util\n",
      "import metrics as metrics\n"
     ],
     "language": "python",
     "outputs": [],
     "prompt_number": 2
    },
    {
     "cell_type": "heading",
     "level": 1,
     "source": [
      "Parameters"
     ]
    },
    {
     "cell_type": "code",
     "collapsed": false,
     "input": [
      "# SDM Parameters\n",
      "# --------------\n",
      "#   n : length of inputs\n",
      "#   m : number of addresses\n",
      "#   D : hamming radius\n",
      "\n",
      "\n",
      "# Hopfield Parameters\n",
      "# -------------------\n",
      "#   n : length of inputs\n"
     ],
     "language": "python",
     "outputs": [],
     "prompt_number": 3
    },
    {
     "cell_type": "code",
     "collapsed": false,
     "input": [
      "# print extra information\n",
      "verbose = True\n",
      "\n",
      "# length of inputs\n",
      "n = 16**2\n",
      "# number of simulations to run\n",
      "iters = 10\n",
      "# step by which to test storage capacity\n",
      "k = sorted(set(np.round(\n",
      "    np.logspace(\n",
      "\tnp.log(5)/np.log(10),\n",
      "\tnp.log(200)/np.log(10),\n",
      "\tnum=20, base=10),\n",
      "    decimals=0).astype('i8')))\n",
      "\n",
      "# hamming distance encompasses 2.5% of addresses\n",
      "D = float((n / 2.) - (np.sqrt(n*(0.5**2)) * 1.96))\n",
      "#D = 105\n",
      "# address spaces for the SDM\n",
      "M = np.array([500, 1000, 2500, 5000, 10000])\n",
      "\n",
      "# corruption levels to test\n",
      "noise = np.array([0.0, 0.025, 0.05, 0.10, 0.15, 0.20])\n",
      "\n",
      "# colors for plotting\n",
      "colors = ['#FF0000', # red \n",
      "\t  '#FF9933', # orange\n",
      "\t  '#FFFF00', # yellow\n",
      "\t  '#00FF00', # green\n",
      "\t  '#00FFFF', # cyan\n",
      "\t  '#0000FF', # blue\n",
      "\t  '#660099', # violet\n",
      "\t  # '#FF00FF', # magenta\n",
      "\t  '#FF0099', # pink\n",
      "\t  ]\n",
      "# alpha value for error regions in plots\n",
      "alpha = 0.3\n"
     ],
     "language": "python",
     "outputs": [],
     "prompt_number": 10
    },
    {
     "cell_type": "heading",
     "level": 1,
     "source": [
      "Uncorrupted Storage Capacity"
     ]
    },
    {
     "cell_type": "code",
     "collapsed": false,
     "input": [
      "# How many random, uncorrelated inputs can the SDM store?\n",
      "sdm_capacity = np.empty((len(M), len(k), 2))\n",
      "for midx, m in enumerate(M):\n",
      "    print \"SDM (M=%d)\" % m\n",
      "    sdm_capacity[midx] = metrics.test_capacity(\n",
      "\t(int(n), int(m), float(D)), \n",
      "\tk0=k, iters=int(iters), verbose=verbose)\n"
     ],
     "language": "python",
     "outputs": [
      {
       "output_type": "stream",
       "stream": "stdout",
       "text": [
        "SDM (M=500)\n",
        " 5:  0.000 +/- 0.000"
       ]
      },
      {
       "output_type": "stream",
       "stream": "stdout",
       "text": [
        "\n",
        " 6:  0.000 +/- 0.000"
       ]
      },
      {
       "output_type": "stream",
       "stream": "stdout",
       "text": [
        "\n",
        " 7:  0.000 +/- 0.000"
       ]
      },
      {
       "output_type": "stream",
       "stream": "stdout",
       "text": [
        "\n",
        " 9:  0.000 +/- 0.000"
       ]
      },
      {
       "output_type": "stream",
       "stream": "stdout",
       "text": [
        "\n",
        "11:  0.000 +/- 0.000"
       ]
      },
      {
       "output_type": "stream",
       "stream": "stdout",
       "text": [
        "\n",
        "13:  0.000 +/- 0.000\n",
        "16:  0.000 +/- 0.000"
       ]
      },
      {
       "output_type": "stream",
       "stream": "stdout",
       "text": [
        "\n",
        "19:  0.000 +/- 0.000"
       ]
      },
      {
       "output_type": "stream",
       "stream": "stdout",
       "text": [
        "\n",
        "24:  0.001 +/- 0.000"
       ]
      },
      {
       "output_type": "stream",
       "stream": "stdout",
       "text": [
        "\n",
        "29:  0.001 +/- 0.000"
       ]
      },
      {
       "output_type": "stream",
       "stream": "stdout",
       "text": [
        "\n",
        "35:  0.002 +/- 0.000"
       ]
      },
      {
       "output_type": "stream",
       "stream": "stdout",
       "text": [
        "\n",
        "42:  0.004 +/- 0.001"
       ]
      },
      {
       "output_type": "stream",
       "stream": "stdout",
       "text": [
        "\n",
        "51:  0.004 +/- 0.000"
       ]
      },
      {
       "output_type": "stream",
       "stream": "stdout",
       "text": [
        "\n",
        "62:  0.009 +/- 0.000"
       ]
      },
      {
       "output_type": "stream",
       "stream": "stdout",
       "text": [
        "\n",
        "76:  0.015 +/- 0.001"
       ]
      },
      {
       "output_type": "stream",
       "stream": "stdout",
       "text": [
        "\n",
        "92:  0.022 +/- 0.001"
       ]
      },
      {
       "output_type": "stream",
       "stream": "stdout",
       "text": [
        "\n",
        "112:  0.036 +/- 0.001"
       ]
      },
      {
       "output_type": "stream",
       "stream": "stdout",
       "text": [
        "\n",
        "136:  0.046 +/- 0.001"
       ]
      },
      {
       "output_type": "stream",
       "stream": "stdout",
       "text": [
        "\n",
        "165:  0.059 +/- 0.001"
       ]
      },
      {
       "output_type": "stream",
       "stream": "stdout",
       "text": [
        "\n",
        "200:  0.077 +/- 0.001"
       ]
      },
      {
       "output_type": "stream",
       "stream": "stdout",
       "text": [
        "\n",
        "SDM (M=1000)\n",
        " 5:  0.000 +/- 0.000"
       ]
      },
      {
       "output_type": "stream",
       "stream": "stdout",
       "text": [
        "\n",
        " 6:  0.000 +/- 0.000"
       ]
      },
      {
       "output_type": "stream",
       "stream": "stdout",
       "text": [
        "\n",
        " 7:  0.000 +/- 0.000"
       ]
      },
      {
       "output_type": "stream",
       "stream": "stdout",
       "text": [
        "\n",
        " 9:  0.000 +/- 0.000"
       ]
      },
      {
       "output_type": "stream",
       "stream": "stdout",
       "text": [
        "\n",
        "11:  0.000 +/- 0.000"
       ]
      },
      {
       "output_type": "stream",
       "stream": "stdout",
       "text": [
        "\n",
        "13:  0.000 +/- 0.000\n",
        "16:  0.000 +/- 0.000"
       ]
      },
      {
       "output_type": "stream",
       "stream": "stdout",
       "text": [
        "\n",
        "19:  0.000 +/- 0.000"
       ]
      },
      {
       "output_type": "stream",
       "stream": "stdout",
       "text": [
        "\n",
        "24:  0.000 +/- 0.000"
       ]
      },
      {
       "output_type": "stream",
       "stream": "stdout",
       "text": [
        "\n",
        "29:  0.000 +/- 0.000"
       ]
      },
      {
       "output_type": "stream",
       "stream": "stdout",
       "text": [
        "\n",
        "35:  0.000 +/- 0.000"
       ]
      },
      {
       "output_type": "stream",
       "stream": "stdout",
       "text": [
        "\n",
        "42:  0.000 +/- 0.000"
       ]
      },
      {
       "output_type": "stream",
       "stream": "stdout",
       "text": [
        "\n",
        "51:  0.000 +/- 0.000"
       ]
      },
      {
       "output_type": "stream",
       "stream": "stdout",
       "text": [
        "\n",
        "62:  0.001 +/- 0.000"
       ]
      },
      {
       "output_type": "stream",
       "stream": "stdout",
       "text": [
        "\n",
        "76:  0.003 +/- 0.000"
       ]
      },
      {
       "output_type": "stream",
       "stream": "stdout",
       "text": [
        "\n",
        "92:  0.005 +/- 0.000"
       ]
      },
      {
       "output_type": "stream",
       "stream": "stdout",
       "text": [
        "\n",
        "112:  0.010 +/- 0.000"
       ]
      },
      {
       "output_type": "stream",
       "stream": "stdout",
       "text": [
        "\n",
        "136:  0.016 +/- 0.001"
       ]
      },
      {
       "output_type": "stream",
       "stream": "stdout",
       "text": [
        "\n",
        "165:  0.025 +/- 0.001"
       ]
      },
      {
       "output_type": "stream",
       "stream": "stdout",
       "text": [
        "\n",
        "200:  0.034 +/- 0.001"
       ]
      },
      {
       "output_type": "stream",
       "stream": "stdout",
       "text": [
        "\n",
        "SDM (M=2500)\n",
        " 5:  0.000 +/- 0.000"
       ]
      },
      {
       "output_type": "stream",
       "stream": "stdout",
       "text": [
        "\n",
        " 6:  0.000 +/- 0.000"
       ]
      },
      {
       "output_type": "stream",
       "stream": "stdout",
       "text": [
        "\n",
        " 7:  0.000 +/- 0.000"
       ]
      },
      {
       "output_type": "stream",
       "stream": "stdout",
       "text": [
        "\n",
        " 9:  0.000 +/- 0.000"
       ]
      },
      {
       "output_type": "stream",
       "stream": "stdout",
       "text": [
        "\n",
        "11:  0.000 +/- 0.000"
       ]
      },
      {
       "output_type": "stream",
       "stream": "stdout",
       "text": [
        "\n",
        "13:  0.000 +/- 0.000"
       ]
      },
      {
       "output_type": "stream",
       "stream": "stdout",
       "text": [
        "\n",
        "16:  0.000 +/- 0.000"
       ]
      },
      {
       "output_type": "stream",
       "stream": "stdout",
       "text": [
        "\n",
        "19:  0.000 +/- 0.000"
       ]
      },
      {
       "output_type": "stream",
       "stream": "stdout",
       "text": [
        "\n",
        "24:  0.000 +/- 0.000"
       ]
      },
      {
       "output_type": "stream",
       "stream": "stdout",
       "text": [
        "\n",
        "29:  0.000 +/- 0.000"
       ]
      },
      {
       "output_type": "stream",
       "stream": "stdout",
       "text": [
        "\n",
        "35:  0.000 +/- 0.000"
       ]
      },
      {
       "output_type": "stream",
       "stream": "stdout",
       "text": [
        "\n",
        "42:  0.000 +/- 0.000"
       ]
      }
     ],
     "prompt_number": "*"
    },
    {
     "cell_type": "code",
     "collapsed": false,
     "input": [
      "# How many random, uncorrelated inputs can the Hopfield net store?\n",
      "print \"Hopfield\"\n",
      "hop_capacity = metrics.test_capacity(\n",
      "    int(n), k0=k, iters=int(iters), verbose=verbose)\n"
     ],
     "language": "python",
     "outputs": [],
     "prompt_number": "*"
    },
    {
     "cell_type": "code",
     "collapsed": false,
     "input": [
      "# plot corruption as a function of items stored\n",
      "util.set_fig_properties()\n",
      "for i in xrange(M.size):\n",
      "    util.plot_error(k, sdm_capacity[i], colors[i], alpha, 'SDM M=%d' % M[i])\n",
      "util.plot_error(k, hop_capacity, colors[i+1], alpha, 'Hopfield', linestyle='--')\n",
      "\n",
      "plt.xlim(k[0], k[-1])\n",
      "plt.xlabel(\"Number of stored items\")\n",
      "plt.ylabel(\"Mean fraction of corrupted bits\")\n",
      "plt.title(\"SDM and Hopfield Capacities for Ideal Inputs (N=%d)\" % n)\n",
      "plt.legend(loc=0)\n"
     ],
     "language": "python",
     "outputs": [
      {
       "output_type": "pyout",
       "prompt_number": 14,
       "text": [
        "<matplotlib.legend.Legend at 0x11a11a2d0>"
       ]
      },
      {
       "output_type": "display_data",
       "png": "[encoded data removed]"
      }
     ],
     "prompt_number": 14
    },
    {
     "cell_type": "heading",
     "level": 1,
     "source": [
      "Noise Tolerance"
     ]
    },
    {
     "cell_type": "code",
     "collapsed": false,
     "input": [
      "# How many random, uncorrelated inputs can the SDM store and be able\n",
      "# to retrieve even with corruption?\n",
      "m = M[-1]\n",
      "sdm_tolerance = np.empty((len(noise), len(k), 2))\n",
      "for nidx, err in enumerate(noise):\n",
      "    print \"SDM (M=%d) w/ %.2f%% corruption\" % (m, err*100)\n",
      "    sdm_tolerance[nidx] = metrics.test_noise_tolerance(\n",
      "\t(int(n), int(m), float(D)), \n",
      "\tk0=k, noise=float(err),\n",
      "\titers=int(iters), verbose=verbose)\n",
      "    "
     ],
     "language": "python",
     "outputs": [],
     "prompt_number": "*"
    },
    {
     "cell_type": "code",
     "collapsed": false,
     "input": [
      "# How many random, uncorrelated inputs can the Hopfield net store and\n",
      "# be able to retrieve even with corruption?\n",
      "hop_tolerance = np.empty((len(noise), len(k), 2))\n",
      "for nidx, err in enumerate(noise):\n",
      "    print \"Hopfield w/ %.2f%% corruption\" % (err*100)\n",
      "    hop_tolerance[nidx] = metrics.test_noise_tolerance(\n",
      "\tint(n), k0=k, noise=float(err),\n",
      "\titers=int(iters), verbose=verbose)\n"
     ],
     "language": "python",
     "outputs": [],
     "prompt_number": "*"
    },
    {
     "cell_type": "code",
     "collapsed": false,
     "input": [
      "# plot the storage capacity as a function of address space size\n",
      "util.set_fig_properties()\n",
      "\n",
      "for nidx, err in enumerate(noise):\n",
      "    util.plot_error(k, sdm_tolerance[nidx], colors[nidx], alpha,\n",
      "\t\t    \"SDM %d%% corruption\" % (err*100),\n",
      "\t\t    linestyle='-')\n",
      "    util.plot_error(k, hop_tolerance[nidx], colors[nidx], alpha,\n",
      "\t\t    \"Hop %d%% corruption\" % (err*100),\n",
      "\t\t    linestyle='--')\n",
      "\n",
      "plt.xlim(k[0], k[-1])\n",
      "plt.xlabel(\"Number of stored items\")\n",
      "plt.ylabel(\"Fraction of corrupted bits\")\n",
      "plt.title(\"SDM (M=%d) and Hopfield Error Tolerance (N=%d)\" % (m, n))\n",
      "plt.legend(loc=0)\n",
      "\n"
     ],
     "language": "python",
     "outputs": [
      {
       "ename": "NameError",
       "evalue": "name 'hop_tolerance' is not defined",
       "output_type": "pyerr",
       "traceback": [
        "\u001b[0;31m---------------------------------------------------------------------------\u001b[0m\n\u001b[0;31mNameError\u001b[0m                                 Traceback (most recent call last)",
        "\u001b[0;32m<ipython-input-16-2179b8cefea8>\u001b[0m in \u001b[0;36m<module>\u001b[0;34m()\u001b[0m\n\u001b[1;32m      6\u001b[0m                     \u001b[0;34m\"SDM %d%% corruption\"\u001b[0m \u001b[0;34m%\u001b[0m \u001b[0;34m(\u001b[0m\u001b[0merr\u001b[0m\u001b[0;34m*\u001b[0m\u001b[0;36m100\u001b[0m\u001b[0;34m)\u001b[0m\u001b[0;34m,\u001b[0m\u001b[0;34m\u001b[0m\u001b[0m\n\u001b[1;32m      7\u001b[0m \t\t    linestyle='-')\n\u001b[0;32m----> 8\u001b[0;31m     util.plot_error(k, hop_tolerance[nidx], colors[nidx], alpha,\n\u001b[0m\u001b[1;32m      9\u001b[0m                     \u001b[0;34m\"Hop %d%% corruption\"\u001b[0m \u001b[0;34m%\u001b[0m \u001b[0;34m(\u001b[0m\u001b[0merr\u001b[0m\u001b[0;34m*\u001b[0m\u001b[0;36m100\u001b[0m\u001b[0;34m)\u001b[0m\u001b[0;34m,\u001b[0m\u001b[0;34m\u001b[0m\u001b[0m\n\u001b[1;32m     10\u001b[0m \t\t    linestyle='--')\n",
        "\u001b[0;31mNameError\u001b[0m: name 'hop_tolerance' is not defined"
       ]
      },
      {
       "output_type": "display_data",
       "png": "[encoded data removed]"
      }
     ],
     "prompt_number": 16
    },
    {
     "cell_type": "heading",
     "level": 1,
     "source": [
      "Prototype Retrieval"
     ]
    },
    {
     "cell_type": "code",
     "collapsed": false,
     "input": [
      "# How well can the SDM/Hopfield net store prototypes?\n",
      "m = M[-1]\n",
      "kp = 3\n",
      "prototype_noise = noise.copy()\n",
      "prototype_k = np.array([10, 25, 50, 100])\n",
      "\n",
      "sdm_prototype = np.empty((prototype_noise.size, prototype_k.size))\n",
      "hop_prototype = np.empty((prototype_noise.size, prototype_k.size))\n",
      "for nidx, err in enumerate(prototype_noise):\n",
      "    print \"Noise:\", err\n",
      "    for kidx, k in enumerate(prototype_k):\n",
      "\tprint \"SDM\",\n",
      "\tp = metrics.test_prototype(\n",
      "\t    (int(n), int(m), float(D)), \n",
      "\t    kp=kp, ke=int(k), noise=float(err),\n",
      "\t    iters=int(iters), verbose=verbose)\n",
      "\tsdm_prototype[nidx, kidx] = p\n",
      "\tprint \"Hop\",\n",
      "\tp = metrics.test_prototype(\n",
      "\t    int(n), kp=kp, ke=int(k), noise=float(err),\n",
      "\t    iters=int(iters), verbose=verbose)\n",
      "\thop_prototype[nidx, kidx] = p\n",
      "\n",
      "\tprint\n"
     ],
     "language": "python",
     "outputs": [],
     "prompt_number": "*"
    },
    {
     "cell_type": "code",
     "collapsed": false,
     "input": [
      "plt.clf()\n",
      "\n",
      "plt.subplot(1, 3, 1)\n",
      "plt.imshow(\n",
      "    1-sdm_prototype, \n",
      "    cmap='gray', interpolation='nearest', vmin=0.5, vmax=1)\n",
      "plt.xticks(np.arange(prototype_k.size), prototype_k)\n",
      "plt.yticks(np.arange(noise.size), noise)\n",
      "plt.title(\"SDM (M=%d)\" % m)\n",
      "plt.xlabel(\"Exemplars\")\n",
      "plt.ylabel(\"Percent Corruption\")\n",
      "\n",
      "plt.subplot(1, 3, 2)\n",
      "plt.imshow(\n",
      "    1-hop_prototype, \n",
      "    cmap='gray', interpolation='nearest', vmin=0.5, vmax=1)\n",
      "plt.xticks(np.arange(prototype_k.size), prototype_k)\n",
      "plt.yticks(np.arange(noise.size), [])\n",
      "plt.title(\"Hopfield\")\n",
      "plt.xlabel(\"Exemplars\")\n",
      "\n",
      "plt.subplot(1, 3, 3)\n",
      "diff = hop_prototype-sdm_prototype\n",
      "plt.imshow(\n",
      "    np.sign(diff)*(2**np.log(np.abs(diff))), \n",
      "    #diff,\n",
      "    cmap='RdBu', interpolation='nearest', vmin=-0.5, vmax=0.5)\n",
      "plt.xticks(np.arange(prototype_k.size), prototype_k)\n",
      "plt.yticks(np.arange(noise.size), [])\n",
      "plt.title(\"Hopfield-SDM\")\n",
      "plt.xlabel(\"Exemplars\")\n",
      "\n"
     ],
     "language": "python",
     "outputs": [
      {
       "output_type": "stream",
       "stream": "stderr",
       "text": [
        "-c:25: RuntimeWarning: divide by zero encountered in log\n"
       ]
      },
      {
       "output_type": "pyout",
       "prompt_number": 6,
       "text": [
        "<matplotlib.text.Text at 0x10d8bf5d0>"
       ]
      },
      {
       "output_type": "display_data",
       "png": "[encoded data removed]"
      }
     ],
     "prompt_number": 6
    },
    {
     "cell_type": "heading",
     "level": 1,
     "source": [
      "Sequence Retrieval"
     ]
    },
    {
     "cell_type": "code",
     "collapsed": false,
     "input": [],
     "language": "python",
     "outputs": []
    },
    {
     "cell_type": "code",
     "collapsed": false,
     "input": [
      "# # plot the storage capacity as a function of address space size\n",
      "# util.set_fig_properties()\n",
      "# data = np.hstack([hop_capacity, sdm_capacity])\n",
      "# x = np.arange(data.size)\n",
      "# labels = np.hstack([\"Hop.\", M.astype('str')])\n",
      "\n",
      "# plt.bar(x[:1], data[:1], align='center', color='r')\n",
      "# plt.bar(x[1:], data[1:], align='center', color='b')\n",
      "\n",
      "# plt.xticks(x, labels)\n",
      "# plt.xlim(-1, data.size)\n",
      "# plt.xlabel(\"M (# addresses)\")\n",
      "# plt.ylabel(\"Capacity (# uncorrupted items)\")\n",
      "# plt.title(\"SDM and Hopfield Capacities (N=%d)\" % n)\n",
      "# plt.legend(loc=0)\n"
     ],
     "language": "python",
     "outputs": [
      {
       "output_type": "stream",
       "stream": "stderr",
       "text": [
        "/usr/local/lib/python2.7/site-packages/matplotlib/axes.py:4638: UserWarning: No labeled objects found. Use label='...' kwarg on individual plots.\n",
        "  warnings.warn(\"No labeled objects found. \"\n"
       ]
      },
      {
       "output_type": "display_data",
       "png": "[encoded data removed]"
      }
     ],
     "prompt_number": 7
    },
    {
     "cell_type": "code",
     "collapsed": false,
     "input": [
      "# # plot the utilization as a function of address space size\n",
      "# util.set_fig_properties()\n",
      "# data = np.hstack([100*hop_capacity/float(n), 100*sdm_capacity/M.astype('f8')])\n",
      "# x = np.arange(data.size)\n",
      "# labels = np.hstack([\"Hop.\", M.astype('str')])\n",
      "\n",
      "# plt.bar(x[:1], data[:1], align='center', color='r')\n",
      "# plt.bar(x[1:], data[1:], align='center', color='b')\n",
      "\n",
      "# plt.xticks(x, labels)\n",
      "# plt.xlim(-1, data.size)\n",
      "# plt.xlabel(\"M (# addresses)\")\n",
      "# plt.ylabel(\"Percent Utilization\")\n",
      "# plt.title(\"SDM and Hopfield Utilizations (N=%d)\" % n)\n",
      "# plt.legend(loc=0)\n"
     ],
     "language": "python",
     "outputs": [],
     "prompt_number": 9
    }
   ]
  }
 ]
}