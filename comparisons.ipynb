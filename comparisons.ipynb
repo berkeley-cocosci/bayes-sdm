{
 "metadata": {
  "name": "comparisons"
 },
 "nbformat": 3,
 "nbformat_minor": 0,
 "worksheets": [
  {
   "cells": [
    {
     "cell_type": "heading",
     "level": 1,
     "source": [
      "SDM/Hopfield Comparison Code"
     ]
    },
    {
     "cell_type": "code",
     "collapsed": false,
     "input": [
      "\"\"\"SDM/Hopfield Comparison\n",
      "\n",
      "This code compares SDM networks and Hopfield networks on various\n",
      "properties, including appropriate parameter values, storage capacity,\n",
      "\"prototype\" retrieval, and sequence retrieval.\n",
      "\n",
      "Authors: \n",
      "  Jessica Hamrick (jhamrick@berkeley.edu)\n",
      "  Josh Abbott (joshua.abbott@berkeley.edu)\n",
      "\n",
      "\"\"\"\n"
     ],
     "language": "python",
     "outputs": [
      {
       "output_type": "pyout",
       "prompt_number": 1,
       "text": [
        "'SDM/Hopfield Comparison\\n\\nThis code compares SDM networks and Hopfield networks on various\\nproperties, including appropriate parameter values, storage capacity,\\n\"prototype\" retrieval, and sequence retrieval.\\n\\nAuthors: \\n  Jessica Hamrick (jhamrick@berkeley.edu)\\n  Josh Abbott (joshua.abbott@berkeley.edu)\\n\\n'"
       ]
      }
     ],
     "prompt_number": 1
    },
    {
     "cell_type": "code",
     "collapsed": false,
     "input": [
      "import numpy as np\n",
      "import matplotlib.pyplot as plt\n",
      "import scipy.stats\n",
      "import sdm as sdm\n",
      "import hopfield as hop\n",
      "import util as util\n",
      "import metrics as metrics\n"
     ],
     "language": "python",
     "outputs": [],
     "prompt_number": 3
    },
    {
     "cell_type": "heading",
     "level": 1,
     "source": [
      "Parameters"
     ]
    },
    {
     "cell_type": "code",
     "collapsed": false,
     "input": [
      "# SDM Parameters\n",
      "# --------------\n",
      "#   n : length of inputs\n",
      "#   m : number of addresses\n",
      "#   D : hamming radius\n",
      "\n",
      "\n",
      "# Hopfield Parameters\n",
      "# -------------------\n",
      "#   n : length of inputs\n"
     ],
     "language": "python",
     "outputs": [],
     "prompt_number": 4
    },
    {
     "cell_type": "code",
     "collapsed": false,
     "input": [
      "# length of inputs\n",
      "n = 100\n",
      "\n",
      "# hamming distance encompasses 2.5% of addresses\n",
      "D = float((n / 2.) - (np.sqrt(n*(0.5**2)) * 1.96))\n",
      "\n",
      "# error thresholds\n",
      "thresh = np.array([0, 0.01, 0.025, 0.05])\n",
      "\n",
      "# number of simulations to run\n",
      "iters = 100\n"
     ],
     "language": "python",
     "outputs": [],
     "prompt_number": 24
    },
    {
     "cell_type": "heading",
     "level": 1,
     "source": [
      "Uncorrupted Storage Capacity"
     ]
    },
    {
     "cell_type": "code",
     "collapsed": false,
     "input": [
      "# How many random, uncorrelated inputs can the SDM store?\n",
      "M = np.arange(100, 1+1000, 100)\n",
      "sdm_capacity = np.empty((thresh.size, M.size))\n",
      "for tidx, t in enumerate(thresh):\n",
      "    k = 1\n",
      "    for midx, m in enumerate(M):\n",
      "\tk = metrics.test_capacity(\n",
      "\t    (int(n), int(m), float(D)), \n",
      "\t    k=int(k), iters=int(iters), \n",
      "\t    thresh=float(t), verbose=True)\n",
      "\tsdm_capacity[tidx, midx] = k-1\n",
      "\tprint \"m=%d : capacity is %d (%d%% error tolerance)\" % (m, k-1, t*100)\n"
     ],
     "language": "python",
     "outputs": [
      {
       "output_type": "stream",
       "stream": "stdout",
       "text": [
        " 1:  0.02 +/- 0.01\n",
        "m=100 : capacity is 1 (0% error tolerance)\n",
        " 2:  0.00 +/- 0.00"
       ]
      },
      {
       "output_type": "stream",
       "stream": "stdout",
       "text": [
        "\n",
        " 3:  0.01 +/- 0.00"
       ]
      },
      {
       "output_type": "stream",
       "stream": "stdout",
       "text": [
        "\n",
        "m=200 : capacity is 3 (0% error tolerance)\n",
        " 4:  0.01 +/- 0.01"
       ]
      },
      {
       "output_type": "stream",
       "stream": "stdout",
       "text": [
        "\n",
        "m=300 : capacity is 4 (0% error tolerance)\n",
        " 5:  0.00 +/- 0.00"
       ]
      },
      {
       "output_type": "stream",
       "stream": "stdout",
       "text": [
        "\n",
        " 6:  0.00 +/- 0.00"
       ]
      },
      {
       "output_type": "stream",
       "stream": "stdout",
       "text": [
        "\n",
        " 7:  0.00 +/- 0.00"
       ]
      },
      {
       "output_type": "stream",
       "stream": "stdout",
       "text": [
        "\n",
        " 8:  0.00 +/- 0.00"
       ]
      },
      {
       "output_type": "stream",
       "stream": "stdout",
       "text": [
        "\n",
        " 9:  0.00 +/- 0.00"
       ]
      },
      {
       "output_type": "stream",
       "stream": "stdout",
       "text": [
        "\n",
        "m=400 : capacity is 9 (0% error tolerance)\n",
        "10:  0.00 +/- 0.00"
       ]
      },
      {
       "output_type": "stream",
       "stream": "stdout",
       "text": [
        "\n",
        "m=500 : capacity is 10 (0% error tolerance)\n",
        "11:  0.00 +/- 0.00"
       ]
      },
      {
       "output_type": "stream",
       "stream": "stdout",
       "text": [
        "\n",
        "12:  0.00 +/- 0.00"
       ]
      },
      {
       "output_type": "stream",
       "stream": "stdout",
       "text": [
        "\n",
        "13:  0.00 +/- 0.00"
       ]
      },
      {
       "output_type": "stream",
       "stream": "stdout",
       "text": [
        "\n",
        "14:  0.00 +/- 0.00"
       ]
      },
      {
       "output_type": "stream",
       "stream": "stdout",
       "text": [
        "\n",
        "15:  0.00 +/- 0.00"
       ]
      },
      {
       "output_type": "stream",
       "stream": "stdout",
       "text": [
        "\n",
        "m=600 : capacity is 15 (0% error tolerance)\n",
        "16:  0.00 +/- 0.00"
       ]
      },
      {
       "output_type": "stream",
       "stream": "stdout",
       "text": [
        "\n",
        "17:  0.00 +/- 0.00"
       ]
      },
      {
       "output_type": "stream",
       "stream": "stdout",
       "text": [
        "\n",
        "m=700 : capacity is 17 (0% error tolerance)\n",
        "18:  0.00 +/- 0.00"
       ]
      },
      {
       "output_type": "stream",
       "stream": "stdout",
       "text": [
        "\n",
        "19:  0.00 +/- 0.00"
       ]
      },
      {
       "output_type": "stream",
       "stream": "stdout",
       "text": [
        "\n",
        "m=800 : capacity is 19 (0% error tolerance)\n",
        "20:  0.00 +/- 0.00"
       ]
      },
      {
       "output_type": "stream",
       "stream": "stdout",
       "text": [
        "\n",
        "m=900 : capacity is 20 (0% error tolerance)\n",
        "21:  0.00 +/- 0.00"
       ]
      },
      {
       "output_type": "stream",
       "stream": "stdout",
       "text": [
        "\n",
        "22:  0.00 +/- 0.00"
       ]
      },
      {
       "output_type": "stream",
       "stream": "stdout",
       "text": [
        "\n",
        "m=1000 : capacity is 22 (0% error tolerance)\n",
        " 1:  0.02 +/- 0.01\n",
        "m=100 : capacity is 1 (1% error tolerance)\n",
        " 2:  0.00 +/- 0.00\n",
        " 3:  0.01 +/- 0.00\n",
        " 4:  0.01 +/- 0.00"
       ]
      },
      {
       "output_type": "stream",
       "stream": "stdout",
       "text": [
        "\n",
        " 5:  0.01 +/- 0.01"
       ]
      },
      {
       "output_type": "stream",
       "stream": "stdout",
       "text": [
        "\n",
        " 6:  0.01 +/- 0.00"
       ]
      },
      {
       "output_type": "stream",
       "stream": "stdout",
       "text": [
        "\n",
        " 7:  0.02 +/- 0.01"
       ]
      },
      {
       "output_type": "stream",
       "stream": "stdout",
       "text": [
        "\n",
        "m=200 : capacity is 7 (1% error tolerance)\n",
        " 8:  0.00 +/- 0.00"
       ]
      },
      {
       "output_type": "stream",
       "stream": "stdout",
       "text": [
        "\n",
        " 9:  0.00 +/- 0.00"
       ]
      },
      {
       "output_type": "stream",
       "stream": "stdout",
       "text": [
        "\n",
        "10:  0.00 +/- 0.00"
       ]
      },
      {
       "output_type": "stream",
       "stream": "stdout",
       "text": [
        "\n",
        "11:  0.00 +/- 0.00"
       ]
      },
      {
       "output_type": "stream",
       "stream": "stdout",
       "text": [
        "\n",
        "12:  0.01 +/- 0.01"
       ]
      },
      {
       "output_type": "stream",
       "stream": "stdout",
       "text": [
        "\n",
        "m=300 : capacity is 12 (1% error tolerance)\n",
        "13:  0.00 +/- 0.00"
       ]
      },
      {
       "output_type": "stream",
       "stream": "stdout",
       "text": [
        "\n",
        "14:  0.00 +/- 0.00"
       ]
      },
      {
       "output_type": "stream",
       "stream": "stdout",
       "text": [
        "\n",
        "15:  0.00 +/- 0.00"
       ]
      },
      {
       "output_type": "stream",
       "stream": "stdout",
       "text": [
        "\n",
        "16:  0.00 +/- 0.00"
       ]
      },
      {
       "output_type": "stream",
       "stream": "stdout",
       "text": [
        "\n",
        "17:  0.00 +/- 0.00"
       ]
      },
      {
       "output_type": "stream",
       "stream": "stdout",
       "text": [
        "\n",
        "18:  0.00 +/- 0.00"
       ]
      },
      {
       "output_type": "stream",
       "stream": "stdout",
       "text": [
        "\n",
        "19:  0.01 +/- 0.00"
       ]
      },
      {
       "output_type": "stream",
       "stream": "stdout",
       "text": [
        "\n",
        "20:  0.01 +/- 0.00"
       ]
      },
      {
       "output_type": "stream",
       "stream": "stdout",
       "text": [
        "\n",
        "21:  0.01 +/- 0.00"
       ]
      },
      {
       "output_type": "stream",
       "stream": "stdout",
       "text": [
        "\n",
        "22:  0.01 +/- 0.00"
       ]
      },
      {
       "output_type": "stream",
       "stream": "stdout",
       "text": [
        "\n",
        "m=400 : capacity is 22 (1% error tolerance)\n",
        "23:  0.01 +/- 0.00"
       ]
      },
      {
       "output_type": "stream",
       "stream": "stdout",
       "text": [
        "\n",
        "24:  0.01 +/- 0.00"
       ]
      },
      {
       "output_type": "stream",
       "stream": "stdout",
       "text": [
        "\n",
        "25:  0.01 +/- 0.00"
       ]
      },
      {
       "output_type": "stream",
       "stream": "stdout",
       "text": [
        "\n",
        "26:  0.01 +/- 0.00"
       ]
      },
      {
       "output_type": "stream",
       "stream": "stdout",
       "text": [
        "\n",
        "27:  0.01 +/- 0.00"
       ]
      },
      {
       "output_type": "stream",
       "stream": "stdout",
       "text": [
        "\n",
        "m=500 : capacity is 27 (1% error tolerance)\n",
        "28:  0.01 +/- 0.00"
       ]
      },
      {
       "output_type": "stream",
       "stream": "stdout",
       "text": [
        "\n",
        "29:  0.01 +/- 0.00"
       ]
      },
      {
       "output_type": "stream",
       "stream": "stdout",
       "text": [
        "\n",
        "30:  0.01 +/- 0.00"
       ]
      },
      {
       "output_type": "stream",
       "stream": "stdout",
       "text": [
        "\n",
        "31:  0.01 +/- 0.00"
       ]
      },
      {
       "output_type": "stream",
       "stream": "stdout",
       "text": [
        "\n",
        "32:  0.01 +/- 0.00"
       ]
      },
      {
       "output_type": "stream",
       "stream": "stdout",
       "text": [
        "\n",
        "m=600 : capacity is 32 (1% error tolerance)\n",
        "33:  0.01 +/- 0.00"
       ]
      },
      {
       "output_type": "stream",
       "stream": "stdout",
       "text": [
        "\n",
        "34:  0.01 +/- 0.00"
       ]
      },
      {
       "output_type": "stream",
       "stream": "stdout",
       "text": [
        "\n",
        "35:  0.01 +/- 0.00"
       ]
      },
      {
       "output_type": "stream",
       "stream": "stdout",
       "text": [
        "\n",
        "36:  0.01 +/- 0.00"
       ]
      },
      {
       "output_type": "stream",
       "stream": "stdout",
       "text": [
        "\n",
        "37:  0.01 +/- 0.00"
       ]
      },
      {
       "output_type": "stream",
       "stream": "stdout",
       "text": [
        "\n",
        "m=700 : capacity is 37 (1% error tolerance)\n",
        "38:  0.01 +/- 0.00"
       ]
      },
      {
       "output_type": "stream",
       "stream": "stdout",
       "text": [
        "\n",
        "39:  0.01 +/- 0.00"
       ]
      },
      {
       "output_type": "stream",
       "stream": "stdout",
       "text": [
        "\n",
        "40:  0.01 +/- 0.00"
       ]
      },
      {
       "output_type": "stream",
       "stream": "stdout",
       "text": [
        "\n",
        "41:  0.01 +/- 0.00"
       ]
      },
      {
       "output_type": "stream",
       "stream": "stdout",
       "text": [
        "\n",
        "m=800 : capacity is 41 (1% error tolerance)\n",
        "42:  0.01 +/- 0.00"
       ]
      },
      {
       "output_type": "stream",
       "stream": "stdout",
       "text": [
        "\n",
        "43:  0.01 +/- 0.00"
       ]
      },
      {
       "output_type": "stream",
       "stream": "stdout",
       "text": [
        "\n",
        "44:  0.01 +/- 0.00"
       ]
      },
      {
       "output_type": "stream",
       "stream": "stdout",
       "text": [
        "\n",
        "m=900 : capacity is 44 (1% error tolerance)\n",
        "45:  0.01 +/- 0.00"
       ]
      },
      {
       "output_type": "stream",
       "stream": "stdout",
       "text": [
        "\n",
        "46:  0.01 +/- 0.00"
       ]
      },
      {
       "output_type": "stream",
       "stream": "stdout",
       "text": [
        "\n",
        "47:  0.01 +/- 0.00"
       ]
      },
      {
       "output_type": "stream",
       "stream": "stdout",
       "text": [
        "\n",
        "48:  0.01 +/- 0.00"
       ]
      },
      {
       "output_type": "stream",
       "stream": "stdout",
       "text": [
        "\n",
        "m=1000 : capacity is 48 (1% error tolerance)\n",
        " 1:  0.02 +/- 0.01\n",
        " 2:  0.04 +/- 0.01"
       ]
      },
      {
       "output_type": "stream",
       "stream": "stdout",
       "text": [
        "\n",
        "m=100 : capacity is 2 (2% error tolerance)\n",
        " 3:  0.01 +/- 0.00\n",
        " 4:  0.01 +/- 0.00\n",
        " 5:  0.01 +/- 0.01\n",
        " 6:  0.01 +/- 0.00\n",
        " 7:  0.02 +/- 0.01\n",
        " 8:  0.02 +/- 0.01"
       ]
      },
      {
       "output_type": "stream",
       "stream": "stdout",
       "text": [
        "\n",
        " 9:  0.02 +/- 0.01"
       ]
      },
      {
       "output_type": "stream",
       "stream": "stdout",
       "text": [
        "\n",
        "10:  0.04 +/- 0.01"
       ]
      },
      {
       "output_type": "stream",
       "stream": "stdout",
       "text": [
        "\n",
        "m=200 : capacity is 10 (2% error tolerance)\n",
        "11:  0.00 +/- 0.00\n",
        "12:  0.01 +/- 0.01\n",
        "13:  0.01 +/- 0.00"
       ]
      },
      {
       "output_type": "stream",
       "stream": "stdout",
       "text": [
        "\n",
        "14:  0.02 +/- 0.01"
       ]
      },
      {
       "output_type": "stream",
       "stream": "stdout",
       "text": [
        "\n",
        "15:  0.01 +/- 0.00"
       ]
      },
      {
       "output_type": "stream",
       "stream": "stdout",
       "text": [
        "\n",
        "16:  0.02 +/- 0.01"
       ]
      },
      {
       "output_type": "stream",
       "stream": "stdout",
       "text": [
        "\n",
        "17:  0.02 +/- 0.00"
       ]
      },
      {
       "output_type": "stream",
       "stream": "stdout",
       "text": [
        "\n",
        "18:  0.02 +/- 0.00"
       ]
      },
      {
       "output_type": "stream",
       "stream": "stdout",
       "text": [
        "\n",
        "19:  0.03 +/- 0.01"
       ]
      },
      {
       "output_type": "stream",
       "stream": "stdout",
       "text": [
        "\n",
        "m=300 : capacity is 19 (2% error tolerance)\n",
        "20:  0.01 +/- 0.00\n",
        "21:  0.01 +/- 0.00\n",
        "22:  0.01 +/- 0.00\n",
        "23:  0.02 +/- 0.00"
       ]
      },
      {
       "output_type": "stream",
       "stream": "stdout",
       "text": [
        "\n",
        "24:  0.02 +/- 0.00"
       ]
      },
      {
       "output_type": "stream",
       "stream": "stdout",
       "text": [
        "\n",
        "25:  0.02 +/- 0.00"
       ]
      },
      {
       "output_type": "stream",
       "stream": "stdout",
       "text": [
        "\n",
        "26:  0.02 +/- 0.00"
       ]
      },
      {
       "output_type": "stream",
       "stream": "stdout",
       "text": [
        "\n",
        "27:  0.03 +/- 0.00"
       ]
      },
      {
       "output_type": "stream",
       "stream": "stdout",
       "text": [
        "\n",
        "m=400 : capacity is 27 (2% error tolerance)\n",
        "28:  0.01 +/- 0.00"
       ]
      },
      {
       "output_type": "stream",
       "stream": "stdout",
       "text": [
        "\n",
        "29:  0.01 +/- 0.00"
       ]
      },
      {
       "output_type": "stream",
       "stream": "stdout",
       "text": [
        "\n",
        "30:  0.01 +/- 0.00"
       ]
      },
      {
       "output_type": "stream",
       "stream": "stdout",
       "text": [
        "\n",
        "31:  0.02 +/- 0.00"
       ]
      },
      {
       "output_type": "stream",
       "stream": "stdout",
       "text": [
        "\n",
        "32:  0.02 +/- 0.00"
       ]
      },
      {
       "output_type": "stream",
       "stream": "stdout",
       "text": [
        "\n",
        "33:  0.02 +/- 0.00"
       ]
      },
      {
       "output_type": "stream",
       "stream": "stdout",
       "text": [
        "\n",
        "34:  0.02 +/- 0.00"
       ]
      },
      {
       "output_type": "stream",
       "stream": "stdout",
       "text": [
        "\n",
        "35:  0.02 +/- 0.00"
       ]
      },
      {
       "output_type": "stream",
       "stream": "stdout",
       "text": [
        "\n",
        "36:  0.03 +/- 0.00"
       ]
      },
      {
       "output_type": "stream",
       "stream": "stdout",
       "text": [
        "\n",
        "m=500 : capacity is 36 (2% error tolerance)\n",
        "37:  0.02 +/- 0.00"
       ]
      },
      {
       "output_type": "stream",
       "stream": "stdout",
       "text": [
        "\n",
        "38:  0.02 +/- 0.00"
       ]
      },
      {
       "output_type": "stream",
       "stream": "stdout",
       "text": [
        "\n",
        "39:  0.02 +/- 0.00"
       ]
      },
      {
       "output_type": "stream",
       "stream": "stdout",
       "text": [
        "\n",
        "40:  0.02 +/- 0.00"
       ]
      },
      {
       "output_type": "stream",
       "stream": "stdout",
       "text": [
        "\n",
        "41:  0.02 +/- 0.00"
       ]
      },
      {
       "output_type": "stream",
       "stream": "stdout",
       "text": [
        "\n",
        "42:  0.02 +/- 0.00"
       ]
      },
      {
       "output_type": "stream",
       "stream": "stdout",
       "text": [
        "\n",
        "43:  0.03 +/- 0.00"
       ]
      },
      {
       "output_type": "stream",
       "stream": "stdout",
       "text": [
        "\n",
        "m=600 : capacity is 43 (2% error tolerance)\n",
        "44:  0.02 +/- 0.00"
       ]
      },
      {
       "output_type": "stream",
       "stream": "stdout",
       "text": [
        "\n",
        "45:  0.02 +/- 0.00"
       ]
      },
      {
       "output_type": "stream",
       "stream": "stdout",
       "text": [
        "\n",
        "46:  0.02 +/- 0.00"
       ]
      },
      {
       "output_type": "stream",
       "stream": "stdout",
       "text": [
        "\n",
        "47:  0.02 +/- 0.00"
       ]
      },
      {
       "output_type": "stream",
       "stream": "stdout",
       "text": [
        "\n",
        "48:  0.02 +/- 0.00"
       ]
      },
      {
       "output_type": "stream",
       "stream": "stdout",
       "text": [
        "\n",
        "49:  0.02 +/- 0.00"
       ]
      },
      {
       "output_type": "stream",
       "stream": "stdout",
       "text": [
        "\n",
        "50:  0.02 +/- 0.00"
       ]
      },
      {
       "output_type": "stream",
       "stream": "stdout",
       "text": [
        "\n",
        "51:  0.02 +/- 0.00"
       ]
      },
      {
       "output_type": "stream",
       "stream": "stdout",
       "text": [
        "\n",
        "52:  0.03 +/- 0.00"
       ]
      },
      {
       "output_type": "stream",
       "stream": "stdout",
       "text": [
        "\n",
        "m=700 : capacity is 52 (2% error tolerance)\n",
        "53:  0.02 +/- 0.00"
       ]
      },
      {
       "output_type": "stream",
       "stream": "stdout",
       "text": [
        "\n",
        "54:  0.02 +/- 0.00"
       ]
      },
      {
       "output_type": "stream",
       "stream": "stdout",
       "text": [
        "\n",
        "55:  0.02 +/- 0.00"
       ]
      },
      {
       "output_type": "stream",
       "stream": "stdout",
       "text": [
        "\n",
        "56:  0.02 +/- 0.00"
       ]
      },
      {
       "output_type": "stream",
       "stream": "stdout",
       "text": [
        "\n",
        "57:  0.02 +/- 0.00"
       ]
      },
      {
       "output_type": "stream",
       "stream": "stdout",
       "text": [
        "\n",
        "58:  0.02 +/- 0.00"
       ]
      },
      {
       "output_type": "stream",
       "stream": "stdout",
       "text": [
        "\n",
        "59:  0.02 +/- 0.00"
       ]
      },
      {
       "output_type": "stream",
       "stream": "stdout",
       "text": [
        "\n",
        "60:  0.03 +/- 0.00"
       ]
      },
      {
       "output_type": "stream",
       "stream": "stdout",
       "text": [
        "\n",
        "m=800 : capacity is 60 (2% error tolerance)\n",
        "61:  0.02 +/- 0.00"
       ]
      },
      {
       "output_type": "stream",
       "stream": "stdout",
       "text": [
        "\n",
        "62:  0.02 +/- 0.00"
       ]
      },
      {
       "output_type": "stream",
       "stream": "stdout",
       "text": [
        "\n",
        "63:  0.02 +/- 0.00"
       ]
      },
      {
       "output_type": "stream",
       "stream": "stdout",
       "text": [
        "\n",
        "64:  0.03 +/- 0.00"
       ]
      },
      {
       "output_type": "stream",
       "stream": "stdout",
       "text": [
        "\n",
        "m=900 : capacity is 64 (2% error tolerance)\n",
        "65:  0.02 +/- 0.00"
       ]
      },
      {
       "output_type": "stream",
       "stream": "stdout",
       "text": [
        "\n",
        "66:  0.02 +/- 0.00"
       ]
      },
      {
       "output_type": "stream",
       "stream": "stdout",
       "text": [
        "\n",
        "67:  0.02 +/- 0.00"
       ]
      },
      {
       "output_type": "stream",
       "stream": "stdout",
       "text": [
        "\n",
        "68:  0.02 +/- 0.00"
       ]
      },
      {
       "output_type": "stream",
       "stream": "stdout",
       "text": [
        "\n",
        "69:  0.02 +/- 0.00"
       ]
      },
      {
       "output_type": "stream",
       "stream": "stdout",
       "text": [
        "\n",
        "70:  0.03 +/- 0.00"
       ]
      },
      {
       "output_type": "stream",
       "stream": "stdout",
       "text": [
        "\n",
        "m=1000 : capacity is 70 (2% error tolerance)\n",
        " 1:  0.02 +/- 0.01\n",
        " 2:  0.04 +/- 0.01\n",
        " 3:  0.07 +/- 0.02"
       ]
      },
      {
       "output_type": "stream",
       "stream": "stdout",
       "text": [
        "\n",
        "m=100 : capacity is 3 (5% error tolerance)\n",
        " 4:  0.01 +/- 0.00\n",
        " 5:  0.01 +/- 0.01\n",
        " 6:  0.01 +/- 0.00\n",
        " 7:  0.02 +/- 0.01"
       ]
      },
      {
       "output_type": "stream",
       "stream": "stdout",
       "text": [
        "\n",
        " 8:  0.02 +/- 0.01\n",
        " 9:  0.02 +/- 0.01\n",
        "10:  0.04 +/- 0.01\n",
        "11:  0.05 +/- 0.01"
       ]
      },
      {
       "output_type": "stream",
       "stream": "stdout",
       "text": [
        "\n",
        "12:  0.06 +/- 0.01"
       ]
      },
      {
       "output_type": "stream",
       "stream": "stdout",
       "text": [
        "\n",
        "m=200 : capacity is 12 (5% error tolerance)\n",
        "13:  0.01 +/- 0.00\n",
        "14:  0.02 +/- 0.01\n",
        "15:  0.01 +/- 0.00\n",
        "16:  0.02 +/- 0.01\n",
        "17:  0.02 +/- 0.00\n",
        "18:  0.02 +/- 0.00\n",
        "19:  0.03 +/- 0.01\n",
        "20:  0.03 +/- 0.00"
       ]
      },
      {
       "output_type": "stream",
       "stream": "stdout",
       "text": [
        "\n",
        "21:  0.03 +/- 0.00"
       ]
      },
      {
       "output_type": "stream",
       "stream": "stdout",
       "text": [
        "\n",
        "22:  0.05 +/- 0.01"
       ]
      },
      {
       "output_type": "stream",
       "stream": "stdout",
       "text": [
        "\n",
        "23:  0.04 +/- 0.01"
       ]
      },
      {
       "output_type": "stream",
       "stream": "stdout",
       "text": [
        "\n",
        "24:  0.05 +/- 0.01"
       ]
      },
      {
       "output_type": "stream",
       "stream": "stdout",
       "text": [
        "\n",
        "25:  0.06 +/- 0.00"
       ]
      },
      {
       "output_type": "stream",
       "stream": "stdout",
       "text": [
        "\n",
        "m=300 : capacity is 25 (5% error tolerance)\n",
        "26:  0.02 +/- 0.00\n",
        "27:  0.03 +/- 0.00\n",
        "28:  0.02 +/- 0.00"
       ]
      },
      {
       "output_type": "stream",
       "stream": "stdout",
       "text": [
        "\n",
        "29:  0.03 +/- 0.00"
       ]
      },
      {
       "output_type": "stream",
       "stream": "stdout",
       "text": [
        "\n",
        "30:  0.03 +/- 0.00"
       ]
      },
      {
       "output_type": "stream",
       "stream": "stdout",
       "text": [
        "\n",
        "31:  0.03 +/- 0.00"
       ]
      },
      {
       "output_type": "stream",
       "stream": "stdout",
       "text": [
        "\n",
        "32:  0.04 +/- 0.00"
       ]
      },
      {
       "output_type": "stream",
       "stream": "stdout",
       "text": [
        "\n",
        "33:  0.04 +/- 0.00"
       ]
      },
      {
       "output_type": "stream",
       "stream": "stdout",
       "text": [
        "\n",
        "34:  0.04 +/- 0.00"
       ]
      },
      {
       "output_type": "stream",
       "stream": "stdout",
       "text": [
        "\n",
        "35:  0.04 +/- 0.00"
       ]
      },
      {
       "output_type": "stream",
       "stream": "stdout",
       "text": [
        "\n",
        "36:  0.05 +/- 0.00"
       ]
      },
      {
       "output_type": "stream",
       "stream": "stdout",
       "text": [
        "\n",
        "37:  0.05 +/- 0.00"
       ]
      },
      {
       "output_type": "stream",
       "stream": "stdout",
       "text": [
        "\n",
        "38:  0.05 +/- 0.00"
       ]
      },
      {
       "output_type": "stream",
       "stream": "stdout",
       "text": [
        "\n",
        "m=400 : capacity is 38 (5% error tolerance)\n",
        "39:  0.03 +/- 0.00"
       ]
      },
      {
       "output_type": "stream",
       "stream": "stdout",
       "text": [
        "\n",
        "40:  0.03 +/- 0.00"
       ]
      },
      {
       "output_type": "stream",
       "stream": "stdout",
       "text": [
        "\n",
        "41:  0.03 +/- 0.00"
       ]
      },
      {
       "output_type": "stream",
       "stream": "stdout",
       "text": [
        "\n",
        "42:  0.04 +/- 0.00"
       ]
      },
      {
       "output_type": "stream",
       "stream": "stdout",
       "text": [
        "\n",
        "43:  0.04 +/- 0.00"
       ]
      },
      {
       "output_type": "stream",
       "stream": "stdout",
       "text": [
        "\n",
        "44:  0.04 +/- 0.00"
       ]
      },
      {
       "output_type": "stream",
       "stream": "stdout",
       "text": [
        "\n",
        "45:  0.04 +/- 0.00"
       ]
      },
      {
       "output_type": "stream",
       "stream": "stdout",
       "text": [
        "\n",
        "46:  0.04 +/- 0.00"
       ]
      },
      {
       "output_type": "stream",
       "stream": "stdout",
       "text": [
        "\n",
        "47:  0.04 +/- 0.00"
       ]
      },
      {
       "output_type": "stream",
       "stream": "stdout",
       "text": [
        "\n",
        "48:  0.04 +/- 0.00"
       ]
      },
      {
       "output_type": "stream",
       "stream": "stdout",
       "text": [
        "\n",
        "49:  0.04 +/- 0.00"
       ]
      },
      {
       "output_type": "stream",
       "stream": "stdout",
       "text": [
        "\n",
        "50:  0.05 +/- 0.00"
       ]
      },
      {
       "output_type": "stream",
       "stream": "stdout",
       "text": [
        "\n",
        "51:  0.05 +/- 0.00"
       ]
      },
      {
       "output_type": "stream",
       "stream": "stdout",
       "text": [
        "\n",
        "m=500 : capacity is 51 (5% error tolerance)\n",
        "52:  0.04 +/- 0.00"
       ]
      },
      {
       "output_type": "stream",
       "stream": "stdout",
       "text": [
        "\n",
        "53:  0.03 +/- 0.00"
       ]
      },
      {
       "output_type": "stream",
       "stream": "stdout",
       "text": [
        "\n",
        "54:  0.04 +/- 0.00"
       ]
      },
      {
       "output_type": "stream",
       "stream": "stdout",
       "text": [
        "\n",
        "55:  0.04 +/- 0.00"
       ]
      },
      {
       "output_type": "stream",
       "stream": "stdout",
       "text": [
        "\n",
        "56:  0.04 +/- 0.00"
       ]
      },
      {
       "output_type": "stream",
       "stream": "stdout",
       "text": [
        "\n",
        "57:  0.04 +/- 0.00"
       ]
      },
      {
       "output_type": "stream",
       "stream": "stdout",
       "text": [
        "\n",
        "58:  0.04 +/- 0.00"
       ]
      },
      {
       "output_type": "stream",
       "stream": "stdout",
       "text": [
        "\n",
        "59:  0.05 +/- 0.00"
       ]
      },
      {
       "output_type": "stream",
       "stream": "stdout",
       "text": [
        "\n",
        "60:  0.05 +/- 0.00"
       ]
      },
      {
       "output_type": "stream",
       "stream": "stdout",
       "text": [
        "\n",
        "61:  0.05 +/- 0.00"
       ]
      },
      {
       "output_type": "stream",
       "stream": "stdout",
       "text": [
        "\n",
        "62:  0.04 +/- 0.00"
       ]
      },
      {
       "output_type": "stream",
       "stream": "stdout",
       "text": [
        "\n",
        "63:  0.05 +/- 0.00"
       ]
      },
      {
       "output_type": "stream",
       "stream": "stdout",
       "text": [
        "\n",
        "64:  0.05 +/- 0.00"
       ]
      },
      {
       "output_type": "stream",
       "stream": "stdout",
       "text": [
        "\n",
        "m=600 : capacity is 64 (5% error tolerance)\n",
        "65:  0.04 +/- 0.00"
       ]
      },
      {
       "output_type": "stream",
       "stream": "stdout",
       "text": [
        "\n",
        "66:  0.04 +/- 0.00"
       ]
      },
      {
       "output_type": "stream",
       "stream": "stdout",
       "text": [
        "\n",
        "67:  0.04 +/- 0.00"
       ]
      },
      {
       "output_type": "stream",
       "stream": "stdout",
       "text": [
        "\n",
        "68:  0.04 +/- 0.00"
       ]
      },
      {
       "output_type": "stream",
       "stream": "stdout",
       "text": [
        "\n",
        "69:  0.04 +/- 0.00"
       ]
      },
      {
       "output_type": "stream",
       "stream": "stdout",
       "text": [
        "\n",
        "70:  0.04 +/- 0.00"
       ]
      },
      {
       "output_type": "stream",
       "stream": "stdout",
       "text": [
        "\n",
        "71:  0.04 +/- 0.00"
       ]
      },
      {
       "output_type": "stream",
       "stream": "stdout",
       "text": [
        "\n",
        "72:  0.05 +/- 0.00"
       ]
      },
      {
       "output_type": "stream",
       "stream": "stdout",
       "text": [
        "\n",
        "73:  0.05 +/- 0.00"
       ]
      },
      {
       "output_type": "stream",
       "stream": "stdout",
       "text": [
        "\n",
        "74:  0.05 +/- 0.00"
       ]
      },
      {
       "output_type": "stream",
       "stream": "stdout",
       "text": [
        "\n",
        "75:  0.05 +/- 0.00"
       ]
      },
      {
       "output_type": "stream",
       "stream": "stdout",
       "text": [
        "\n",
        "76:  0.05 +/- 0.00"
       ]
      },
      {
       "output_type": "stream",
       "stream": "stdout",
       "text": [
        "\n",
        "m=700 : capacity is 76 (5% error tolerance)\n",
        "77:  0.04 +/- 0.00"
       ]
      }
     ],
     "prompt_number": "*"
    },
    {
     "cell_type": "code",
     "collapsed": false,
     "input": [
      "# How many random, uncorrelated inputs can the Hopfield net store?\n",
      "hop_capacity = np.empty(thresh.size)\n",
      "k = 1\n",
      "for tidx, t in enumerate(thresh):\n",
      "    k = metrics.test_capacity(\n",
      "\tint(n), k=int(k), iters=int(iters), \n",
      "\tthresh=float(t), verbose=True)\n",
      "    hop_capacity[tidx] = k-1\n",
      "    print \"capacity is %d (%d%% error tolerance)\" % (k-1, t*100)\n"
     ],
     "language": "python",
     "outputs": [
      {
       "output_type": "stream",
       "stream": "stdout",
       "text": [
        " 1:  0.00 +/- 0.00\n",
        " 2:  0.00 +/- 0.00"
       ]
      },
      {
       "output_type": "stream",
       "stream": "stdout",
       "text": [
        "\n",
        " 3:  0.00 +/- 0.00"
       ]
      },
      {
       "output_type": "stream",
       "stream": "stdout",
       "text": [
        "\n",
        " 4:  0.00 +/- 0.00"
       ]
      },
      {
       "output_type": "stream",
       "stream": "stdout",
       "text": [
        "\n",
        " 5:  0.00 +/- 0.00"
       ]
      },
      {
       "output_type": "stream",
       "stream": "stdout",
       "text": [
        "\n",
        " 6:  0.00 +/- 0.00"
       ]
      },
      {
       "output_type": "stream",
       "stream": "stdout",
       "text": [
        "\n",
        " 7:  0.00 +/- 0.00"
       ]
      },
      {
       "output_type": "stream",
       "stream": "stdout",
       "text": [
        "\n",
        " 8:  0.00 +/- 0.00"
       ]
      },
      {
       "output_type": "stream",
       "stream": "stdout",
       "text": [
        "\n",
        " 9:  0.00 +/- 0.00"
       ]
      },
      {
       "output_type": "stream",
       "stream": "stdout",
       "text": [
        "\n",
        "capacity is 9 (0% error tolerance)\n",
        "10:  0.00 +/- 0.00"
       ]
      },
      {
       "output_type": "stream",
       "stream": "stdout",
       "text": [
        "\n",
        "11:  0.00 +/- 0.00"
       ]
      },
      {
       "output_type": "stream",
       "stream": "stdout",
       "text": [
        "\n",
        "12:  0.00 +/- 0.00"
       ]
      },
      {
       "output_type": "stream",
       "stream": "stdout",
       "text": [
        "\n",
        "13:  0.01 +/- 0.00"
       ]
      },
      {
       "output_type": "stream",
       "stream": "stdout",
       "text": [
        "\n",
        "14:  0.01 +/- 0.00"
       ]
      },
      {
       "output_type": "stream",
       "stream": "stdout",
       "text": [
        "\n",
        "15:  0.01 +/- 0.00"
       ]
      },
      {
       "output_type": "stream",
       "stream": "stdout",
       "text": [
        "\n",
        "16:  0.01 +/- 0.00"
       ]
      },
      {
       "output_type": "stream",
       "stream": "stdout",
       "text": [
        "\n",
        "capacity is 16 (1% error tolerance)\n",
        "17:  0.01 +/- 0.00"
       ]
      },
      {
       "output_type": "stream",
       "stream": "stdout",
       "text": [
        "\n",
        "18:  0.01 +/- 0.00"
       ]
      },
      {
       "output_type": "stream",
       "stream": "stdout",
       "text": [
        "\n",
        "19:  0.02 +/- 0.00"
       ]
      },
      {
       "output_type": "stream",
       "stream": "stdout",
       "text": [
        "\n",
        "20:  0.02 +/- 0.00"
       ]
      },
      {
       "output_type": "stream",
       "stream": "stdout",
       "text": [
        "\n",
        "21:  0.02 +/- 0.00"
       ]
      },
      {
       "output_type": "stream",
       "stream": "stdout",
       "text": [
        "\n",
        "22:  0.02 +/- 0.00"
       ]
      },
      {
       "output_type": "stream",
       "stream": "stdout",
       "text": [
        "\n",
        "23:  0.02 +/- 0.00"
       ]
      },
      {
       "output_type": "stream",
       "stream": "stdout",
       "text": [
        "\n",
        "24:  0.02 +/- 0.00"
       ]
      },
      {
       "output_type": "stream",
       "stream": "stdout",
       "text": [
        "\n",
        "25:  0.03 +/- 0.00"
       ]
      },
      {
       "output_type": "stream",
       "stream": "stdout",
       "text": [
        "\n",
        "capacity is 25 (2% error tolerance)\n",
        "26:  0.03 +/- 0.00"
       ]
      },
      {
       "output_type": "stream",
       "stream": "stdout",
       "text": [
        "\n",
        "27:  0.03 +/- 0.00"
       ]
      },
      {
       "output_type": "stream",
       "stream": "stdout",
       "text": [
        "\n",
        "28:  0.03 +/- 0.00"
       ]
      },
      {
       "output_type": "stream",
       "stream": "stdout",
       "text": [
        "\n",
        "29:  0.03 +/- 0.00"
       ]
      },
      {
       "output_type": "stream",
       "stream": "stdout",
       "text": [
        "\n",
        "30:  0.03 +/- 0.00"
       ]
      },
      {
       "output_type": "stream",
       "stream": "stdout",
       "text": [
        "\n",
        "31:  0.03 +/- 0.00"
       ]
      },
      {
       "output_type": "stream",
       "stream": "stdout",
       "text": [
        "\n",
        "32:  0.03 +/- 0.00"
       ]
      },
      {
       "output_type": "stream",
       "stream": "stdout",
       "text": [
        "\n",
        "33:  0.04 +/- 0.00"
       ]
      },
      {
       "output_type": "stream",
       "stream": "stdout",
       "text": [
        "\n",
        "34:  0.04 +/- 0.00"
       ]
      },
      {
       "output_type": "stream",
       "stream": "stdout",
       "text": [
        "\n",
        "35:  0.03 +/- 0.00"
       ]
      },
      {
       "output_type": "stream",
       "stream": "stdout",
       "text": [
        "\n",
        "36:  0.04 +/- 0.00"
       ]
      },
      {
       "output_type": "stream",
       "stream": "stdout",
       "text": [
        "\n",
        "37:  0.04 +/- 0.00"
       ]
      },
      {
       "output_type": "stream",
       "stream": "stdout",
       "text": [
        "\n",
        "38:  0.04 +/- 0.00"
       ]
      },
      {
       "output_type": "stream",
       "stream": "stdout",
       "text": [
        "\n",
        "39:  0.04 +/- 0.00"
       ]
      },
      {
       "output_type": "stream",
       "stream": "stdout",
       "text": [
        "\n",
        "40:  0.04 +/- 0.00"
       ]
      },
      {
       "output_type": "stream",
       "stream": "stdout",
       "text": [
        "\n",
        "41:  0.04 +/- 0.00"
       ]
      },
      {
       "output_type": "stream",
       "stream": "stdout",
       "text": [
        "\n",
        "42:  0.04 +/- 0.00"
       ]
      },
      {
       "output_type": "stream",
       "stream": "stdout",
       "text": [
        "\n",
        "43:  0.04 +/- 0.00"
       ]
      },
      {
       "output_type": "stream",
       "stream": "stdout",
       "text": [
        "\n",
        "44:  0.04 +/- 0.00"
       ]
      },
      {
       "output_type": "stream",
       "stream": "stdout",
       "text": [
        "\n",
        "45:  0.04 +/- 0.00"
       ]
      },
      {
       "output_type": "stream",
       "stream": "stdout",
       "text": [
        "\n",
        "46:  0.04 +/- 0.00"
       ]
      },
      {
       "output_type": "stream",
       "stream": "stdout",
       "text": [
        "\n",
        "47:  0.05 +/- 0.00"
       ]
      },
      {
       "output_type": "stream",
       "stream": "stdout",
       "text": [
        "\n",
        "48:  0.05 +/- 0.00"
       ]
      },
      {
       "output_type": "stream",
       "stream": "stdout",
       "text": [
        "\n",
        "49:  0.05 +/- 0.00"
       ]
      },
      {
       "output_type": "stream",
       "stream": "stdout",
       "text": [
        "\n",
        "50:  0.05 +/- 0.00"
       ]
      },
      {
       "output_type": "stream",
       "stream": "stdout",
       "text": [
        "\n",
        "51:  0.05 +/- 0.00"
       ]
      },
      {
       "output_type": "stream",
       "stream": "stdout",
       "text": [
        "\n",
        "52:  0.05 +/- 0.00"
       ]
      },
      {
       "output_type": "stream",
       "stream": "stdout",
       "text": [
        "\n",
        "53:  0.05 +/- 0.00"
       ]
      },
      {
       "output_type": "stream",
       "stream": "stdout",
       "text": [
        "\n",
        "54:  0.05 +/- 0.00"
       ]
      },
      {
       "output_type": "stream",
       "stream": "stdout",
       "text": [
        "\n",
        "55:  0.05 +/- 0.00"
       ]
      },
      {
       "output_type": "stream",
       "stream": "stdout",
       "text": [
        "\n",
        "56:  0.05 +/- 0.00"
       ]
      },
      {
       "output_type": "stream",
       "stream": "stdout",
       "text": [
        "\n",
        "capacity is 56 (5% error tolerance)\n"
       ]
      }
     ],
     "prompt_number": 23
    },
    {
     "cell_type": "code",
     "collapsed": false,
     "input": [
      "# plot the storage capacity as a function of address space size\n",
      "plt.clf()\n",
      "colors = ['b', 'g', 'r', 'c']\n",
      "for tidx, t in enumerate(thresh):\n",
      "    plt.plot(M, hop_capacity[tidx, None]*np.ones_like(M), \n",
      "\t     label='Hopfield %.1f%% err. tol.' % (t*100), \n",
      "\t     color=colors[tidx], linestyle='--')\n",
      "    plt.plot(M, sdm_capacity[tidx], \n",
      "\t     label='SDM %.1f%% err. tol.' % (t*100), \n",
      "\t     color=colors[tidx], linestyle='-')\n",
      "plt.xlabel(\"M (# addresses)\")\n",
      "plt.ylabel(\"Capacity (# uncorrupted items)\")\n",
      "plt.title(\"SDM and Hopfield Capacities (N=%d)\" % n)\n",
      "plt.legend(loc=0)\n"
     ],
     "language": "python",
     "outputs": [
      {
       "output_type": "pyout",
       "prompt_number": 14,
       "text": [
        "<matplotlib.legend.Legend at 0x105d37710>"
       ]
      },
      {
       "output_type": "display_data",
       "png": "[encoded data removed]"
      }
     ],
     "prompt_number": 14
    },
    {
     "cell_type": "code",
     "collapsed": false,
     "input": [
      "# plot the utilization as a function of address space size\n",
      "plt.clf()\n",
      "for tidx, t in enumerate(thresh):\n",
      "    plt.plot(M, 100*hop_capacity[tidx, None]*np.ones_like(M) / float(n), \n",
      "\t     label='Hopfield %.1f%% err. tol.' % (t*100),\n",
      "\t     color=colors[tidx], linestyle='--')\n",
      "    plt.plot(M, 100 * capacity[tidx] / M.astype('f8'),\n",
      "\t     label='SDM %.1f%% err. tol.' % (t*100),\n",
      "\t     color=colors[tidx], linestyle='-')\n",
      "plt.xlabel(\"M (# addresses)\")\n",
      "plt.ylabel(\"Percent Utilization\")\n",
      "plt.title(\"SDM and Hopfield Utilizations (N=%d)\" % n)\n",
      "plt.legend(loc=0)\n"
     ],
     "language": "python",
     "outputs": [
      {
       "output_type": "pyout",
       "prompt_number": 16,
       "text": [
        "<matplotlib.legend.Legend at 0x1020e32d0>"
       ]
      },
      {
       "output_type": "display_data",
       "png": "[encoded data removed]"
      }
     ],
     "prompt_number": 16
    },
    {
     "cell_type": "heading",
     "level": 1,
     "source": [
      "Noise Tolerance"
     ]
    },
    {
     "cell_type": "code",
     "collapsed": false,
     "input": [
      "# How many random, uncorrelated inputs can the SDM store?\n",
      "M = [100, 200, 400, 600, 800, 1000]\n",
      "capacity = []\n",
      "for m in M:\n",
      "    rso.seed(0)\n",
      "    mem = sdm.SDM(n, m, D, seed=rso)\n",
      "    corruption = test_uncorrelated_capacity(mem, iters=100, rso=rso, verbose=False)\n",
      "    capacity.append(corruption.shape[0]-1)\n",
      "    print \"m=%d : capacity is %d\" % (M, capacity[-1])\n"
     ],
     "language": "python",
     "outputs": []
    },
    {
     "cell_type": "heading",
     "level": 1,
     "source": [
      "Prototype Retrieval"
     ]
    },
    {
     "cell_type": "code",
     "collapsed": false,
     "input": [],
     "language": "python",
     "outputs": []
    },
    {
     "cell_type": "heading",
     "level": 1,
     "source": [
      "Sequence Retrieval"
     ]
    },
    {
     "cell_type": "code",
     "collapsed": false,
     "input": [],
     "language": "python",
     "outputs": []
    },
    {
     "cell_type": "heading",
     "level": 1,
     "source": [
      "Address/Data Distinction"
     ]
    },
    {
     "cell_type": "code",
     "collapsed": false,
     "input": [],
     "language": "python",
     "outputs": []
    }
   ]
  }
 ]
}